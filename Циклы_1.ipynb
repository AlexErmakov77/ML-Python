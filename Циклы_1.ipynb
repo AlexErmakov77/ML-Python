{
  "nbformat": 4,
  "nbformat_minor": 0,
  "metadata": {
    "colab": {
      "provenance": [],
      "collapsed_sections": [],
      "authorship_tag": "ABX9TyOU/SK0GQB5+yktKNeG1hL+",
      "include_colab_link": true
    },
    "kernelspec": {
      "name": "python3",
      "display_name": "Python 3"
    },
    "language_info": {
      "name": "python"
    }
  },
  "cells": [
    {
      "cell_type": "markdown",
      "metadata": {
        "id": "view-in-github",
        "colab_type": "text"
      },
      "source": [
        "<a href=\"https://colab.research.google.com/github/AlexErmakov77/ML-Python/blob/main/%D0%A6%D0%B8%D0%BA%D0%BB%D1%8B_1.ipynb\" target=\"_parent\"><img src=\"https://colab.research.google.com/assets/colab-badge.svg\" alt=\"Open In Colab\"/></a>"
      ]
    },
    {
      "cell_type": "code",
      "metadata": {
        "id": "dNg336Tc7fU7",
        "colab": {
          "base_uri": "https://localhost:8080/"
        },
        "outputId": "b6f2b72b-fd96-46c2-d7f8-4c2aae4dbf5a"
      },
      "source": [
        "# считаем сумму введеных 10 чисел и выводим ее на печать\n",
        "var = 1\n",
        "var_sum = 0\n",
        "while var <= 10:\n",
        "# выводим значение переменной\n",
        "   var_a = int(input (\"Введите число а = \\a\"))\n",
        "   var_sum += var_a\n",
        "# увеличиваем переменную на 1\n",
        "   var += 1\n",
        "print(var_sum)   "
      ],
      "execution_count": null,
      "outputs": [
        {
          "output_type": "stream",
          "name": "stdout",
          "text": [
            "Введите число а = \u00070\n",
            "Введите число а = \u00071\n",
            "Введите число а = \u00072\n",
            "Введите число а = \u00073\n",
            "Введите число а = \u00074\n",
            "Введите число а = \u00075\n",
            "Введите число а = \u00076\n",
            "Введите число а = \u00077\n",
            "Введите число а = \u00078\n",
            "Введите число а = \u00079\n",
            "45\n"
          ]
        }
      ]
    },
    {
      "cell_type": "code",
      "metadata": {
        "colab": {
          "base_uri": "https://localhost:8080/"
        },
        "id": "e2inICLZ9fxA",
        "outputId": "2b2c84ea-9109-442c-a29e-e6be4ce9dbe2"
      },
      "source": [
        "# считаем сумму введеных 10 чисел и выводим ее на печать\n",
        "var_sum = 0\n",
        "for i in [758, 483, 893, 393, 293, 292, 292, 485, 828, 182]:\n",
        "    print(i)\n",
        "    var_sum += i\n",
        "print(var_sum )    "
      ],
      "execution_count": null,
      "outputs": [
        {
          "output_type": "stream",
          "name": "stdout",
          "text": [
            "758\n",
            "483\n",
            "893\n",
            "393\n",
            "293\n",
            "292\n",
            "292\n",
            "485\n",
            "828\n",
            "182\n",
            "4899\n"
          ]
        }
      ]
    },
    {
      "cell_type": "code",
      "metadata": {
        "colab": {
          "base_uri": "https://localhost:8080/"
        },
        "id": "xhAS5dBG_roX",
        "outputId": "207b3412-35f8-431a-eebf-03647b84428e"
      },
      "source": [
        "# считаем количество 0 в числовой последовательности   задание 2 \n",
        "var_sum = 0\n",
        "for i in [ 700, 8, 89, 20, 13]:\n",
        "    print(i)\n",
        "    if i == 0: \n",
        "        var_sum += 1\n",
        "print(var_sum )    \n"
      ],
      "execution_count": null,
      "outputs": [
        {
          "output_type": "stream",
          "name": "stdout",
          "text": [
            "700\n",
            "8\n",
            "89\n",
            "20\n",
            "13\n",
            "0\n"
          ]
        }
      ]
    },
    {
      "cell_type": "code",
      "metadata": {
        "colab": {
          "base_uri": "https://localhost:8080/"
        },
        "id": "M_EWXYr_BGrv",
        "outputId": "a2e48d6e-c9d9-4d64-c631-382a9387cdaa"
      },
      "source": [
        "# вывод на печать лесенки от 1 до  любого числа цикл for задание 3\n",
        "a = int(input (\"Введите число а = \\a\"))\n",
        "for i in range(1,a+1):\n",
        "    print(i,)\n",
        "    if i == a:\n",
        "      break\n",
        "    for i in range(0,i):\n",
        "      print(i+1,end='')"
      ],
      "execution_count": null,
      "outputs": [
        {
          "output_type": "stream",
          "name": "stdout",
          "text": [
            "Введите число а = \u000730\n",
            "1\n",
            "12\n",
            "123\n",
            "1234\n",
            "12345\n",
            "123456\n",
            "1234567\n",
            "12345678\n",
            "123456789\n",
            "12345678910\n",
            "1234567891011\n",
            "123456789101112\n",
            "12345678910111213\n",
            "1234567891011121314\n",
            "123456789101112131415\n",
            "12345678910111213141516\n",
            "1234567891011121314151617\n",
            "123456789101112131415161718\n",
            "12345678910111213141516171819\n",
            "1234567891011121314151617181920\n",
            "123456789101112131415161718192021\n",
            "12345678910111213141516171819202122\n",
            "1234567891011121314151617181920212223\n",
            "123456789101112131415161718192021222324\n",
            "12345678910111213141516171819202122232425\n",
            "1234567891011121314151617181920212223242526\n",
            "123456789101112131415161718192021222324252627\n",
            "12345678910111213141516171819202122232425262728\n",
            "1234567891011121314151617181920212223242526272829\n",
            "123456789101112131415161718192021222324252627282930\n"
          ]
        }
      ]
    },
    {
      "cell_type": "code",
      "metadata": {
        "colab": {
          "base_uri": "https://localhost:8080/"
        },
        "id": "_goKh_EUEPpE",
        "outputId": "2648486f-3735-41d9-bace-dbce5c26ac04"
      },
      "source": [
        "# вывод на печать пирамиды от 1 до 10 или любого числа цикл for задание 4\n",
        "\n",
        "num = int(input (\"Введите число а = \\a\"))\n",
        "space = \" \"\n",
        "\n",
        "for i in range(1, num+1):\n",
        "    for num_of_spaces in range(i+1, 1, -num):\n",
        "        x = (i-1)\n",
        "        spaces = space*(num-x)\n",
        "        print(spaces, end=\"\")\n",
        "    for inv_rec in range(i, 1, -1):\n",
        "        print(inv_rec, end=\"\")\n",
        "    for rec in range(1, i+1):\n",
        "        print(rec, end=\"\")\n",
        "    print(\"\")"
      ],
      "execution_count": null,
      "outputs": [
        {
          "output_type": "stream",
          "name": "stdout",
          "text": [
            "Введите число а = \u000715\n",
            "               1\n",
            "              212\n",
            "             32123\n",
            "            4321234\n",
            "           543212345\n",
            "          65432123456\n",
            "         7654321234567\n",
            "        876543212345678\n",
            "       98765432123456789\n",
            "      109876543212345678910\n",
            "     1110987654321234567891011\n",
            "    12111098765432123456789101112\n",
            "   131211109876543212345678910111213\n",
            "  1413121110987654321234567891011121314\n",
            " 15141312111098765432123456789101112131415\n"
          ]
        }
      ]
    },
    {
      "cell_type": "code",
      "metadata": {
        "colab": {
          "base_uri": "https://localhost:8080/"
        },
        "id": "zNA7nFuVP9V9",
        "outputId": "e65244fd-3bcf-4581-f8d7-aaf357da9672"
      },
      "source": [
        "num = int(input (\"Введите число а = \\a\"))\n",
        "space = \" \"\n",
        "\n",
        "for i in range(1, num+1):\n",
        "    for num_of_spaces in range(i+1, 1, -num):\n",
        "        x = (i-1)\n",
        "        spaces = space*(num-x)\n",
        "        print(spaces, end=\"\")\n",
        "    for inv_rec in range(i, 1, -1):\n",
        "        print(inv_rec, end=\"\")\n",
        "    for rec in range(1, i+1):\n",
        "        print(rec, end=\"\")\n",
        "    print(\"\")\n",
        "for i in range(num+1, 1, -1):\n",
        "    for num_of_spaces in range(i+1, 1, -num):\n",
        "        x = (i-1)\n",
        "        spaces = space*(num-x)\n",
        "        print(spaces, end=\"\")\n",
        "    for inv_rec in range(i, 1, -1):\n",
        "        print(inv_rec, end=\"\")\n",
        "    for rec in range(1, i+1):\n",
        "        print(rec, end=\"\")  \n",
        "          "
      ],
      "execution_count": null,
      "outputs": [
        {
          "output_type": "stream",
          "name": "stdout",
          "text": [
            "Введите число а = \u00075\n",
            "     1\n",
            "    212\n",
            "   32123\n",
            "  4321234\n",
            " 543212345\n",
            "65432123456 543212345  4321234   32123    212"
          ]
        }
      ]
    },
    {
      "cell_type": "code",
      "metadata": {
        "colab": {
          "base_uri": "https://localhost:8080/",
          "height": 129
        },
        "id": "8EZiJE3BRKc-",
        "outputId": "0b58075c-765f-4153-db2b-de8fcbd4ebc9"
      },
      "source": [
        "# вывод на печать пирамиды от 1 до 10 или любого числа цикл for задание 6\n",
        "\n",
        "num = int(input (\"Введите число а = \\a\"))\n",
        "space = \" \"\n",
        "\n",
        "for i in range(1, num+1):\n",
        "    for num_of_spaces in range(i+1, 1, -num):\n",
        "        x = (i-1)\n",
        "        spaces = space*(num-x)\n",
        "        print(spaces, end=\"\")\n",
        "    for inv_rec in range(i, 1, -1):\n",
        "        print(inv_rec, end=\"\")\n",
        "    #for rec in range(1, i+1):\n",
        "    #    print(rec, end=\"\")\n",
        "    print(\"\") \n",
        "for i in range(num+1, 1 , -1):\n",
        "    \n",
        "      for rec in range(1, i+1):\n",
        "      print(rec, end=\"\")\n",
        "    print(\"\") "
      ],
      "execution_count": null,
      "outputs": [
        {
          "output_type": "error",
          "ename": "IndentationError",
          "evalue": "ignored",
          "traceback": [
            "\u001b[0;36m  File \u001b[0;32m\"<ipython-input-88-5da30dcfc3e6>\"\u001b[0;36m, line \u001b[0;32m19\u001b[0m\n\u001b[0;31m    print(rec, end=\"\")\u001b[0m\n\u001b[0m        ^\u001b[0m\n\u001b[0;31mIndentationError\u001b[0m\u001b[0;31m:\u001b[0m expected an indented block\n"
          ]
        }
      ]
    }
  ]
}