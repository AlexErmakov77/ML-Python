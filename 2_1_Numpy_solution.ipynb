{
  "nbformat": 4,
  "nbformat_minor": 0,
  "metadata": {
    "colab": {
      "provenance": [],
      "collapsed_sections": [],
      "include_colab_link": true
    },
    "kernelspec": {
      "name": "python3",
      "display_name": "Python 3"
    }
  },
  "cells": [
    {
      "cell_type": "markdown",
      "metadata": {
        "id": "view-in-github",
        "colab_type": "text"
      },
      "source": [
        "<a href=\"https://colab.research.google.com/github/AlexErmakov77/ML-Python/blob/main/2_1_Numpy_solution.ipynb\" target=\"_parent\"><img src=\"https://colab.research.google.com/assets/colab-badge.svg\" alt=\"Open In Colab\"/></a>"
      ]
    },
    {
      "cell_type": "markdown",
      "metadata": {
        "id": "tp2Slota6ikl"
      },
      "source": [
        "# Занятие 1"
      ]
    },
    {
      "cell_type": "markdown",
      "metadata": {
        "id": "MpFrN6UKJBhz"
      },
      "source": [
        "## Numpy"
      ]
    },
    {
      "cell_type": "markdown",
      "metadata": {
        "id": "dv8JH3NSJD1P"
      },
      "source": [
        "### Вспомним какие у нас есть контейнеры в Python\n",
        "Основными контейнерами (структурами, которые могут содержать в себе другие данные или другие структуры) в python ялвяются\n",
        "1. множество (set)\n",
        "2. кортеж (tuple)\n",
        "3. словари (dict)\n",
        "4. списки (list)\n",
        "\n",
        "Рассмотрим на примере списка возможности таких кортежей"
      ]
    },
    {
      "cell_type": "markdown",
      "metadata": {
        "id": "0P7PA47B7xqI"
      },
      "source": [
        "Мы можем создавать объекты типа list вот таким образом:"
      ]
    },
    {
      "cell_type": "code",
      "metadata": {
        "id": "5sq0OnWtMyIh",
        "colab": {
          "base_uri": "https://localhost:8080/"
        },
        "outputId": "de210401-eb28-45ac-827e-2b5e69b6baf6"
      },
      "source": [
        "a = [1, 2, 3]\n",
        "a"
      ],
      "execution_count": null,
      "outputs": [
        {
          "output_type": "execute_result",
          "data": {
            "text/plain": [
              "[1, 2, 3]"
            ]
          },
          "metadata": {},
          "execution_count": 5
        }
      ]
    },
    {
      "cell_type": "markdown",
      "metadata": {
        "id": "eglq3E3p72nH"
      },
      "source": [
        "И можем добавлять произвольные элементы в список вот так"
      ]
    },
    {
      "cell_type": "code",
      "metadata": {
        "id": "5svBQxaOMyQE",
        "colab": {
          "base_uri": "https://localhost:8080/"
        },
        "outputId": "91927118-8a5d-4ac5-e758-f36c822c4b24"
      },
      "source": [
        "a.append(1)\n",
        "a"
      ],
      "execution_count": null,
      "outputs": [
        {
          "output_type": "execute_result",
          "data": {
            "text/plain": [
              "[1, 2, 3, 1]"
            ]
          },
          "metadata": {},
          "execution_count": 6
        }
      ]
    },
    {
      "cell_type": "markdown",
      "metadata": {
        "id": "iYx0Eqfj7611"
      },
      "source": [
        "При этом нам доступна индексация с 0, мы можем получить произвольный элемент списка по его индексу"
      ]
    },
    {
      "cell_type": "code",
      "metadata": {
        "id": "wU_07A3ZMyaR"
      },
      "source": [
        "a[0]"
      ],
      "execution_count": null,
      "outputs": []
    },
    {
      "cell_type": "code",
      "metadata": {
        "id": "OuP3kTV0MzAc"
      },
      "source": [
        "a[1]"
      ],
      "execution_count": null,
      "outputs": []
    },
    {
      "cell_type": "markdown",
      "metadata": {
        "id": "8WTNofyd8AVr"
      },
      "source": [
        "Кроме того, доступна индексация \"с конца\", нужно просто передавать отрицательные индексы"
      ]
    },
    {
      "cell_type": "code",
      "metadata": {
        "id": "pYK6Wij8LaI5"
      },
      "source": [
        "a[-1]"
      ],
      "execution_count": null,
      "outputs": []
    },
    {
      "cell_type": "markdown",
      "metadata": {
        "id": "QxINyoBp8Fnk"
      },
      "source": [
        "list в python позволяет нам хранить в нем произвольные объекты: целые числа, строки, другие контейнеры. Причем это можно делать одновременно"
      ]
    },
    {
      "cell_type": "code",
      "metadata": {
        "id": "MIvh9ip3LfPs",
        "colab": {
          "base_uri": "https://localhost:8080/"
        },
        "outputId": "657c7895-0500-4388-cf1b-2d04041c34e8"
      },
      "source": [
        "b = ['1', 2.0, 4, ['a', 'b', 'c']]\n",
        "b"
      ],
      "execution_count": null,
      "outputs": [
        {
          "output_type": "execute_result",
          "data": {
            "text/plain": [
              "['1', 2.0, 4, ['a', 'b', 'c']]"
            ]
          },
          "metadata": {},
          "execution_count": 1
        }
      ]
    },
    {
      "cell_type": "code",
      "metadata": {
        "id": "feN1KBpHLsyZ",
        "colab": {
          "base_uri": "https://localhost:8080/"
        },
        "outputId": "317f73a1-dcd6-431e-ba64-e2df773c394a"
      },
      "source": [
        "b[3]"
      ],
      "execution_count": null,
      "outputs": [
        {
          "output_type": "execute_result",
          "data": {
            "text/plain": [
              "['a', 'b', 'c']"
            ]
          },
          "metadata": {},
          "execution_count": 2
        }
      ]
    },
    {
      "cell_type": "markdown",
      "metadata": {
        "id": "6awUweFNJnEv"
      },
      "source": [
        "### Что же нам дает Numpy?"
      ]
    },
    {
      "cell_type": "markdown",
      "metadata": {
        "id": "IsTUWuv58UBE"
      },
      "source": [
        "Сначала импортируем библиотеку привычным нам образом. np это псевдоним, и он позволяет нам делать вызовы функций из библиотеки более коротким способом"
      ]
    },
    {
      "cell_type": "code",
      "metadata": {
        "id": "IZ7a4ZfxKG30"
      },
      "source": [
        "import numpy as np\n",
        "# numpy.add -> np.add"
      ],
      "execution_count": null,
      "outputs": []
    },
    {
      "cell_type": "markdown",
      "metadata": {
        "id": "F7DXHd4Z8dEg"
      },
      "source": [
        "Мы можем проверить тип данных на который ссылается наша переменная с помощью встроенного метода type.\n",
        "\n",
        "Например, мы видим, что тип объекта на который ссылается переменная a ожидаемо list"
      ]
    },
    {
      "cell_type": "code",
      "metadata": {
        "id": "mdZ_E1J3M7DA",
        "colab": {
          "base_uri": "https://localhost:8080/"
        },
        "outputId": "41baa34d-31af-4480-8dc2-969efacc1c88"
      },
      "source": [
        "type(a)"
      ],
      "execution_count": null,
      "outputs": [
        {
          "output_type": "execute_result",
          "data": {
            "text/plain": [
              "list"
            ]
          },
          "metadata": {},
          "execution_count": 7
        }
      ]
    },
    {
      "cell_type": "markdown",
      "metadata": {
        "id": "tQG9mvj5KHj5"
      },
      "source": [
        "#### Numpy array (np.ndarray, numpy массив, массив numpy)\n",
        "Это набор значений **одного и того же типа**, который индексируется набором неотрицательных целых чисел. Количество измерений - это ранг массива; форма (shape) массива представляет собой набор целых чисел, дающий размер массива по каждому измерению.\n",
        "\n",
        "Мы можем инициализировать пустые массивы из вложенных списков Python и обращаться к элементам с помощью квадратных скобок"
      ]
    },
    {
      "cell_type": "code",
      "metadata": {
        "id": "yMbnEqOsNCgz"
      },
      "source": [
        "data = np.array([1.0,2,3,4,5,6,7])"
      ],
      "execution_count": null,
      "outputs": []
    },
    {
      "cell_type": "code",
      "metadata": {
        "id": "1GPVMQpSNMUG",
        "colab": {
          "base_uri": "https://localhost:8080/"
        },
        "outputId": "bbf10b31-a15a-4121-f516-608104747b39"
      },
      "source": [
        "type(data)"
      ],
      "execution_count": null,
      "outputs": [
        {
          "output_type": "execute_result",
          "data": {
            "text/plain": [
              "numpy.ndarray"
            ]
          },
          "metadata": {},
          "execution_count": 10
        }
      ]
    },
    {
      "cell_type": "markdown",
      "metadata": {
        "id": "VWU9eezd8xq-"
      },
      "source": [
        "Мы также можем проверить какого типа значения храняться в нашем numpy массиве"
      ]
    },
    {
      "cell_type": "code",
      "metadata": {
        "id": "2KMddqyyNraI",
        "colab": {
          "base_uri": "https://localhost:8080/"
        },
        "outputId": "b482d297-50f9-41f1-d1d7-0a1dab412b44"
      },
      "source": [
        "data.dtype "
      ],
      "execution_count": null,
      "outputs": [
        {
          "output_type": "execute_result",
          "data": {
            "text/plain": [
              "dtype('float64')"
            ]
          },
          "metadata": {},
          "execution_count": 11
        }
      ]
    },
    {
      "cell_type": "markdown",
      "metadata": {
        "id": "a9rr6bbF82gl"
      },
      "source": [
        "По умолчанию numpy будет присваивать наиболее вместительный полходящий тип данных. Например, выше это тип integer из 64 бит. Это означает, что на каждый элемент нашего списка будет выделено **четко** 64 бита. \n",
        "\n",
        "Вы можете подробнее прочитать про представление чисел в памяти компьютера здесь:\n",
        "1. [Целое](https://ru.wikipedia.org/wiki/%D0%A6%D0%B5%D0%BB%D0%BE%D0%B5_(%D1%82%D0%B8%D0%BF_%D0%B4%D0%B0%D0%BD%D0%BD%D1%8B%D1%85))\n",
        "2. [Число с плавающей точкой](https://ru.wikipedia.org/wiki/%D0%A7%D0%B8%D1%81%D0%BB%D0%BE_%D1%81_%D0%BF%D0%BB%D0%B0%D0%B2%D0%B0%D1%8E%D1%89%D0%B5%D0%B9_%D0%B7%D0%B0%D0%BF%D1%8F%D1%82%D0%BE%D0%B9)\n",
        "\n",
        "На самом деле, зная в каком диапазоне будут находиться наши элементы numpy массива, мы можем явно указать тип данных поменьше, например, целое число из 32 бит. За счет этого мы можем существенно экономить требуемые для вычисления ресурсы.\n",
        "\n",
        "[Доступные типы данных в numpy](https://pyprog.pro/data_types.html#:~:text=%D0%92%20NumPy%20%D1%81%D1%83%D1%89%D0%B5%D1%81%D1%82%D0%B2%D1%83%D0%B5%D1%82%205%20%D0%B1%D0%B0%D0%B7%D0%BE%D0%B2%D1%8B%D1%85,%D0%BA%D0%BE%D0%BC%D0%BF%D0%BB%D0%B5%D0%BA%D1%81%D0%BD%D1%8B%D0%B5%20%D1%87%D0%B8%D1%81%D0%BB%D0%B0%20(%D1%82%D0%B8%D0%BF%20complex).)"
      ]
    },
    {
      "cell_type": "code",
      "metadata": {
        "id": "e0ZibqBSOF-d",
        "colab": {
          "base_uri": "https://localhost:8080/"
        },
        "outputId": "914c370b-9b24-4991-c9a9-ca921d836c32"
      },
      "source": [
        "data = np.array([1,2,3])\n",
        "data.dtype"
      ],
      "execution_count": null,
      "outputs": [
        {
          "output_type": "execute_result",
          "data": {
            "text/plain": [
              "dtype('int64')"
            ]
          },
          "metadata": {},
          "execution_count": 12
        }
      ]
    },
    {
      "cell_type": "markdown",
      "metadata": {
        "id": "NrdTKeGtE-6W"
      },
      "source": [
        "##### Типы данных\n",
        "Numpy предоставляет большой набор числовых типов данных, которые вы можете использовать для создания массивов. Numpy пытается угадать тип данных при создании массива, но функции, которые создают массивы, обычно также включают необязательный аргумент для явного указания типа данных."
      ]
    },
    {
      "cell_type": "code",
      "metadata": {
        "id": "IYyg35a4E-6Y"
      },
      "source": [
        "# dtype\n",
        "np.int\n",
        "np.int32\n",
        "np.int8\n",
        "np.int16\n",
        "np.float16\n",
        "np.float32\n",
        "np.datetime\n",
        "np.bool # бинарный тип данных, который хранит True или False"
      ],
      "execution_count": null,
      "outputs": []
    },
    {
      "cell_type": "markdown",
      "metadata": {
        "id": "ic_8WDr1E-6b"
      },
      "source": [
        "Как можно перейти от одного типа данных к другому?"
      ]
    },
    {
      "cell_type": "code",
      "metadata": {
        "id": "0iTl8ZGFE-6c",
        "colab": {
          "base_uri": "https://localhost:8080/"
        },
        "outputId": "66381959-cee6-4039-b360-b924a6f5a5d0"
      },
      "source": [
        "a = np.array(['1', '2', '3'])\n",
        "a.dtype"
      ],
      "execution_count": null,
      "outputs": [
        {
          "output_type": "execute_result",
          "data": {
            "text/plain": [
              "dtype('<U1')"
            ]
          },
          "metadata": {},
          "execution_count": 21
        }
      ]
    },
    {
      "cell_type": "code",
      "source": [
        "a = np.array(['msc', 'ivan', 'artem'])"
      ],
      "metadata": {
        "id": "9dy5xs1mKsD-"
      },
      "execution_count": null,
      "outputs": []
    },
    {
      "cell_type": "code",
      "source": [
        "a"
      ],
      "metadata": {
        "colab": {
          "base_uri": "https://localhost:8080/"
        },
        "id": "BSOk-TAnK3LO",
        "outputId": "69670834-e3fc-4f95-aa1c-1ae69aa45fda"
      },
      "execution_count": null,
      "outputs": [
        {
          "output_type": "execute_result",
          "data": {
            "text/plain": [
              "array(['msc', 'ivan', 'artem'], dtype='<U5')"
            ]
          },
          "metadata": {},
          "execution_count": 24
        }
      ]
    },
    {
      "cell_type": "code",
      "metadata": {
        "id": "5UOr-jYrE-6f",
        "colab": {
          "base_uri": "https://localhost:8080/"
        },
        "outputId": "665d43e6-5b05-4c8d-f8ba-95de05db69d5"
      },
      "source": [
        "a.astype(np.int32)"
      ],
      "execution_count": null,
      "outputs": [
        {
          "output_type": "execute_result",
          "data": {
            "text/plain": [
              "array([1, 2, 3], dtype=int32)"
            ]
          },
          "metadata": {},
          "execution_count": 17
        }
      ]
    },
    {
      "cell_type": "markdown",
      "metadata": {
        "id": "_mYP4lpCFCMy"
      },
      "source": [
        "Следующий код вызывает ошибку, так как интерпретатор python не может преобразовать строчку '2dsad' к целому числу."
      ]
    },
    {
      "cell_type": "code",
      "metadata": {
        "id": "NVnLVUvuE-6h",
        "colab": {
          "base_uri": "https://localhost:8080/",
          "height": 183
        },
        "outputId": "40e78d3c-d42a-4f0f-85a4-1604222588e3"
      },
      "source": [
        "a = np.array(['1', '2dsad', '3'])\n",
        "a.astype(np.int32)"
      ],
      "execution_count": null,
      "outputs": [
        {
          "output_type": "error",
          "ename": "ValueError",
          "evalue": "ignored",
          "traceback": [
            "\u001b[0;31m---------------------------------------------------------------------------\u001b[0m",
            "\u001b[0;31mValueError\u001b[0m                                Traceback (most recent call last)",
            "\u001b[0;32m<ipython-input-18-5ab4e6a4d6d8>\u001b[0m in \u001b[0;36m<module>\u001b[0;34m()\u001b[0m\n\u001b[1;32m      1\u001b[0m \u001b[0ma\u001b[0m \u001b[0;34m=\u001b[0m \u001b[0mnp\u001b[0m\u001b[0;34m.\u001b[0m\u001b[0marray\u001b[0m\u001b[0;34m(\u001b[0m\u001b[0;34m[\u001b[0m\u001b[0;34m'1'\u001b[0m\u001b[0;34m,\u001b[0m \u001b[0;34m'2dsad'\u001b[0m\u001b[0;34m,\u001b[0m \u001b[0;34m'3'\u001b[0m\u001b[0;34m]\u001b[0m\u001b[0;34m)\u001b[0m\u001b[0;34m\u001b[0m\u001b[0;34m\u001b[0m\u001b[0m\n\u001b[0;32m----> 2\u001b[0;31m \u001b[0ma\u001b[0m\u001b[0;34m.\u001b[0m\u001b[0mastype\u001b[0m\u001b[0;34m(\u001b[0m\u001b[0mnp\u001b[0m\u001b[0;34m.\u001b[0m\u001b[0mint32\u001b[0m\u001b[0;34m)\u001b[0m\u001b[0;34m\u001b[0m\u001b[0;34m\u001b[0m\u001b[0m\n\u001b[0m",
            "\u001b[0;31mValueError\u001b[0m: invalid literal for int() with base 10: '2dsad'"
          ]
        }
      ]
    },
    {
      "cell_type": "code",
      "metadata": {
        "id": "k9zRajMpE-6k",
        "colab": {
          "base_uri": "https://localhost:8080/"
        },
        "outputId": "44cfaa5a-7db7-4c6d-d3f0-b9ca36c50219"
      },
      "source": [
        "np.array([True, False, False]).astype(np.int32)"
      ],
      "execution_count": null,
      "outputs": [
        {
          "output_type": "execute_result",
          "data": {
            "text/plain": [
              "array([1, 0, 0], dtype=int32)"
            ]
          },
          "metadata": {},
          "execution_count": 19
        }
      ]
    },
    {
      "cell_type": "markdown",
      "metadata": {
        "id": "7aJAqC9EE-6m"
      },
      "source": [
        "Общее напоминание о конверсии типов данных в логический тип (True или False)"
      ]
    },
    {
      "cell_type": "code",
      "metadata": {
        "id": "EcVjMjQ6E-6m",
        "colab": {
          "base_uri": "https://localhost:8080/"
        },
        "outputId": "e9ec45d8-fd4f-447a-a5ab-60a35551e463"
      },
      "source": [
        "bool(10)"
      ],
      "execution_count": null,
      "outputs": [
        {
          "output_type": "execute_result",
          "data": {
            "text/plain": [
              "True"
            ]
          },
          "metadata": {},
          "execution_count": 20
        }
      ]
    },
    {
      "cell_type": "code",
      "metadata": {
        "id": "ltWbHxX3E-6o",
        "colab": {
          "base_uri": "https://localhost:8080/"
        },
        "outputId": "a2773332-cab5-420a-d6b2-c06f86827fd4"
      },
      "source": [
        "bool(1)"
      ],
      "execution_count": null,
      "outputs": [
        {
          "output_type": "execute_result",
          "data": {
            "text/plain": [
              "True"
            ]
          },
          "metadata": {},
          "execution_count": 25
        }
      ]
    },
    {
      "cell_type": "code",
      "metadata": {
        "id": "AIFpAwj2E-6q",
        "colab": {
          "base_uri": "https://localhost:8080/"
        },
        "outputId": "60c17010-9285-41e1-dd77-6c6ff24eba56"
      },
      "source": [
        "bool(-0.0001)"
      ],
      "execution_count": null,
      "outputs": [
        {
          "output_type": "execute_result",
          "data": {
            "text/plain": [
              "True"
            ]
          },
          "metadata": {},
          "execution_count": 26
        }
      ]
    },
    {
      "cell_type": "code",
      "metadata": {
        "id": "OeoSSpvEE-6t",
        "colab": {
          "base_uri": "https://localhost:8080/"
        },
        "outputId": "875d13bd-304e-41c2-f3d3-6db6424dd751"
      },
      "source": [
        "bool(0)"
      ],
      "execution_count": null,
      "outputs": [
        {
          "output_type": "execute_result",
          "data": {
            "text/plain": [
              "False"
            ]
          },
          "metadata": {},
          "execution_count": 27
        }
      ]
    },
    {
      "cell_type": "code",
      "metadata": {
        "id": "NRaj6_D7E-6v",
        "colab": {
          "base_uri": "https://localhost:8080/"
        },
        "outputId": "a3c1fd9c-3cf3-40bc-c3be-96475cb65cd3"
      },
      "source": [
        "bool([2])"
      ],
      "execution_count": null,
      "outputs": [
        {
          "output_type": "execute_result",
          "data": {
            "text/plain": [
              "True"
            ]
          },
          "metadata": {},
          "execution_count": 28
        }
      ]
    },
    {
      "cell_type": "code",
      "source": [
        "bool([])"
      ],
      "metadata": {
        "colab": {
          "base_uri": "https://localhost:8080/"
        },
        "id": "5xY23sNILO-i",
        "outputId": "2b6a995c-6e8d-4795-906c-7dcedb66730a"
      },
      "execution_count": null,
      "outputs": [
        {
          "output_type": "execute_result",
          "data": {
            "text/plain": [
              "False"
            ]
          },
          "metadata": {},
          "execution_count": 32
        }
      ]
    },
    {
      "cell_type": "code",
      "metadata": {
        "id": "4-q9CAHXE-61",
        "colab": {
          "base_uri": "https://localhost:8080/"
        },
        "outputId": "cdfb7e83-7330-4eb3-837b-0e54e81983c0"
      },
      "source": [
        "l = []\n",
        "if not l:\n",
        "  print(\"l is empty\")"
      ],
      "execution_count": null,
      "outputs": [
        {
          "output_type": "stream",
          "name": "stdout",
          "text": [
            "l is empty\n"
          ]
        }
      ]
    },
    {
      "cell_type": "markdown",
      "metadata": {
        "id": "YNY7K4w994Ra"
      },
      "source": [
        "Мы можем также посмотреть размерность списка (т.е кол-во элементов в нем)"
      ]
    },
    {
      "cell_type": "code",
      "source": [
        "data"
      ],
      "metadata": {
        "colab": {
          "base_uri": "https://localhost:8080/"
        },
        "id": "6A1UkbZqLSsw",
        "outputId": "f6c49839-0fbe-4088-9085-001b8c19a900"
      },
      "execution_count": null,
      "outputs": [
        {
          "output_type": "execute_result",
          "data": {
            "text/plain": [
              "array([1, 2, 3])"
            ]
          },
          "metadata": {},
          "execution_count": 33
        }
      ]
    },
    {
      "cell_type": "code",
      "metadata": {
        "id": "ePC-DfE8OSAb",
        "colab": {
          "base_uri": "https://localhost:8080/"
        },
        "outputId": "268e0058-06e3-4df8-8479-b4f02835b888"
      },
      "source": [
        "data.shape"
      ],
      "execution_count": null,
      "outputs": [
        {
          "output_type": "execute_result",
          "data": {
            "text/plain": [
              "(3,)"
            ]
          },
          "metadata": {},
          "execution_count": 34
        }
      ]
    },
    {
      "cell_type": "code",
      "metadata": {
        "colab": {
          "base_uri": "https://localhost:8080/"
        },
        "id": "mop4MqLXMeov",
        "outputId": "74fc4dce-7d02-4239-d8d5-93f530e1cb85"
      },
      "source": [
        "data"
      ],
      "execution_count": null,
      "outputs": [
        {
          "output_type": "execute_result",
          "data": {
            "text/plain": [
              "array([1, 2, 3])"
            ]
          },
          "metadata": {},
          "execution_count": 35
        }
      ]
    },
    {
      "cell_type": "markdown",
      "metadata": {
        "id": "H7njkh2799Fw"
      },
      "source": [
        "Существенным отличием от списков в python является невозможность добавления новых элементов в numpy массив. Подразумевается, что размерность фиксирована, а новые numpy массивы получаются преобразованиями (функциями) над исходными списками, матрицами или тензорами (матрицами размерности больше 2). "
      ]
    },
    {
      "cell_type": "code",
      "metadata": {
        "id": "1xvfpeiZOVfe",
        "colab": {
          "base_uri": "https://localhost:8080/",
          "height": 166
        },
        "outputId": "ad70a2b5-14c9-40c8-eaaf-96a572769c48"
      },
      "source": [
        "data.append(1) # мы просто так не можем изменять размерность текущего объектв"
      ],
      "execution_count": null,
      "outputs": [
        {
          "output_type": "error",
          "ename": "AttributeError",
          "evalue": "ignored",
          "traceback": [
            "\u001b[0;31m---------------------------------------------------------------------------\u001b[0m",
            "\u001b[0;31mAttributeError\u001b[0m                            Traceback (most recent call last)",
            "\u001b[0;32m<ipython-input-36-bb8e5f0f634b>\u001b[0m in \u001b[0;36m<module>\u001b[0;34m()\u001b[0m\n\u001b[0;32m----> 1\u001b[0;31m \u001b[0mdata\u001b[0m\u001b[0;34m.\u001b[0m\u001b[0mappend\u001b[0m\u001b[0;34m(\u001b[0m\u001b[0;36m1\u001b[0m\u001b[0;34m)\u001b[0m \u001b[0;31m# мы просто так не можем изменять размерность текущего объектв\u001b[0m\u001b[0;34m\u001b[0m\u001b[0;34m\u001b[0m\u001b[0m\n\u001b[0m",
            "\u001b[0;31mAttributeError\u001b[0m: 'numpy.ndarray' object has no attribute 'append'"
          ]
        }
      ]
    },
    {
      "cell_type": "markdown",
      "metadata": {
        "id": "gsTm3oQD-n0g"
      },
      "source": [
        "Простая индексация при этом сохраняется"
      ]
    },
    {
      "cell_type": "code",
      "metadata": {
        "id": "WMWLRr3FOpXZ",
        "colab": {
          "base_uri": "https://localhost:8080/"
        },
        "outputId": "c43c39fb-0656-4f88-91b7-424db22fc6d3"
      },
      "source": [
        "data[1]"
      ],
      "execution_count": null,
      "outputs": [
        {
          "output_type": "execute_result",
          "data": {
            "text/plain": [
              "2"
            ]
          },
          "metadata": {},
          "execution_count": 37
        }
      ]
    },
    {
      "cell_type": "code",
      "metadata": {
        "id": "yORmmh2vOyhb",
        "colab": {
          "base_uri": "https://localhost:8080/"
        },
        "outputId": "7d4cfd13-549e-4262-f90e-c0381b314fc1"
      },
      "source": [
        "data[-1]"
      ],
      "execution_count": null,
      "outputs": [
        {
          "output_type": "execute_result",
          "data": {
            "text/plain": [
              "3"
            ]
          },
          "metadata": {},
          "execution_count": 38
        }
      ]
    },
    {
      "cell_type": "markdown",
      "metadata": {
        "id": "LtnLE6wU-rvS"
      },
      "source": [
        "Также просто мы можем получить двумерный массив (или матрицу)"
      ]
    },
    {
      "cell_type": "code",
      "metadata": {
        "id": "jzkDec08O3Jy",
        "colab": {
          "base_uri": "https://localhost:8080/"
        },
        "outputId": "53be0174-9b73-4657-a17b-a26ec8789efd"
      },
      "source": [
        "ARRAY_DTYPE = np.int16\n",
        "data = np.array([[1,2,3], [1,1,1]], dtype=ARRAY_DTYPE)\n",
        "data"
      ],
      "execution_count": null,
      "outputs": [
        {
          "output_type": "execute_result",
          "data": {
            "text/plain": [
              "array([[1, 2, 3],\n",
              "       [1, 1, 1]], dtype=int16)"
            ]
          },
          "metadata": {},
          "execution_count": 39
        }
      ]
    },
    {
      "cell_type": "code",
      "metadata": {
        "id": "p7n10dhhO_xH",
        "colab": {
          "base_uri": "https://localhost:8080/"
        },
        "outputId": "d9bcb524-52e3-4acf-babd-954badee0486"
      },
      "source": [
        "data.shape"
      ],
      "execution_count": null,
      "outputs": [
        {
          "output_type": "execute_result",
          "data": {
            "text/plain": [
              "(2, 3)"
            ]
          },
          "metadata": {},
          "execution_count": 41
        }
      ]
    },
    {
      "cell_type": "code",
      "metadata": {
        "id": "KuBuFHK6PGwd",
        "colab": {
          "base_uri": "https://localhost:8080/"
        },
        "outputId": "e1f6d37b-e12f-48de-ca34-9ba0e0319987"
      },
      "source": [
        "np.array([1.0, 2.0, 3.0]).dtype # есть также диапазоны поменьше np.float16, np.float32, "
      ],
      "execution_count": null,
      "outputs": [
        {
          "output_type": "execute_result",
          "data": {
            "text/plain": [
              "dtype('float64')"
            ]
          },
          "metadata": {},
          "execution_count": 42
        }
      ]
    },
    {
      "cell_type": "markdown",
      "metadata": {
        "id": "XV4nx8v--yyN"
      },
      "source": [
        "Кстати, есть и специальные типы данных, например, для даты. Это позволяет работать с ними именно как с датами, а не строками. Например, находить разницу между двумя списками дат в днях."
      ]
    },
    {
      "cell_type": "code",
      "metadata": {
        "id": "FTlV6eXGPXom",
        "colab": {
          "base_uri": "https://localhost:8080/"
        },
        "outputId": "d47682c2-f338-412b-913a-f0ae365f7df8"
      },
      "source": [
        "np.array(['2020-08-24', '2020-08-23'], dtype=np.datetime64)"
      ],
      "execution_count": null,
      "outputs": [
        {
          "output_type": "execute_result",
          "data": {
            "text/plain": [
              "array(['2020-08-24', '2020-08-23'], dtype='datetime64[D]')"
            ]
          },
          "metadata": {},
          "execution_count": 43
        }
      ]
    },
    {
      "cell_type": "code",
      "metadata": {
        "id": "tl7aUGkI_AOb",
        "colab": {
          "base_uri": "https://localhost:8080/"
        },
        "outputId": "4c30e78d-5b61-418f-a738-d101beccf2b1"
      },
      "source": [
        "np.array(['2020-08-24', '2020-08-23'], dtype=np.datetime64) - np.array(['2020-08-22', '2020-08-20'], dtype=np.datetime64)"
      ],
      "execution_count": null,
      "outputs": [
        {
          "output_type": "execute_result",
          "data": {
            "text/plain": [
              "array([2, 3], dtype='timedelta64[D]')"
            ]
          },
          "metadata": {},
          "execution_count": 44
        }
      ]
    },
    {
      "cell_type": "markdown",
      "metadata": {
        "id": "GVLFVdiaLlGo"
      },
      "source": [
        "Есть несколько функций для создания массивов"
      ]
    },
    {
      "cell_type": "markdown",
      "metadata": {
        "id": "jdVIvCx5_TZl"
      },
      "source": [
        "Массив из нулей произвольной размерности"
      ]
    },
    {
      "cell_type": "code",
      "metadata": {
        "id": "BEZSwH-BP3T1",
        "colab": {
          "base_uri": "https://localhost:8080/"
        },
        "outputId": "d3a5042d-2960-42d6-d27f-04df1c4ee115"
      },
      "source": [
        "np.zeros((4,5,3))"
      ],
      "execution_count": null,
      "outputs": [
        {
          "output_type": "execute_result",
          "data": {
            "text/plain": [
              "array([[[0., 0., 0.],\n",
              "        [0., 0., 0.],\n",
              "        [0., 0., 0.],\n",
              "        [0., 0., 0.],\n",
              "        [0., 0., 0.]],\n",
              "\n",
              "       [[0., 0., 0.],\n",
              "        [0., 0., 0.],\n",
              "        [0., 0., 0.],\n",
              "        [0., 0., 0.],\n",
              "        [0., 0., 0.]],\n",
              "\n",
              "       [[0., 0., 0.],\n",
              "        [0., 0., 0.],\n",
              "        [0., 0., 0.],\n",
              "        [0., 0., 0.],\n",
              "        [0., 0., 0.]],\n",
              "\n",
              "       [[0., 0., 0.],\n",
              "        [0., 0., 0.],\n",
              "        [0., 0., 0.],\n",
              "        [0., 0., 0.],\n",
              "        [0., 0., 0.]]])"
            ]
          },
          "metadata": {},
          "execution_count": 45
        }
      ]
    },
    {
      "cell_type": "markdown",
      "metadata": {
        "id": "WbJWEhRX_V4A"
      },
      "source": [
        "Или из единиц"
      ]
    },
    {
      "cell_type": "code",
      "metadata": {
        "id": "ByHNklKDP7WJ",
        "colab": {
          "base_uri": "https://localhost:8080/"
        },
        "outputId": "f7c5c2f4-6697-4cda-cefb-8ef68246aa0a"
      },
      "source": [
        "np.ones((6,6))"
      ],
      "execution_count": null,
      "outputs": [
        {
          "output_type": "execute_result",
          "data": {
            "text/plain": [
              "array([[1., 1., 1., 1., 1., 1.],\n",
              "       [1., 1., 1., 1., 1., 1.],\n",
              "       [1., 1., 1., 1., 1., 1.],\n",
              "       [1., 1., 1., 1., 1., 1.],\n",
              "       [1., 1., 1., 1., 1., 1.],\n",
              "       [1., 1., 1., 1., 1., 1.]])"
            ]
          },
          "metadata": {},
          "execution_count": 48
        }
      ]
    },
    {
      "cell_type": "code",
      "source": [
        "x = [1,2,3,4,5]\n",
        "x"
      ],
      "metadata": {
        "colab": {
          "base_uri": "https://localhost:8080/"
        },
        "id": "qIB1_VijOiJX",
        "outputId": "7c828bc4-2b66-4c6d-9055-17a493fb6b27"
      },
      "execution_count": null,
      "outputs": [
        {
          "output_type": "execute_result",
          "data": {
            "text/plain": [
              "[1, 2, 3, 4, 5]"
            ]
          },
          "metadata": {},
          "execution_count": 55
        }
      ]
    },
    {
      "cell_type": "code",
      "source": [
        "arr = np.array([1,2,3,4,5])\n",
        "arr"
      ],
      "metadata": {
        "colab": {
          "base_uri": "https://localhost:8080/"
        },
        "id": "6x7XWVV7O4dw",
        "outputId": "bf7cf934-1251-4afd-990a-01ba5c14a61d"
      },
      "execution_count": null,
      "outputs": [
        {
          "output_type": "execute_result",
          "data": {
            "text/plain": [
              "array([1, 2, 3, 4, 5])"
            ]
          },
          "metadata": {},
          "execution_count": 57
        }
      ]
    },
    {
      "cell_type": "code",
      "source": [
        "type(arr)"
      ],
      "metadata": {
        "colab": {
          "base_uri": "https://localhost:8080/"
        },
        "id": "hf339fYcO9ju",
        "outputId": "2ecd1e18-f5a5-483b-c46e-7d37eddea5aa"
      },
      "execution_count": null,
      "outputs": [
        {
          "output_type": "execute_result",
          "data": {
            "text/plain": [
              "numpy.ndarray"
            ]
          },
          "metadata": {},
          "execution_count": 64
        }
      ]
    },
    {
      "cell_type": "code",
      "source": [
        "arr.shape"
      ],
      "metadata": {
        "colab": {
          "base_uri": "https://localhost:8080/"
        },
        "id": "KqKWn8o6SvN3",
        "outputId": "51c04f29-4695-41b8-9695-c977bdd41be5"
      },
      "execution_count": null,
      "outputs": [
        {
          "output_type": "execute_result",
          "data": {
            "text/plain": [
              "(5,)"
            ]
          },
          "metadata": {},
          "execution_count": 65
        }
      ]
    },
    {
      "cell_type": "markdown",
      "metadata": {
        "id": "Q-ktmUKm_XJq"
      },
      "source": [
        "Или из произвольных чисел"
      ]
    },
    {
      "cell_type": "code",
      "metadata": {
        "id": "iyxjXS3OP-r7",
        "colab": {
          "base_uri": "https://localhost:8080/"
        },
        "outputId": "b2d127ad-6a62-4f66-d55a-14d60f7e3809"
      },
      "source": [
        "np.full((10,10), 7)"
      ],
      "execution_count": null,
      "outputs": [
        {
          "output_type": "execute_result",
          "data": {
            "text/plain": [
              "array([[7, 7, 7, 7, 7, 7, 7, 7, 7, 7],\n",
              "       [7, 7, 7, 7, 7, 7, 7, 7, 7, 7],\n",
              "       [7, 7, 7, 7, 7, 7, 7, 7, 7, 7],\n",
              "       [7, 7, 7, 7, 7, 7, 7, 7, 7, 7],\n",
              "       [7, 7, 7, 7, 7, 7, 7, 7, 7, 7],\n",
              "       [7, 7, 7, 7, 7, 7, 7, 7, 7, 7],\n",
              "       [7, 7, 7, 7, 7, 7, 7, 7, 7, 7],\n",
              "       [7, 7, 7, 7, 7, 7, 7, 7, 7, 7],\n",
              "       [7, 7, 7, 7, 7, 7, 7, 7, 7, 7],\n",
              "       [7, 7, 7, 7, 7, 7, 7, 7, 7, 7]])"
            ]
          },
          "metadata": {},
          "execution_count": 49
        }
      ]
    },
    {
      "cell_type": "markdown",
      "metadata": {
        "id": "7a51m7Zy_ZQW"
      },
      "source": [
        "Можем сделать так называемую единичную матрицу произвольного размера"
      ]
    },
    {
      "cell_type": "code",
      "metadata": {
        "id": "zFWNg-0VQFLq",
        "colab": {
          "base_uri": "https://localhost:8080/"
        },
        "outputId": "c890d83f-9e9e-4456-e2b6-d262c9dbd077"
      },
      "source": [
        "np.eye(3)"
      ],
      "execution_count": null,
      "outputs": [
        {
          "output_type": "execute_result",
          "data": {
            "text/plain": [
              "array([[1., 0., 0.],\n",
              "       [0., 1., 0.],\n",
              "       [0., 0., 1.]])"
            ]
          },
          "metadata": {},
          "execution_count": 51
        }
      ]
    },
    {
      "cell_type": "code",
      "source": [
        "eye = np.eye(3)\n",
        "eye"
      ],
      "metadata": {
        "colab": {
          "base_uri": "https://localhost:8080/"
        },
        "id": "SzSKYVkkO_7M",
        "outputId": "e88efc58-d345-46c1-d222-bd98ef5cbb6e"
      },
      "execution_count": null,
      "outputs": [
        {
          "output_type": "execute_result",
          "data": {
            "text/plain": [
              "array([[1., 0., 0.],\n",
              "       [0., 1., 0.],\n",
              "       [0., 0., 1.]])"
            ]
          },
          "metadata": {},
          "execution_count": 58
        }
      ]
    },
    {
      "cell_type": "code",
      "source": [
        "eye"
      ],
      "metadata": {
        "colab": {
          "base_uri": "https://localhost:8080/"
        },
        "id": "dK0T1uyYPE00",
        "outputId": "3c03e221-f5d2-43b5-e587-c673e9ef60a1"
      },
      "execution_count": null,
      "outputs": [
        {
          "output_type": "execute_result",
          "data": {
            "text/plain": [
              "array([[1., 0., 0.],\n",
              "       [0., 1., 0.],\n",
              "       [0., 0., 1.]])"
            ]
          },
          "metadata": {},
          "execution_count": 59
        }
      ]
    },
    {
      "cell_type": "markdown",
      "metadata": {
        "id": "5TE-xNPO_euz"
      },
      "source": [
        "Или массив произвольного размера из случайных значений от 0 до 1"
      ]
    },
    {
      "cell_type": "code",
      "metadata": {
        "id": "6Z4rXt7LQe0D",
        "colab": {
          "base_uri": "https://localhost:8080/"
        },
        "outputId": "24d34a15-d232-404f-db16-9d70dd2b120f"
      },
      "source": [
        "np.random.rand(10)"
      ],
      "execution_count": null,
      "outputs": [
        {
          "output_type": "execute_result",
          "data": {
            "text/plain": [
              "array([0.84817126, 0.91372748, 0.24807533, 0.09615925, 0.57227858,\n",
              "       0.16718968, 0.11908277, 0.1776814 , 0.14311123, 0.77325611])"
            ]
          },
          "metadata": {},
          "execution_count": 52
        }
      ]
    },
    {
      "cell_type": "code",
      "source": [
        "np.random.rand(100, 100)"
      ],
      "metadata": {
        "colab": {
          "base_uri": "https://localhost:8080/"
        },
        "id": "dE26rDWPP1_s",
        "outputId": "bce8a1d7-c279-4e44-a5c5-e3cd69a4d2b3"
      },
      "execution_count": null,
      "outputs": [
        {
          "output_type": "execute_result",
          "data": {
            "text/plain": [
              "array([[0.44813759, 0.02686846, 0.1891166 , ..., 0.69944742, 0.38235124,\n",
              "        0.83216103],\n",
              "       [0.4408114 , 0.08779399, 0.23674123, ..., 0.53311862, 0.57346796,\n",
              "        0.62211884],\n",
              "       [0.15292436, 0.79487056, 0.43584725, ..., 0.75585985, 0.28213187,\n",
              "        0.31756623],\n",
              "       ...,\n",
              "       [0.83455115, 0.65867832, 0.79005538, ..., 0.77950152, 0.74224664,\n",
              "        0.28924128],\n",
              "       [0.39883606, 0.16675219, 0.68388658, ..., 0.86799017, 0.81470137,\n",
              "        0.58392237],\n",
              "       [0.36263609, 0.21302298, 0.18279421, ..., 0.88276964, 0.2309405 ,\n",
              "        0.24980261]])"
            ]
          },
          "metadata": {},
          "execution_count": 60
        }
      ]
    },
    {
      "cell_type": "code",
      "metadata": {
        "id": "93tQPvHbQmZa",
        "colab": {
          "base_uri": "https://localhost:8080/"
        },
        "outputId": "3e180a66-331b-4a6e-b301-0b71d749a13c"
      },
      "source": [
        "np.random.rand(10,5,3).shape"
      ],
      "execution_count": null,
      "outputs": [
        {
          "output_type": "execute_result",
          "data": {
            "text/plain": [
              "(10, 5, 3)"
            ]
          },
          "metadata": {},
          "execution_count": 53
        }
      ]
    },
    {
      "cell_type": "markdown",
      "metadata": {
        "id": "OwBNgEYP_lb2"
      },
      "source": [
        "**Зафиксируем**\n",
        "\n",
        "Итак, в numpy массивах у всех элементов одинаковый тип данных, а также мы не можем произвольно менять его размерность. Забегая немного вперед, за счет этого некоторые операции мы можем производить быстрее. Тут python приобретает некоторые плюсы языков со статической типезацией типа C. Помимо этого, стоит отметить, что библиотека pandas и многие библиотеки машинного обучения используют примитивы из библиотеки numpy."
      ]
    },
    {
      "cell_type": "markdown",
      "metadata": {
        "id": "P9FrVBvGL7Nb"
      },
      "source": [
        "#### Индексация\n",
        "Numpy предлагает несколько способов индексации массивов.\n",
        "Slicing: Как и в списках Python, массивы могут быть \"нарезаны\". Поскольку массивы могут быть многомерными, нужно указать срез для каждого измерения массива.\n",
        "\n",
        "Общий синтаксис для произвольного кол-ва размерностей для слайсинга: `[от:до:шаг, от:до:шаг, ...]`. **от** включительно, а **до** не включительно\n",
        "\n",
        "При этом, если по одной из размерностей нужны все индексы, то необязательно знать начало и конец, можно просто опустить значения от и до, чтобы получилось что-то вроде\n",
        "\n",
        "`[:,:,1:5]` берем все индексы по размерностям 0 и 1, а в последней берем индексы от 1 включительно и до 5 не включительно.\n",
        "\n",
        "Также, изучите примеры ниже"
      ]
    },
    {
      "cell_type": "code",
      "metadata": {
        "id": "H1WBcI6bRCsh",
        "colab": {
          "base_uri": "https://localhost:8080/"
        },
        "outputId": "8cb18e75-01de-423a-b2e5-1622a1305fe6"
      },
      "source": [
        "# в одномерном варианте есть и для обычных списков\n",
        "[1,2,3,4,5][1:4]"
      ],
      "execution_count": null,
      "outputs": [
        {
          "output_type": "execute_result",
          "data": {
            "text/plain": [
              "[2, 3, 4]"
            ]
          },
          "metadata": {},
          "execution_count": 61
        }
      ]
    },
    {
      "cell_type": "code",
      "metadata": {
        "id": "8QXpigVDRMfV",
        "colab": {
          "base_uri": "https://localhost:8080/"
        },
        "outputId": "7d14f3c6-dc68-46e4-a9bd-a9a5c4389f41"
      },
      "source": [
        "[1,2,3,4,5][1:4:2] # общий синтаксис такой: [от:до:с каким шагом]"
      ],
      "execution_count": null,
      "outputs": [
        {
          "output_type": "execute_result",
          "data": {
            "text/plain": [
              "[2, 4]"
            ]
          },
          "metadata": {},
          "execution_count": 62
        }
      ]
    },
    {
      "cell_type": "code",
      "source": [
        "range(2,10,2)"
      ],
      "metadata": {
        "colab": {
          "base_uri": "https://localhost:8080/"
        },
        "id": "qHD7_0pYSZHf",
        "outputId": "af7d9f5a-8dac-43c2-bcdf-e5088441a892"
      },
      "execution_count": null,
      "outputs": [
        {
          "output_type": "execute_result",
          "data": {
            "text/plain": [
              "range(2, 10, 2)"
            ]
          },
          "metadata": {},
          "execution_count": 66
        }
      ]
    },
    {
      "cell_type": "code",
      "source": [
        "list(range(2,10,2))"
      ],
      "metadata": {
        "colab": {
          "base_uri": "https://localhost:8080/"
        },
        "id": "gaqtQB5ASfbK",
        "outputId": "8caeb7f4-e5f3-455b-e6cf-907ee314dadb"
      },
      "execution_count": null,
      "outputs": [
        {
          "output_type": "execute_result",
          "data": {
            "text/plain": [
              "[2, 4, 6, 8]"
            ]
          },
          "metadata": {},
          "execution_count": 67
        }
      ]
    },
    {
      "cell_type": "markdown",
      "metadata": {
        "id": "opvkuTd6Bwtw"
      },
      "source": [
        "`np.arange(0,100)` возвращает numpy массив из 100 элементов от 0 до 99 включительно"
      ]
    },
    {
      "cell_type": "code",
      "source": [
        "np.arange(0,100)"
      ],
      "metadata": {
        "colab": {
          "base_uri": "https://localhost:8080/"
        },
        "id": "nDwoV1HkS5rn",
        "outputId": "a58d903d-08b6-4530-8252-30f302a8a240"
      },
      "execution_count": null,
      "outputs": [
        {
          "output_type": "execute_result",
          "data": {
            "text/plain": [
              "array([ 0,  1,  2,  3,  4,  5,  6,  7,  8,  9, 10, 11, 12, 13, 14, 15, 16,\n",
              "       17, 18, 19, 20, 21, 22, 23, 24, 25, 26, 27, 28, 29, 30, 31, 32, 33,\n",
              "       34, 35, 36, 37, 38, 39, 40, 41, 42, 43, 44, 45, 46, 47, 48, 49, 50,\n",
              "       51, 52, 53, 54, 55, 56, 57, 58, 59, 60, 61, 62, 63, 64, 65, 66, 67,\n",
              "       68, 69, 70, 71, 72, 73, 74, 75, 76, 77, 78, 79, 80, 81, 82, 83, 84,\n",
              "       85, 86, 87, 88, 89, 90, 91, 92, 93, 94, 95, 96, 97, 98, 99])"
            ]
          },
          "metadata": {},
          "execution_count": 68
        }
      ]
    },
    {
      "cell_type": "code",
      "metadata": {
        "id": "PyXgBN0TRYAr",
        "colab": {
          "base_uri": "https://localhost:8080/"
        },
        "outputId": "713365c3-ea06-4575-d66a-f7d1fce77f2b"
      },
      "source": [
        "np.arange(0,100)[5:50:3] # взять значения от 5 индекса включительно до 50-ого невключительно с шагом 3"
      ],
      "execution_count": null,
      "outputs": [
        {
          "output_type": "execute_result",
          "data": {
            "text/plain": [
              "array([ 5,  8, 11, 14, 17, 20, 23, 26, 29, 32, 35, 38, 41, 44, 47])"
            ]
          },
          "metadata": {},
          "execution_count": 69
        }
      ]
    },
    {
      "cell_type": "markdown",
      "metadata": {
        "id": "SYZ0bnnVCBXA"
      },
      "source": [
        "Создадим произвольную матрицу размера 3 на 4, где значения будем брать из [равномерного распределения](https://ru.wikipedia.org/wiki/%D0%9D%D0%B5%D0%BF%D1%80%D0%B5%D1%80%D1%8B%D0%B2%D0%BD%D0%BE%D0%B5_%D1%80%D0%B0%D0%B2%D0%BD%D0%BE%D0%BC%D0%B5%D1%80%D0%BD%D0%BE%D0%B5_%D1%80%D0%B0%D1%81%D0%BF%D1%80%D0%B5%D0%B4%D0%B5%D0%BB%D0%B5%D0%BD%D0%B8%D0%B5) на отрезке от 10 до 100"
      ]
    },
    {
      "cell_type": "code",
      "metadata": {
        "id": "HL2ZxdhBRjpd",
        "colab": {
          "base_uri": "https://localhost:8080/"
        },
        "outputId": "5bac8415-f24f-455c-8fb6-c82f07cce502"
      },
      "source": [
        "test_matrix = np.random.uniform(10, 100, (3,4))\n",
        "test_matrix"
      ],
      "execution_count": null,
      "outputs": [
        {
          "output_type": "execute_result",
          "data": {
            "text/plain": [
              "array([[91.34568145, 12.59967839, 91.24194595, 47.33783237],\n",
              "       [15.81495856, 22.2706761 , 40.79611275, 94.06726775],\n",
              "       [98.48301437, 49.15638272, 21.37162287, 38.09000217]])"
            ]
          },
          "metadata": {},
          "execution_count": 70
        }
      ]
    },
    {
      "cell_type": "code",
      "metadata": {
        "id": "pM38sRPUOtyQ",
        "colab": {
          "base_uri": "https://localhost:8080/"
        },
        "outputId": "f8880dfe-881f-492e-824c-f24d894f5799"
      },
      "source": [
        "a = np.array([1, 2, 3, 4])\n",
        "\n",
        "[[1, 2],\n",
        " [3, 4]]"
      ],
      "execution_count": null,
      "outputs": [
        {
          "output_type": "execute_result",
          "data": {
            "text/plain": [
              "[[1, 2], [3, 4]]"
            ]
          },
          "metadata": {},
          "execution_count": 71
        }
      ]
    },
    {
      "cell_type": "code",
      "source": [
        "a"
      ],
      "metadata": {
        "colab": {
          "base_uri": "https://localhost:8080/"
        },
        "id": "4FpkCiE5TY76",
        "outputId": "6bafc10f-4d0f-4222-cdf0-29256d31ef85"
      },
      "execution_count": null,
      "outputs": [
        {
          "output_type": "execute_result",
          "data": {
            "text/plain": [
              "array([1, 2, 3, 4])"
            ]
          },
          "metadata": {},
          "execution_count": 72
        }
      ]
    },
    {
      "cell_type": "code",
      "source": [
        "a.reshape((2,2))"
      ],
      "metadata": {
        "colab": {
          "base_uri": "https://localhost:8080/"
        },
        "id": "38xwdD-cTlDq",
        "outputId": "eaddf2a2-110e-4df4-dd0a-4346201663ea"
      },
      "execution_count": null,
      "outputs": [
        {
          "output_type": "execute_result",
          "data": {
            "text/plain": [
              "array([[1, 2],\n",
              "       [3, 4]])"
            ]
          },
          "metadata": {},
          "execution_count": 73
        }
      ]
    },
    {
      "cell_type": "markdown",
      "metadata": {
        "id": "NHU2VjLiCZsl"
      },
      "source": [
        "`.reshape` позволяет поменять размерность матрицы. Главное правило здесь, чтобы произведение старых размерностей было равно произведению новых. \n",
        "\n",
        "Например, (100,) -> (20,5) ок, так как 100 = 20 * 5\n",
        "\n",
        "или\n",
        "\n",
        "(10,2,3) -> (15,4) ок, так как 10 \\* 2 \\* 3 = 15 * 4\n",
        "\n",
        "но\n",
        "\n",
        "(10,2,3) -> (15,2,3) не ок, так как 10 \\* 2 \\* 3 != 15 * 2 * 3"
      ]
    },
    {
      "cell_type": "code",
      "metadata": {
        "id": "FmLPd5_eO_Po"
      },
      "source": [
        "a = np.arange(1,101)"
      ],
      "execution_count": null,
      "outputs": []
    },
    {
      "cell_type": "code",
      "source": [
        "a"
      ],
      "metadata": {
        "colab": {
          "base_uri": "https://localhost:8080/"
        },
        "id": "RdIbD1yAT3_7",
        "outputId": "71c0f04a-878a-4a68-8e07-e90d9d1da528"
      },
      "execution_count": null,
      "outputs": [
        {
          "output_type": "execute_result",
          "data": {
            "text/plain": [
              "array([  1,   2,   3,   4,   5,   6,   7,   8,   9,  10,  11,  12,  13,\n",
              "        14,  15,  16,  17,  18,  19,  20,  21,  22,  23,  24,  25,  26,\n",
              "        27,  28,  29,  30,  31,  32,  33,  34,  35,  36,  37,  38,  39,\n",
              "        40,  41,  42,  43,  44,  45,  46,  47,  48,  49,  50,  51,  52,\n",
              "        53,  54,  55,  56,  57,  58,  59,  60,  61,  62,  63,  64,  65,\n",
              "        66,  67,  68,  69,  70,  71,  72,  73,  74,  75,  76,  77,  78,\n",
              "        79,  80,  81,  82,  83,  84,  85,  86,  87,  88,  89,  90,  91,\n",
              "        92,  93,  94,  95,  96,  97,  98,  99, 100])"
            ]
          },
          "metadata": {},
          "execution_count": 75
        }
      ]
    },
    {
      "cell_type": "code",
      "source": [
        "a.reshape((20,5))"
      ],
      "metadata": {
        "colab": {
          "base_uri": "https://localhost:8080/"
        },
        "id": "i7S8lgKlT7aN",
        "outputId": "33749c9b-3f7d-4f8c-e94f-5b01da4be7bc"
      },
      "execution_count": null,
      "outputs": [
        {
          "output_type": "execute_result",
          "data": {
            "text/plain": [
              "array([[  1,   2,   3,   4,   5],\n",
              "       [  6,   7,   8,   9,  10],\n",
              "       [ 11,  12,  13,  14,  15],\n",
              "       [ 16,  17,  18,  19,  20],\n",
              "       [ 21,  22,  23,  24,  25],\n",
              "       [ 26,  27,  28,  29,  30],\n",
              "       [ 31,  32,  33,  34,  35],\n",
              "       [ 36,  37,  38,  39,  40],\n",
              "       [ 41,  42,  43,  44,  45],\n",
              "       [ 46,  47,  48,  49,  50],\n",
              "       [ 51,  52,  53,  54,  55],\n",
              "       [ 56,  57,  58,  59,  60],\n",
              "       [ 61,  62,  63,  64,  65],\n",
              "       [ 66,  67,  68,  69,  70],\n",
              "       [ 71,  72,  73,  74,  75],\n",
              "       [ 76,  77,  78,  79,  80],\n",
              "       [ 81,  82,  83,  84,  85],\n",
              "       [ 86,  87,  88,  89,  90],\n",
              "       [ 91,  92,  93,  94,  95],\n",
              "       [ 96,  97,  98,  99, 100]])"
            ]
          },
          "metadata": {},
          "execution_count": 76
        }
      ]
    },
    {
      "cell_type": "code",
      "source": [
        "arr = np.arange(60)\n",
        "print(arr.shape)\n",
        "arr = arr.reshape((10,2,3))\n",
        "arr"
      ],
      "metadata": {
        "colab": {
          "base_uri": "https://localhost:8080/"
        },
        "id": "lVK4iQJcUMVs",
        "outputId": "0f85555a-c127-4f9f-f728-fb7ce99b6c76"
      },
      "execution_count": null,
      "outputs": [
        {
          "output_type": "stream",
          "name": "stdout",
          "text": [
            "(60,)\n"
          ]
        },
        {
          "output_type": "execute_result",
          "data": {
            "text/plain": [
              "array([[[ 0,  1,  2],\n",
              "        [ 3,  4,  5]],\n",
              "\n",
              "       [[ 6,  7,  8],\n",
              "        [ 9, 10, 11]],\n",
              "\n",
              "       [[12, 13, 14],\n",
              "        [15, 16, 17]],\n",
              "\n",
              "       [[18, 19, 20],\n",
              "        [21, 22, 23]],\n",
              "\n",
              "       [[24, 25, 26],\n",
              "        [27, 28, 29]],\n",
              "\n",
              "       [[30, 31, 32],\n",
              "        [33, 34, 35]],\n",
              "\n",
              "       [[36, 37, 38],\n",
              "        [39, 40, 41]],\n",
              "\n",
              "       [[42, 43, 44],\n",
              "        [45, 46, 47]],\n",
              "\n",
              "       [[48, 49, 50],\n",
              "        [51, 52, 53]],\n",
              "\n",
              "       [[54, 55, 56],\n",
              "        [57, 58, 59]]])"
            ]
          },
          "metadata": {},
          "execution_count": 80
        }
      ]
    },
    {
      "cell_type": "code",
      "source": [
        "arr.reshape((15,4))"
      ],
      "metadata": {
        "colab": {
          "base_uri": "https://localhost:8080/"
        },
        "id": "36q3xXA8UxJy",
        "outputId": "7c2726ab-9e60-4c62-f868-f47a40a68016"
      },
      "execution_count": null,
      "outputs": [
        {
          "output_type": "execute_result",
          "data": {
            "text/plain": [
              "array([[ 0,  1,  2,  3],\n",
              "       [ 4,  5,  6,  7],\n",
              "       [ 8,  9, 10, 11],\n",
              "       [12, 13, 14, 15],\n",
              "       [16, 17, 18, 19],\n",
              "       [20, 21, 22, 23],\n",
              "       [24, 25, 26, 27],\n",
              "       [28, 29, 30, 31],\n",
              "       [32, 33, 34, 35],\n",
              "       [36, 37, 38, 39],\n",
              "       [40, 41, 42, 43],\n",
              "       [44, 45, 46, 47],\n",
              "       [48, 49, 50, 51],\n",
              "       [52, 53, 54, 55],\n",
              "       [56, 57, 58, 59]])"
            ]
          },
          "metadata": {},
          "execution_count": 81
        }
      ]
    },
    {
      "cell_type": "code",
      "source": [
        "arr.reshape((15,2,3))"
      ],
      "metadata": {
        "colab": {
          "base_uri": "https://localhost:8080/",
          "height": 166
        },
        "id": "u1oYglReU8P_",
        "outputId": "253a7264-6959-444b-de92-fe4e93491c5b"
      },
      "execution_count": null,
      "outputs": [
        {
          "output_type": "error",
          "ename": "ValueError",
          "evalue": "ignored",
          "traceback": [
            "\u001b[0;31m---------------------------------------------------------------------------\u001b[0m",
            "\u001b[0;31mValueError\u001b[0m                                Traceback (most recent call last)",
            "\u001b[0;32m<ipython-input-82-479bd23a35b4>\u001b[0m in \u001b[0;36m<module>\u001b[0;34m()\u001b[0m\n\u001b[0;32m----> 1\u001b[0;31m \u001b[0marr\u001b[0m\u001b[0;34m.\u001b[0m\u001b[0mreshape\u001b[0m\u001b[0;34m(\u001b[0m\u001b[0;34m(\u001b[0m\u001b[0;36m15\u001b[0m\u001b[0;34m,\u001b[0m\u001b[0;36m2\u001b[0m\u001b[0;34m,\u001b[0m\u001b[0;36m3\u001b[0m\u001b[0;34m)\u001b[0m\u001b[0;34m)\u001b[0m\u001b[0;34m\u001b[0m\u001b[0;34m\u001b[0m\u001b[0m\n\u001b[0m",
            "\u001b[0;31mValueError\u001b[0m: cannot reshape array of size 60 into shape (15,2,3)"
          ]
        }
      ]
    },
    {
      "cell_type": "code",
      "metadata": {
        "id": "GoBciay5SJ9a",
        "colab": {
          "base_uri": "https://localhost:8080/"
        },
        "outputId": "ea55989a-e281-4caa-c293-a36a88081f74"
      },
      "source": [
        "sample_matrix = np.arange(1,101).reshape(20,5)\n",
        "sample_matrix"
      ],
      "execution_count": null,
      "outputs": [
        {
          "output_type": "execute_result",
          "data": {
            "text/plain": [
              "array([[  1,   2,   3,   4,   5],\n",
              "       [  6,   7,   8,   9,  10],\n",
              "       [ 11,  12,  13,  14,  15],\n",
              "       [ 16,  17,  18,  19,  20],\n",
              "       [ 21,  22,  23,  24,  25],\n",
              "       [ 26,  27,  28,  29,  30],\n",
              "       [ 31,  32,  33,  34,  35],\n",
              "       [ 36,  37,  38,  39,  40],\n",
              "       [ 41,  42,  43,  44,  45],\n",
              "       [ 46,  47,  48,  49,  50],\n",
              "       [ 51,  52,  53,  54,  55],\n",
              "       [ 56,  57,  58,  59,  60],\n",
              "       [ 61,  62,  63,  64,  65],\n",
              "       [ 66,  67,  68,  69,  70],\n",
              "       [ 71,  72,  73,  74,  75],\n",
              "       [ 76,  77,  78,  79,  80],\n",
              "       [ 81,  82,  83,  84,  85],\n",
              "       [ 86,  87,  88,  89,  90],\n",
              "       [ 91,  92,  93,  94,  95],\n",
              "       [ 96,  97,  98,  99, 100]])"
            ]
          },
          "metadata": {},
          "execution_count": 83
        }
      ]
    },
    {
      "cell_type": "markdown",
      "metadata": {
        "id": "ko-pjXBODJzP"
      },
      "source": [
        "Рассмотрим также некоторые упражнения\n",
        "1. выбрать каждую вторую строчку из матрицы, начиная с самой первой\n",
        "2. выбрать каждый второй столбец, начиная с самого первого\n",
        "3. выбрать подматрицу обозначенную числами 53 и 75"
      ]
    },
    {
      "cell_type": "code",
      "source": [
        "# выберем строку\n",
        "sample_matrix[3]"
      ],
      "metadata": {
        "colab": {
          "base_uri": "https://localhost:8080/"
        },
        "id": "xjipDs5hVoQI",
        "outputId": "df00d0a1-5c2c-461d-9245-8a8841c100ec"
      },
      "execution_count": null,
      "outputs": [
        {
          "output_type": "execute_result",
          "data": {
            "text/plain": [
              "array([16, 17, 18, 19, 20])"
            ]
          },
          "metadata": {},
          "execution_count": 85
        }
      ]
    },
    {
      "cell_type": "code",
      "source": [
        "sample_matrix[:, 3]"
      ],
      "metadata": {
        "colab": {
          "base_uri": "https://localhost:8080/"
        },
        "id": "AXgeg6lFV3vK",
        "outputId": "64574bf8-e66e-4921-bcc2-3935f8184f31"
      },
      "execution_count": null,
      "outputs": [
        {
          "output_type": "execute_result",
          "data": {
            "text/plain": [
              "array([ 4,  9, 14, 19, 24, 29, 34, 39, 44, 49, 54, 59, 64, 69, 74, 79, 84,\n",
              "       89, 94, 99])"
            ]
          },
          "metadata": {},
          "execution_count": 89
        }
      ]
    },
    {
      "cell_type": "code",
      "metadata": {
        "id": "UdrD7HhGSYbJ",
        "colab": {
          "base_uri": "https://localhost:8080/"
        },
        "outputId": "45db3fd5-17c1-4e28-e331-f28fc992ba1f"
      },
      "source": [
        "# 1. выбрать каждую вторую строчку из матрицы, начиная с самой первой\n",
        "sample_matrix[::2]"
      ],
      "execution_count": null,
      "outputs": [
        {
          "output_type": "execute_result",
          "data": {
            "text/plain": [
              "array([[ 1,  2,  3,  4,  5],\n",
              "       [11, 12, 13, 14, 15],\n",
              "       [21, 22, 23, 24, 25],\n",
              "       [31, 32, 33, 34, 35],\n",
              "       [41, 42, 43, 44, 45],\n",
              "       [51, 52, 53, 54, 55],\n",
              "       [61, 62, 63, 64, 65],\n",
              "       [71, 72, 73, 74, 75],\n",
              "       [81, 82, 83, 84, 85],\n",
              "       [91, 92, 93, 94, 95]])"
            ]
          },
          "metadata": {},
          "execution_count": 90
        }
      ]
    },
    {
      "cell_type": "code",
      "metadata": {
        "colab": {
          "base_uri": "https://localhost:8080/"
        },
        "id": "-m2wmRRMPM2G",
        "outputId": "99ec8e51-02c4-45f9-d631-b49f5eec9edf"
      },
      "source": [
        "sample_matrix"
      ],
      "execution_count": null,
      "outputs": [
        {
          "output_type": "execute_result",
          "data": {
            "text/plain": [
              "array([[  1,   2,   3,   4,   5],\n",
              "       [  6,   7,   8,   9,  10],\n",
              "       [ 11,  12,  13,  14,  15],\n",
              "       [ 16,  17,  18,  19,  20],\n",
              "       [ 21,  22,  23,  24,  25],\n",
              "       [ 26,  27,  28,  29,  30],\n",
              "       [ 31,  32,  33,  34,  35],\n",
              "       [ 36,  37,  38,  39,  40],\n",
              "       [ 41,  42,  43,  44,  45],\n",
              "       [ 46,  47,  48,  49,  50],\n",
              "       [ 51,  52,  53,  54,  55],\n",
              "       [ 56,  57,  58,  59,  60],\n",
              "       [ 61,  62,  63,  64,  65],\n",
              "       [ 66,  67,  68,  69,  70],\n",
              "       [ 71,  72,  73,  74,  75],\n",
              "       [ 76,  77,  78,  79,  80],\n",
              "       [ 81,  82,  83,  84,  85],\n",
              "       [ 86,  87,  88,  89,  90],\n",
              "       [ 91,  92,  93,  94,  95],\n",
              "       [ 96,  97,  98,  99, 100]])"
            ]
          },
          "metadata": {},
          "execution_count": 92
        }
      ]
    },
    {
      "cell_type": "code",
      "metadata": {
        "id": "B-ekEmeGSmQG",
        "colab": {
          "base_uri": "https://localhost:8080/"
        },
        "outputId": "5c2eb6c5-4ebe-4677-d63a-20c2dd91b8f8"
      },
      "source": [
        "# 2. выбрать каждый второй столбец, начиная с самого первого\n",
        "sample_matrix[:, ::2]"
      ],
      "execution_count": null,
      "outputs": [
        {
          "output_type": "execute_result",
          "data": {
            "text/plain": [
              "array([[  1,   3,   5],\n",
              "       [  6,   8,  10],\n",
              "       [ 11,  13,  15],\n",
              "       [ 16,  18,  20],\n",
              "       [ 21,  23,  25],\n",
              "       [ 26,  28,  30],\n",
              "       [ 31,  33,  35],\n",
              "       [ 36,  38,  40],\n",
              "       [ 41,  43,  45],\n",
              "       [ 46,  48,  50],\n",
              "       [ 51,  53,  55],\n",
              "       [ 56,  58,  60],\n",
              "       [ 61,  63,  65],\n",
              "       [ 66,  68,  70],\n",
              "       [ 71,  73,  75],\n",
              "       [ 76,  78,  80],\n",
              "       [ 81,  83,  85],\n",
              "       [ 86,  88,  90],\n",
              "       [ 91,  93,  95],\n",
              "       [ 96,  98, 100]])"
            ]
          },
          "metadata": {},
          "execution_count": 93
        }
      ]
    },
    {
      "cell_type": "code",
      "metadata": {
        "id": "_4q2XYOcUuP-",
        "colab": {
          "base_uri": "https://localhost:8080/"
        },
        "outputId": "76fceaa4-56d5-49fd-d2ad-dc2078d0f947"
      },
      "source": [
        "# 3. выбрать подматрицу обозначенную числами 53 и 75\n",
        "print(sample_matrix)\n",
        "sample_matrix[10:15:, 2:]"
      ],
      "execution_count": null,
      "outputs": [
        {
          "output_type": "stream",
          "name": "stdout",
          "text": [
            "[[  1   2   3   4   5]\n",
            " [  6   7   8   9  10]\n",
            " [ 11  12  13  14  15]\n",
            " [ 16  17  18  19  20]\n",
            " [ 21  22  23  24  25]\n",
            " [ 26  27  28  29  30]\n",
            " [ 31  32  33  34  35]\n",
            " [ 36  37  38  39  40]\n",
            " [ 41  42  43  44  45]\n",
            " [ 46  47  48  49  50]\n",
            " [ 51  52  53  54  55]\n",
            " [ 56  57  58  59  60]\n",
            " [ 61  62  63  64  65]\n",
            " [ 66  67  68  69  70]\n",
            " [ 71  72  73  74  75]\n",
            " [ 76  77  78  79  80]\n",
            " [ 81  82  83  84  85]\n",
            " [ 86  87  88  89  90]\n",
            " [ 91  92  93  94  95]\n",
            " [ 96  97  98  99 100]]\n"
          ]
        },
        {
          "output_type": "execute_result",
          "data": {
            "text/plain": [
              "array([[53, 54, 55],\n",
              "       [58, 59, 60],\n",
              "       [63, 64, 65],\n",
              "       [68, 69, 70],\n",
              "       [73, 74, 75]])"
            ]
          },
          "metadata": {},
          "execution_count": 94
        }
      ]
    },
    {
      "cell_type": "code",
      "source": [
        "sample_matrix = np.arange(30).reshape((6,5))"
      ],
      "metadata": {
        "id": "gYvVplP7XZlD"
      },
      "execution_count": null,
      "outputs": []
    },
    {
      "cell_type": "code",
      "source": [
        "sample_matrix"
      ],
      "metadata": {
        "colab": {
          "base_uri": "https://localhost:8080/"
        },
        "id": "i6YBn48dXlqx",
        "outputId": "e1dfdb83-e0ec-4364-f2f3-6d9d6aeb3851"
      },
      "execution_count": null,
      "outputs": [
        {
          "output_type": "execute_result",
          "data": {
            "text/plain": [
              "array([[ 0,  1,  2,  3,  4],\n",
              "       [ 5,  6,  7,  8,  9],\n",
              "       [10, 11, 12, 13, 14],\n",
              "       [15, 16, 17, 18, 19],\n",
              "       [20, 21, 22, 23, 24],\n",
              "       [25, 26, 27, 28, 29]])"
            ]
          },
          "metadata": {},
          "execution_count": 97
        }
      ]
    },
    {
      "cell_type": "code",
      "source": [
        "sample_matrix[3, 4]"
      ],
      "metadata": {
        "colab": {
          "base_uri": "https://localhost:8080/"
        },
        "id": "LopRxNFQYJFT",
        "outputId": "af15f0de-e814-4a3a-db3f-28a98f51c2ba"
      },
      "execution_count": null,
      "outputs": [
        {
          "output_type": "execute_result",
          "data": {
            "text/plain": [
              "19"
            ]
          },
          "metadata": {},
          "execution_count": 102
        }
      ]
    },
    {
      "cell_type": "code",
      "source": [
        "sample_matrix[15, 18]"
      ],
      "metadata": {
        "colab": {
          "base_uri": "https://localhost:8080/",
          "height": 166
        },
        "id": "TveFdO1cYCaJ",
        "outputId": "2faffb2a-99b9-45bb-c754-895de0d50220"
      },
      "execution_count": null,
      "outputs": [
        {
          "output_type": "error",
          "ename": "IndexError",
          "evalue": "ignored",
          "traceback": [
            "\u001b[0;31m---------------------------------------------------------------------------\u001b[0m",
            "\u001b[0;31mIndexError\u001b[0m                                Traceback (most recent call last)",
            "\u001b[0;32m<ipython-input-101-668c438319b7>\u001b[0m in \u001b[0;36m<module>\u001b[0;34m()\u001b[0m\n\u001b[0;32m----> 1\u001b[0;31m \u001b[0msample_matrix\u001b[0m\u001b[0;34m[\u001b[0m\u001b[0;36m15\u001b[0m\u001b[0;34m,\u001b[0m \u001b[0;36m18\u001b[0m\u001b[0;34m]\u001b[0m\u001b[0;34m\u001b[0m\u001b[0;34m\u001b[0m\u001b[0m\n\u001b[0m",
            "\u001b[0;31mIndexError\u001b[0m: index 15 is out of bounds for axis 0 with size 6"
          ]
        }
      ]
    },
    {
      "cell_type": "code",
      "source": [
        "sample_matrix[3:15:, 3:]"
      ],
      "metadata": {
        "colab": {
          "base_uri": "https://localhost:8080/"
        },
        "id": "LpA4hWOaXUwh",
        "outputId": "14518b4e-d93b-4b5f-9393-45fb20f1ded6"
      },
      "execution_count": null,
      "outputs": [
        {
          "output_type": "execute_result",
          "data": {
            "text/plain": [
              "array([[18, 19],\n",
              "       [23, 24],\n",
              "       [28, 29]])"
            ]
          },
          "metadata": {},
          "execution_count": 100
        }
      ]
    },
    {
      "cell_type": "markdown",
      "metadata": {
        "id": "gjp5T-IzDaO0"
      },
      "source": [
        "В numpy доступна фильтрация значений в массиве по маске. Маска это numpy массив той же формы, что и исходный, состоящий только из булевых значений True (истина) или False (ложь)"
      ]
    },
    {
      "cell_type": "code",
      "source": [
        "sample_matrix"
      ],
      "metadata": {
        "colab": {
          "base_uri": "https://localhost:8080/"
        },
        "id": "Lc7fJayOYexR",
        "outputId": "3db71218-0f08-4eb5-e819-bf4304b1c835"
      },
      "execution_count": null,
      "outputs": [
        {
          "output_type": "execute_result",
          "data": {
            "text/plain": [
              "array([[ 0,  1,  2,  3,  4],\n",
              "       [ 5,  6,  7,  8,  9],\n",
              "       [10, 11, 12, 13, 14],\n",
              "       [15, 16, 17, 18, 19],\n",
              "       [20, 21, 22, 23, 24],\n",
              "       [25, 26, 27, 28, 29]])"
            ]
          },
          "metadata": {},
          "execution_count": 104
        }
      ]
    },
    {
      "cell_type": "code",
      "metadata": {
        "id": "ZSG3J8bbZMY7",
        "colab": {
          "base_uri": "https://localhost:8080/"
        },
        "outputId": "265f0ca9-132b-4d72-e435-563e3cbe1413"
      },
      "source": [
        "sample_matrix > 10 # маска. False там где <= 10, True где больше 10"
      ],
      "execution_count": null,
      "outputs": [
        {
          "output_type": "execute_result",
          "data": {
            "text/plain": [
              "array([[False, False, False, False, False],\n",
              "       [False, False, False, False, False],\n",
              "       [False,  True,  True,  True,  True],\n",
              "       [ True,  True,  True,  True,  True],\n",
              "       [ True,  True,  True,  True,  True],\n",
              "       [ True,  True,  True,  True,  True]])"
            ]
          },
          "metadata": {},
          "execution_count": 103
        }
      ]
    },
    {
      "cell_type": "markdown",
      "metadata": {
        "id": "1BjsCcNsDsIj"
      },
      "source": [
        "Мы можем просто передать эту маску внутрь квадратных скобок, и получить отфильтрованный набор данных"
      ]
    },
    {
      "cell_type": "code",
      "metadata": {
        "id": "WqaoLDdQZd68",
        "colab": {
          "base_uri": "https://localhost:8080/"
        },
        "outputId": "a64dbbfe-c6bc-48a4-a0ee-43e7c4e194b6"
      },
      "source": [
        "sample_matrix[sample_matrix > 10]"
      ],
      "execution_count": null,
      "outputs": [
        {
          "output_type": "execute_result",
          "data": {
            "text/plain": [
              "array([11, 12, 13, 14, 15, 16, 17, 18, 19, 20, 21, 22, 23, 24, 25, 26, 27,\n",
              "       28, 29])"
            ]
          },
          "metadata": {},
          "execution_count": 106
        }
      ]
    },
    {
      "cell_type": "code",
      "source": [
        "sample_matrix == 10"
      ],
      "metadata": {
        "colab": {
          "base_uri": "https://localhost:8080/"
        },
        "id": "VwXDaQyGY4nH",
        "outputId": "dede7dc7-244e-4fc4-8dee-41308c539913"
      },
      "execution_count": null,
      "outputs": [
        {
          "output_type": "execute_result",
          "data": {
            "text/plain": [
              "array([[False, False, False, False, False],\n",
              "       [False, False, False, False, False],\n",
              "       [ True, False, False, False, False],\n",
              "       [False, False, False, False, False],\n",
              "       [False, False, False, False, False],\n",
              "       [False, False, False, False, False]])"
            ]
          },
          "metadata": {},
          "execution_count": 108
        }
      ]
    },
    {
      "cell_type": "code",
      "source": [
        "sample_matrix[sample_matrix == 10]"
      ],
      "metadata": {
        "colab": {
          "base_uri": "https://localhost:8080/"
        },
        "id": "SYqbVo8rYzE-",
        "outputId": "411b66d0-757d-4f6c-de6c-b202c266c938"
      },
      "execution_count": null,
      "outputs": [
        {
          "output_type": "execute_result",
          "data": {
            "text/plain": [
              "array([10])"
            ]
          },
          "metadata": {},
          "execution_count": 107
        }
      ]
    },
    {
      "cell_type": "markdown",
      "metadata": {
        "id": "ZLAFnKkRDrjr"
      },
      "source": [
        "Также, поскольку маски это всего навсего numpy массивы из элементов типа np.bool, мы можем создавать логические связки из масок. Например, с помощью логического И (&), логического ИЛИ (||). Также представлены специальные методы ([см. раздел 7.6.2](https://pyprog.pro/basic_operations.html))"
      ]
    },
    {
      "cell_type": "code",
      "metadata": {
        "id": "vuyI0x1SZowP",
        "colab": {
          "base_uri": "https://localhost:8080/"
        },
        "outputId": "e3207ce2-e62a-4436-87db-22070abaa3ce"
      },
      "source": [
        "(sample_matrix > 10) & (sample_matrix <= 20)"
      ],
      "execution_count": null,
      "outputs": [
        {
          "output_type": "execute_result",
          "data": {
            "text/plain": [
              "array([[False, False, False, False, False],\n",
              "       [False, False, False, False, False],\n",
              "       [False,  True,  True,  True,  True],\n",
              "       [ True,  True,  True,  True,  True],\n",
              "       [ True, False, False, False, False],\n",
              "       [False, False, False, False, False]])"
            ]
          },
          "metadata": {},
          "execution_count": 110
        }
      ]
    },
    {
      "cell_type": "code",
      "metadata": {
        "id": "7S9n_-9OZyYd",
        "colab": {
          "base_uri": "https://localhost:8080/"
        },
        "outputId": "c46ef0a6-2640-4603-851d-267154ba2e76"
      },
      "source": [
        "sample_matrix[(sample_matrix > 10) & (sample_matrix <= 20)]"
      ],
      "execution_count": null,
      "outputs": [
        {
          "output_type": "execute_result",
          "data": {
            "text/plain": [
              "array([11, 12, 13, 14, 15, 16, 17, 18, 19, 20])"
            ]
          },
          "metadata": {},
          "execution_count": 111
        }
      ]
    },
    {
      "cell_type": "markdown",
      "metadata": {
        "id": "kpzQoIfsM001"
      },
      "source": [
        "#### Операции с numpy массивами\n",
        "Основные математические функции работают поэлементно на массивах и доступны как в виде перегрузок операторов, так и в виде функций в модуле Numpy."
      ]
    },
    {
      "cell_type": "code",
      "metadata": {
        "id": "v59DfmTfXyZ-",
        "colab": {
          "base_uri": "https://localhost:8080/"
        },
        "outputId": "84379b52-4463-4f9a-8976-72a97ce0c492"
      },
      "source": [
        "a = np.array([1,2,3])\n",
        "print(a)\n",
        "b = np.ones(3)\n",
        "print(b)"
      ],
      "execution_count": null,
      "outputs": [
        {
          "output_type": "stream",
          "name": "stdout",
          "text": [
            "[1 2 3]\n",
            "[1. 1. 1.]\n"
          ]
        }
      ]
    },
    {
      "cell_type": "markdown",
      "metadata": {
        "id": "jiQ_N5qLGZ_G"
      },
      "source": [
        "Поэлементная сумма и разность"
      ]
    },
    {
      "cell_type": "code",
      "metadata": {
        "id": "7Ilz3SK2X27E",
        "colab": {
          "base_uri": "https://localhost:8080/"
        },
        "outputId": "f60d06ce-48b9-4d5a-a761-5261b7eaf71b"
      },
      "source": [
        "a + b"
      ],
      "execution_count": null,
      "outputs": [
        {
          "output_type": "execute_result",
          "data": {
            "text/plain": [
              "array([2., 3., 4.])"
            ]
          },
          "metadata": {},
          "execution_count": 113
        }
      ]
    },
    {
      "cell_type": "code",
      "metadata": {
        "id": "YnqfaZmvYMAJ",
        "colab": {
          "base_uri": "https://localhost:8080/"
        },
        "outputId": "47612899-3c41-4844-f980-e45ab4fb9637"
      },
      "source": [
        "a - b"
      ],
      "execution_count": null,
      "outputs": [
        {
          "output_type": "execute_result",
          "data": {
            "text/plain": [
              "array([0., 1., 2.])"
            ]
          },
          "metadata": {},
          "execution_count": 114
        }
      ]
    },
    {
      "cell_type": "code",
      "metadata": {
        "id": "rzUjD-0bYN8E",
        "colab": {
          "base_uri": "https://localhost:8080/"
        },
        "outputId": "b768a722-0fa3-4de1-f07a-813862adae09"
      },
      "source": [
        "c = np.full((3,2), 5)\n",
        "c"
      ],
      "execution_count": null,
      "outputs": [
        {
          "output_type": "execute_result",
          "data": {
            "text/plain": [
              "array([[5, 5],\n",
              "       [5, 5],\n",
              "       [5, 5]])"
            ]
          },
          "metadata": {},
          "execution_count": 117
        }
      ]
    },
    {
      "cell_type": "code",
      "metadata": {
        "id": "RHr8jNXaYRv9",
        "colab": {
          "base_uri": "https://localhost:8080/",
          "height": 201
        },
        "outputId": "255d35da-b8d5-456a-8cbe-60f8d2cc508a"
      },
      "source": [
        "a - c # выведет ошибку о несовпадении размерностей.\n",
        "# Если нам нужна какая-то поэлементная операция типа сложения, умножения, разности, деления, то\n",
        "# в первом приближении размерности должны совпадать либо быть broadcastable (см. дальше)"
      ],
      "execution_count": null,
      "outputs": [
        {
          "output_type": "error",
          "ename": "ValueError",
          "evalue": "ignored",
          "traceback": [
            "\u001b[0;31m---------------------------------------------------------------------------\u001b[0m",
            "\u001b[0;31mValueError\u001b[0m                                Traceback (most recent call last)",
            "\u001b[0;32m<ipython-input-118-a0cf1e9d8dc5>\u001b[0m in \u001b[0;36m<module>\u001b[0;34m()\u001b[0m\n\u001b[0;32m----> 1\u001b[0;31m \u001b[0ma\u001b[0m \u001b[0;34m-\u001b[0m \u001b[0mc\u001b[0m \u001b[0;31m# выведет ошибку о несовпадении размерностей.\u001b[0m\u001b[0;34m\u001b[0m\u001b[0;34m\u001b[0m\u001b[0m\n\u001b[0m\u001b[1;32m      2\u001b[0m \u001b[0;31m# Если нам нужна какая-то поэлементная операция типа сложения, умножения, разности, деления, то\u001b[0m\u001b[0;34m\u001b[0m\u001b[0;34m\u001b[0m\u001b[0;34m\u001b[0m\u001b[0m\n\u001b[1;32m      3\u001b[0m \u001b[0;31m# в первом приближении размерности должны совпадать либо быть broadcastable (см. дальше)\u001b[0m\u001b[0;34m\u001b[0m\u001b[0;34m\u001b[0m\u001b[0;34m\u001b[0m\u001b[0m\n",
            "\u001b[0;31mValueError\u001b[0m: operands could not be broadcast together with shapes (3,) (3,2) "
          ]
        }
      ]
    },
    {
      "cell_type": "markdown",
      "metadata": {
        "id": "Y2e3hBBzGe8f"
      },
      "source": [
        "Поэлементное умножение"
      ]
    },
    {
      "cell_type": "code",
      "source": [
        "a"
      ],
      "metadata": {
        "colab": {
          "base_uri": "https://localhost:8080/"
        },
        "id": "jPbKqFWhZ9pC",
        "outputId": "bc836b6d-5797-4dc9-e6e2-c6981ab0904f"
      },
      "execution_count": null,
      "outputs": [
        {
          "output_type": "execute_result",
          "data": {
            "text/plain": [
              "array([1, 2, 3])"
            ]
          },
          "metadata": {},
          "execution_count": 120
        }
      ]
    },
    {
      "cell_type": "code",
      "source": [
        "b"
      ],
      "metadata": {
        "colab": {
          "base_uri": "https://localhost:8080/"
        },
        "id": "SrELcZDCZ9hI",
        "outputId": "947e5bb3-4ca1-4c4a-c947-0b0775ba034b"
      },
      "execution_count": null,
      "outputs": [
        {
          "output_type": "execute_result",
          "data": {
            "text/plain": [
              "array([1., 1., 1.])"
            ]
          },
          "metadata": {},
          "execution_count": 121
        }
      ]
    },
    {
      "cell_type": "code",
      "metadata": {
        "id": "qtaHn7ShYhmE",
        "colab": {
          "base_uri": "https://localhost:8080/"
        },
        "outputId": "2dc96521-e7e1-47c5-821a-bf4e700de39c"
      },
      "source": [
        "a * b"
      ],
      "execution_count": null,
      "outputs": [
        {
          "output_type": "execute_result",
          "data": {
            "text/plain": [
              "array([1., 2., 3.])"
            ]
          },
          "metadata": {},
          "execution_count": 119
        }
      ]
    },
    {
      "cell_type": "markdown",
      "metadata": {
        "id": "-97ESYQfGhCu"
      },
      "source": [
        "Поэлементное деление"
      ]
    },
    {
      "cell_type": "code",
      "metadata": {
        "id": "3yq9iiW4Yjm4",
        "colab": {
          "base_uri": "https://localhost:8080/"
        },
        "outputId": "2d2f42a3-6b2f-4d09-bbef-0c7ec53e0049"
      },
      "source": [
        "b / a"
      ],
      "execution_count": null,
      "outputs": [
        {
          "output_type": "execute_result",
          "data": {
            "text/plain": [
              "array([1.        , 0.5       , 0.33333333])"
            ]
          },
          "metadata": {},
          "execution_count": 122
        }
      ]
    },
    {
      "cell_type": "markdown",
      "metadata": {
        "id": "4cP4BtlRGlCW"
      },
      "source": [
        "Скалярное произведение для одномерных массивов"
      ]
    },
    {
      "cell_type": "code",
      "source": [
        "# 1 2 3 \n",
        "# 1 1 1\n",
        "\n",
        "# 1*1 + 2*1 + 3*1"
      ],
      "metadata": {
        "id": "Q_KSKdZRaKaj"
      },
      "execution_count": null,
      "outputs": []
    },
    {
      "cell_type": "code",
      "source": [
        "# 1 1\n",
        "# 2 1\n",
        "# 3 1"
      ],
      "metadata": {
        "id": "66XOQf29a3BQ"
      },
      "execution_count": null,
      "outputs": []
    },
    {
      "cell_type": "code",
      "source": [
        "a = np.array([1,2,3,4,5])\n",
        "a"
      ],
      "metadata": {
        "colab": {
          "base_uri": "https://localhost:8080/"
        },
        "id": "TC7Qec7AbGeQ",
        "outputId": "8656a8be-873b-4dc0-8c6c-2698fc5e2693"
      },
      "execution_count": null,
      "outputs": [
        {
          "output_type": "execute_result",
          "data": {
            "text/plain": [
              "array([1, 2, 3, 4, 5])"
            ]
          },
          "metadata": {},
          "execution_count": 126
        }
      ]
    },
    {
      "cell_type": "code",
      "source": [
        "a.shape"
      ],
      "metadata": {
        "colab": {
          "base_uri": "https://localhost:8080/"
        },
        "id": "xO9AQ-HtbK97",
        "outputId": "c346142d-ad95-49b0-bdae-6a6e070a9049"
      },
      "execution_count": null,
      "outputs": [
        {
          "output_type": "execute_result",
          "data": {
            "text/plain": [
              "(5,)"
            ]
          },
          "metadata": {},
          "execution_count": 127
        }
      ]
    },
    {
      "cell_type": "code",
      "source": [
        "a.reshape((1, 5))"
      ],
      "metadata": {
        "colab": {
          "base_uri": "https://localhost:8080/"
        },
        "id": "OcwPXO7zbQMy",
        "outputId": "8e8cac0b-d713-4b27-f054-bd932f48322f"
      },
      "execution_count": null,
      "outputs": [
        {
          "output_type": "execute_result",
          "data": {
            "text/plain": [
              "array([[1, 2, 3, 4, 5]])"
            ]
          },
          "metadata": {},
          "execution_count": 128
        }
      ]
    },
    {
      "cell_type": "code",
      "source": [
        "a.reshape((1, 5)).shape"
      ],
      "metadata": {
        "colab": {
          "base_uri": "https://localhost:8080/"
        },
        "id": "D0Kb5wzrbWw-",
        "outputId": "45218f1a-157b-4ef1-c85f-e044a10129e2"
      },
      "execution_count": null,
      "outputs": [
        {
          "output_type": "execute_result",
          "data": {
            "text/plain": [
              "(1, 5)"
            ]
          },
          "metadata": {},
          "execution_count": 129
        }
      ]
    },
    {
      "cell_type": "code",
      "source": [
        "a.reshape((5, 1))"
      ],
      "metadata": {
        "colab": {
          "base_uri": "https://localhost:8080/"
        },
        "id": "1Zbqr4AGbavK",
        "outputId": "e5151f7f-ad4f-4126-cd6d-4de01d932d95"
      },
      "execution_count": null,
      "outputs": [
        {
          "output_type": "execute_result",
          "data": {
            "text/plain": [
              "array([[1],\n",
              "       [2],\n",
              "       [3],\n",
              "       [4],\n",
              "       [5]])"
            ]
          },
          "metadata": {},
          "execution_count": 130
        }
      ]
    },
    {
      "cell_type": "code",
      "source": [
        "a.reshape((5, 1)).shape"
      ],
      "metadata": {
        "colab": {
          "base_uri": "https://localhost:8080/"
        },
        "id": "143QAPDHbk6D",
        "outputId": "f83b4398-019f-4733-bf9f-5aa1a4c7c4c7"
      },
      "execution_count": null,
      "outputs": [
        {
          "output_type": "execute_result",
          "data": {
            "text/plain": [
              "(5, 1)"
            ]
          },
          "metadata": {},
          "execution_count": 131
        }
      ]
    },
    {
      "cell_type": "code",
      "source": [
        "a = np.array([1,2,3]).reshape((3,1))\n",
        "print(a)\n",
        "print()\n",
        "b = np.array([1,1,1]).reshape((1,3))\n",
        "print(b)"
      ],
      "metadata": {
        "colab": {
          "base_uri": "https://localhost:8080/"
        },
        "id": "CSYD0sNYbpdF",
        "outputId": "f422b6ba-1a4d-4256-f16c-acd02f8f6479"
      },
      "execution_count": null,
      "outputs": [
        {
          "output_type": "stream",
          "name": "stdout",
          "text": [
            "[[1]\n",
            " [2]\n",
            " [3]]\n",
            "\n",
            "[[1 1 1]]\n"
          ]
        }
      ]
    },
    {
      "cell_type": "code",
      "source": [
        "a.shape"
      ],
      "metadata": {
        "colab": {
          "base_uri": "https://localhost:8080/"
        },
        "id": "vgxawyPPejuY",
        "outputId": "576be1fb-bd04-4ea2-f8cb-66be1fb2a056"
      },
      "execution_count": null,
      "outputs": [
        {
          "output_type": "execute_result",
          "data": {
            "text/plain": [
              "(3, 1)"
            ]
          },
          "metadata": {},
          "execution_count": 139
        }
      ]
    },
    {
      "cell_type": "code",
      "source": [
        "b.shape"
      ],
      "metadata": {
        "colab": {
          "base_uri": "https://localhost:8080/"
        },
        "id": "2Zihl6wmemjp",
        "outputId": "387ab0a4-3c32-44ab-9cfe-f7b5c18e1cfb"
      },
      "execution_count": null,
      "outputs": [
        {
          "output_type": "execute_result",
          "data": {
            "text/plain": [
              "(1, 3)"
            ]
          },
          "metadata": {},
          "execution_count": 140
        }
      ]
    },
    {
      "cell_type": "code",
      "source": [
        "a @ b "
      ],
      "metadata": {
        "colab": {
          "base_uri": "https://localhost:8080/"
        },
        "id": "pLPkxBw8b3pR",
        "outputId": "817cf1cd-be9e-47f9-fcf8-41b5daca0ee9"
      },
      "execution_count": null,
      "outputs": [
        {
          "output_type": "execute_result",
          "data": {
            "text/plain": [
              "array([[1, 1, 1],\n",
              "       [2, 2, 2],\n",
              "       [3, 3, 3]])"
            ]
          },
          "metadata": {},
          "execution_count": 141
        }
      ]
    },
    {
      "cell_type": "code",
      "metadata": {
        "id": "cfiyasOmYv7Z",
        "colab": {
          "base_uri": "https://localhost:8080/"
        },
        "outputId": "1930fb74-1015-4a88-97e0-8cf25eec8e3f"
      },
      "source": [
        "a @ b "
      ],
      "execution_count": null,
      "outputs": [
        {
          "output_type": "execute_result",
          "data": {
            "text/plain": [
              "6.0"
            ]
          },
          "metadata": {},
          "execution_count": 123
        }
      ]
    },
    {
      "cell_type": "code",
      "source": [],
      "metadata": {
        "id": "oCIkUpqravWQ"
      },
      "execution_count": null,
      "outputs": []
    },
    {
      "cell_type": "markdown",
      "metadata": {
        "id": "p17mYLmaGoSs"
      },
      "source": [
        "Матричное умножение для матриц"
      ]
    },
    {
      "cell_type": "code",
      "source": [
        "b = np.ones(3)\n",
        "print(b)"
      ],
      "metadata": {
        "colab": {
          "base_uri": "https://localhost:8080/"
        },
        "id": "8qL4ePEzfGPk",
        "outputId": "23029087-4d27-4c55-f3ea-6667cf730cbc"
      },
      "execution_count": null,
      "outputs": [
        {
          "output_type": "stream",
          "name": "stdout",
          "text": [
            "[1. 1. 1.]\n"
          ]
        }
      ]
    },
    {
      "cell_type": "code",
      "metadata": {
        "id": "sBGrD9s9Y60n",
        "colab": {
          "base_uri": "https://localhost:8080/"
        },
        "outputId": "55b6b3d9-43d0-4bdf-d238-98e2aca8bb4f"
      },
      "source": [
        "m = np.full((5,3), 3)\n",
        "m"
      ],
      "execution_count": null,
      "outputs": [
        {
          "output_type": "execute_result",
          "data": {
            "text/plain": [
              "array([[3, 3, 3],\n",
              "       [3, 3, 3],\n",
              "       [3, 3, 3],\n",
              "       [3, 3, 3],\n",
              "       [3, 3, 3]])"
            ]
          },
          "metadata": {},
          "execution_count": 143
        }
      ]
    },
    {
      "cell_type": "code",
      "source": [
        "m"
      ],
      "metadata": {
        "colab": {
          "base_uri": "https://localhost:8080/"
        },
        "id": "A9DFXaMXamR5",
        "outputId": "83c1e0bb-b3f3-4bc3-f460-ce430d381291"
      },
      "execution_count": null,
      "outputs": [
        {
          "output_type": "execute_result",
          "data": {
            "text/plain": [
              "array([[3, 3, 3],\n",
              "       [3, 3, 3],\n",
              "       [3, 3, 3],\n",
              "       [3, 3, 3],\n",
              "       [3, 3, 3]])"
            ]
          },
          "metadata": {},
          "execution_count": 125
        }
      ]
    },
    {
      "cell_type": "code",
      "metadata": {
        "id": "Qf9UvD1kY_Mm",
        "colab": {
          "base_uri": "https://localhost:8080/"
        },
        "outputId": "075193e4-e7ec-4647-ec3a-f9f0f4ca6480"
      },
      "source": [
        "m @ b"
      ],
      "execution_count": null,
      "outputs": [
        {
          "output_type": "execute_result",
          "data": {
            "text/plain": [
              "array([9., 9., 9., 9., 9.])"
            ]
          },
          "metadata": {},
          "execution_count": 144
        }
      ]
    },
    {
      "cell_type": "markdown",
      "metadata": {
        "id": "XCCgBC5hNUMQ"
      },
      "source": [
        "Numpy предоставляет много полезных функций для выполнения вычислений на массивах.\n",
        "\n",
        "Полный список можно найти [здесь](https://docs.scipy.org/doc/numpy/reference/routines.math.html)"
      ]
    },
    {
      "cell_type": "code",
      "metadata": {
        "id": "QQol3LM9NZMm"
      },
      "source": [
        "# sum, mean etc"
      ],
      "execution_count": null,
      "outputs": []
    },
    {
      "cell_type": "code",
      "metadata": {
        "colab": {
          "base_uri": "https://localhost:8080/"
        },
        "id": "YuB5ZB7bRq-f",
        "outputId": "b98bf39d-7ef8-4485-ba0d-ce57450755e7"
      },
      "source": [
        "m"
      ],
      "execution_count": null,
      "outputs": [
        {
          "output_type": "execute_result",
          "data": {
            "text/plain": [
              "array([[3, 3, 3],\n",
              "       [3, 3, 3],\n",
              "       [3, 3, 3],\n",
              "       [3, 3, 3],\n",
              "       [3, 3, 3]])"
            ]
          },
          "metadata": {},
          "execution_count": 145
        }
      ]
    },
    {
      "cell_type": "code",
      "metadata": {
        "id": "bfmdrcOuZ8Ri",
        "colab": {
          "base_uri": "https://localhost:8080/"
        },
        "outputId": "f84dedb0-eaa5-4141-c3f0-20babe7dc8b8"
      },
      "source": [
        "np.sum(m)"
      ],
      "execution_count": null,
      "outputs": [
        {
          "output_type": "execute_result",
          "data": {
            "text/plain": [
              "45"
            ]
          },
          "metadata": {},
          "execution_count": 146
        }
      ]
    },
    {
      "cell_type": "code",
      "source": [
        "sample_matrix"
      ],
      "metadata": {
        "colab": {
          "base_uri": "https://localhost:8080/"
        },
        "id": "4fNXB9MofmaY",
        "outputId": "c9eb634f-7f0e-47fd-b80f-5087d3dd285a"
      },
      "execution_count": null,
      "outputs": [
        {
          "output_type": "execute_result",
          "data": {
            "text/plain": [
              "array([[ 0,  1,  2,  3,  4],\n",
              "       [ 5,  6,  7,  8,  9],\n",
              "       [10, 11, 12, 13, 14],\n",
              "       [15, 16, 17, 18, 19],\n",
              "       [20, 21, 22, 23, 24],\n",
              "       [25, 26, 27, 28, 29]])"
            ]
          },
          "metadata": {},
          "execution_count": 147
        }
      ]
    },
    {
      "cell_type": "code",
      "metadata": {
        "id": "IsMpgZSZaEzN",
        "colab": {
          "base_uri": "https://localhost:8080/"
        },
        "outputId": "b831d596-5d53-49c5-9f55-db636742bb0d"
      },
      "source": [
        "np.mean(sample_matrix)"
      ],
      "execution_count": null,
      "outputs": [
        {
          "output_type": "execute_result",
          "data": {
            "text/plain": [
              "14.5"
            ]
          },
          "metadata": {},
          "execution_count": 148
        }
      ]
    },
    {
      "cell_type": "code",
      "source": [],
      "metadata": {
        "id": "bw98HeaLfqYM"
      },
      "execution_count": null,
      "outputs": []
    },
    {
      "cell_type": "markdown",
      "metadata": {
        "id": "Dqjztt9KcO_8"
      },
      "source": [
        "[Материал по осям в pandas (в numpy аналогично) ](https://railsware.com/blog/python-for-machine-learning-pandas-axis-explained/#:~:text=A%20DataFrame%20object%20has%20two,it%20goes%20along%20rows%20direction.)\n",
        "\n",
        "![axes](https://railsware.com/blog/wp-content/uploads/2018/11/data-frame-axes.png)\n",
        "\n",
        "![axes](https://i.stack.imgur.com/FzimB.png)"
      ]
    },
    {
      "cell_type": "code",
      "metadata": {
        "colab": {
          "base_uri": "https://localhost:8080/"
        },
        "id": "jnZKtEJnR3Mb",
        "outputId": "ad6e1a29-ec24-4eae-8283-f8b81f5eb570"
      },
      "source": [
        "sample_matrix"
      ],
      "execution_count": null,
      "outputs": [
        {
          "output_type": "execute_result",
          "data": {
            "text/plain": [
              "array([[ 0,  1,  2,  3,  4],\n",
              "       [ 5,  6,  7,  8,  9],\n",
              "       [10, 11, 12, 13, 14],\n",
              "       [15, 16, 17, 18, 19],\n",
              "       [20, 21, 22, 23, 24],\n",
              "       [25, 26, 27, 28, 29]])"
            ]
          },
          "metadata": {},
          "execution_count": 149
        }
      ]
    },
    {
      "cell_type": "code",
      "metadata": {
        "id": "I-blrfAsaMSe",
        "colab": {
          "base_uri": "https://localhost:8080/"
        },
        "outputId": "738dcac1-e498-447f-8a57-34cfe29ec240"
      },
      "source": [
        "np.sum(sample_matrix, axis=0) # сумма по каждому столбцу"
      ],
      "execution_count": null,
      "outputs": [
        {
          "output_type": "execute_result",
          "data": {
            "text/plain": [
              "array([75, 81, 87, 93, 99])"
            ]
          },
          "metadata": {},
          "execution_count": 151
        }
      ]
    },
    {
      "cell_type": "code",
      "source": [
        "np.sum(sample_matrix, axis=1) # сумма по строкам"
      ],
      "metadata": {
        "colab": {
          "base_uri": "https://localhost:8080/"
        },
        "id": "jfBGpFFEf14o",
        "outputId": "0860dcc1-1c8f-4820-851b-adfbccedce24"
      },
      "execution_count": null,
      "outputs": [
        {
          "output_type": "execute_result",
          "data": {
            "text/plain": [
              "array([ 10,  35,  60,  85, 110, 135])"
            ]
          },
          "metadata": {},
          "execution_count": 152
        }
      ]
    },
    {
      "cell_type": "code",
      "metadata": {
        "id": "HOK_IRXOeArB",
        "colab": {
          "base_uri": "https://localhost:8080/"
        },
        "outputId": "226fb3ae-bf54-47e7-f73a-3e9f98c03506"
      },
      "source": [
        "print(sample_matrix.shape)\n",
        "np.sum(sample_matrix, axis=0)"
      ],
      "execution_count": null,
      "outputs": [
        {
          "output_type": "stream",
          "name": "stdout",
          "text": [
            "(6, 5)\n"
          ]
        },
        {
          "output_type": "execute_result",
          "data": {
            "text/plain": [
              "array([75, 81, 87, 93, 99])"
            ]
          },
          "metadata": {},
          "execution_count": 153
        }
      ]
    },
    {
      "cell_type": "code",
      "source": [
        "np.sum(sample_matrix, axis=0)"
      ],
      "metadata": {
        "colab": {
          "base_uri": "https://localhost:8080/"
        },
        "id": "1bXv60yrgj20",
        "outputId": "0cccea66-ed9a-464c-9235-c6f3ebf8eaa2"
      },
      "execution_count": null,
      "outputs": [
        {
          "output_type": "execute_result",
          "data": {
            "text/plain": [
              "array([75, 81, 87, 93, 99])"
            ]
          },
          "metadata": {},
          "execution_count": 159
        }
      ]
    },
    {
      "cell_type": "code",
      "source": [
        "sample_matrix"
      ],
      "metadata": {
        "colab": {
          "base_uri": "https://localhost:8080/"
        },
        "id": "ow7PCzkMgX_u",
        "outputId": "8876d17c-68de-4ad2-c073-b658997eac0b"
      },
      "execution_count": null,
      "outputs": [
        {
          "output_type": "execute_result",
          "data": {
            "text/plain": [
              "array([[ 0,  1,  2,  3,  4],\n",
              "       [ 5,  6,  7,  8,  9],\n",
              "       [10, 11, 12, 13, 14],\n",
              "       [15, 16, 17, 18, 19],\n",
              "       [20, 21, 22, 23, 24],\n",
              "       [25, 26, 27, 28, 29]])"
            ]
          },
          "metadata": {},
          "execution_count": 158
        }
      ]
    },
    {
      "cell_type": "code",
      "metadata": {
        "id": "qYJSGmKnau37",
        "colab": {
          "base_uri": "https://localhost:8080/"
        },
        "outputId": "acba2800-5072-467f-92ac-1d8f6935887c"
      },
      "source": [
        "np.sum(sample_matrix, axis=1) # сумма по каждой строке"
      ],
      "execution_count": null,
      "outputs": [
        {
          "output_type": "execute_result",
          "data": {
            "text/plain": [
              "array([ 10,  35,  60,  85, 110, 135])"
            ]
          },
          "metadata": {},
          "execution_count": 154
        }
      ]
    },
    {
      "cell_type": "code",
      "metadata": {
        "id": "sRmo2eCneLLA",
        "colab": {
          "base_uri": "https://localhost:8080/"
        },
        "outputId": "c8a2fc26-4275-4bd2-cdbf-9af0354db537"
      },
      "source": [
        "print(sample_matrix.shape)\n",
        "np.sum(sample_matrix, axis=1)#.shape"
      ],
      "execution_count": null,
      "outputs": [
        {
          "output_type": "stream",
          "name": "stdout",
          "text": [
            "(6, 5)\n"
          ]
        },
        {
          "output_type": "execute_result",
          "data": {
            "text/plain": [
              "array([ 10,  35,  60,  85, 110, 135])"
            ]
          },
          "metadata": {},
          "execution_count": 157
        }
      ]
    },
    {
      "cell_type": "code",
      "source": [
        "arr = np.arange(30).reshape(2, 5, 3)\n",
        "arr"
      ],
      "metadata": {
        "colab": {
          "base_uri": "https://localhost:8080/"
        },
        "id": "CUU6M3j_gygO",
        "outputId": "33fd5ec7-ce11-4057-c606-0c230e32e564"
      },
      "execution_count": null,
      "outputs": [
        {
          "output_type": "execute_result",
          "data": {
            "text/plain": [
              "array([[[ 0,  1,  2],\n",
              "        [ 3,  4,  5],\n",
              "        [ 6,  7,  8],\n",
              "        [ 9, 10, 11],\n",
              "        [12, 13, 14]],\n",
              "\n",
              "       [[15, 16, 17],\n",
              "        [18, 19, 20],\n",
              "        [21, 22, 23],\n",
              "        [24, 25, 26],\n",
              "        [27, 28, 29]]])"
            ]
          },
          "metadata": {},
          "execution_count": 160
        }
      ]
    },
    {
      "cell_type": "code",
      "source": [
        "np.sum(arr, axis=2)"
      ],
      "metadata": {
        "colab": {
          "base_uri": "https://localhost:8080/"
        },
        "id": "rgvTySiuhuuf",
        "outputId": "9cc2ec26-2c26-490f-d118-04416b5e7ca6"
      },
      "execution_count": null,
      "outputs": [
        {
          "output_type": "execute_result",
          "data": {
            "text/plain": [
              "array([[ 3, 12, 21, 30, 39],\n",
              "       [48, 57, 66, 75, 84]])"
            ]
          },
          "metadata": {},
          "execution_count": 163
        }
      ]
    },
    {
      "cell_type": "code",
      "source": [
        "np.sum(arr, axis=1)"
      ],
      "metadata": {
        "colab": {
          "base_uri": "https://localhost:8080/"
        },
        "id": "svlzuXvDhcDn",
        "outputId": "b0a223a8-9826-4c19-990e-43e27fbcb6ae"
      },
      "execution_count": null,
      "outputs": [
        {
          "output_type": "execute_result",
          "data": {
            "text/plain": [
              "array([[ 30,  35,  40],\n",
              "       [105, 110, 115]])"
            ]
          },
          "metadata": {},
          "execution_count": 162
        }
      ]
    },
    {
      "cell_type": "code",
      "source": [
        "np.sum(arr, axis=0)"
      ],
      "metadata": {
        "colab": {
          "base_uri": "https://localhost:8080/"
        },
        "id": "YJGZUkKYhAEk",
        "outputId": "f292b212-8725-4690-c388-b5855971e03f"
      },
      "execution_count": null,
      "outputs": [
        {
          "output_type": "execute_result",
          "data": {
            "text/plain": [
              "array([[15, 17, 19],\n",
              "       [21, 23, 25],\n",
              "       [27, 29, 31],\n",
              "       [33, 35, 37],\n",
              "       [39, 41, 43]])"
            ]
          },
          "metadata": {},
          "execution_count": 161
        }
      ]
    },
    {
      "cell_type": "code",
      "source": [],
      "metadata": {
        "id": "AB2FMQRZhAAI"
      },
      "execution_count": null,
      "outputs": []
    },
    {
      "cell_type": "markdown",
      "metadata": {
        "id": "prJphf-1OkpH"
      },
      "source": [
        "Помимо вычисления математических функций с использованием массивов, нам часто необходимо изменять или иным образом манипулировать данными в массивах. \n",
        "\n",
        "[Глоссарий функций](https://docs.scipy.org/doc/numpy/reference/routines.array-manipulation.html) для манипуляций с массивами"
      ]
    },
    {
      "cell_type": "markdown",
      "metadata": {
        "id": "B40RREDVH0R_"
      },
      "source": [
        "[Транспонирование матрицы](https://ru.wikipedia.org/wiki/%D0%A2%D1%80%D0%B0%D0%BD%D1%81%D0%BF%D0%BE%D0%BD%D0%B8%D1%80%D0%BE%D0%B2%D0%B0%D0%BD%D0%BD%D0%B0%D1%8F_%D0%BC%D0%B0%D1%82%D1%80%D0%B8%D1%86%D0%B0) "
      ]
    },
    {
      "cell_type": "code",
      "source": [
        "sample_matrix"
      ],
      "metadata": {
        "colab": {
          "base_uri": "https://localhost:8080/"
        },
        "id": "6Nrel2iwiIHc",
        "outputId": "dea5a783-6b1e-4ccd-a79b-d23e3f0036d7"
      },
      "execution_count": null,
      "outputs": [
        {
          "output_type": "execute_result",
          "data": {
            "text/plain": [
              "array([[ 0,  1,  2,  3,  4],\n",
              "       [ 5,  6,  7,  8,  9],\n",
              "       [10, 11, 12, 13, 14],\n",
              "       [15, 16, 17, 18, 19],\n",
              "       [20, 21, 22, 23, 24],\n",
              "       [25, 26, 27, 28, 29]])"
            ]
          },
          "metadata": {},
          "execution_count": 165
        }
      ]
    },
    {
      "cell_type": "code",
      "metadata": {
        "id": "fo39V02ke8zr",
        "colab": {
          "base_uri": "https://localhost:8080/"
        },
        "outputId": "bab521d7-f64a-4aaf-8e57-68846e4df015"
      },
      "source": [
        "sample_matrix.shape"
      ],
      "execution_count": null,
      "outputs": [
        {
          "output_type": "execute_result",
          "data": {
            "text/plain": [
              "(6, 5)"
            ]
          },
          "metadata": {},
          "execution_count": 164
        }
      ]
    },
    {
      "cell_type": "code",
      "metadata": {
        "id": "aiWzpFX8fBVp",
        "colab": {
          "base_uri": "https://localhost:8080/"
        },
        "outputId": "56be01e3-682d-444b-961c-b49af0eced1c"
      },
      "source": [
        "sample_matrix.T"
      ],
      "execution_count": null,
      "outputs": [
        {
          "output_type": "execute_result",
          "data": {
            "text/plain": [
              "array([[ 0,  5, 10, 15, 20, 25],\n",
              "       [ 1,  6, 11, 16, 21, 26],\n",
              "       [ 2,  7, 12, 17, 22, 27],\n",
              "       [ 3,  8, 13, 18, 23, 28],\n",
              "       [ 4,  9, 14, 19, 24, 29]])"
            ]
          },
          "metadata": {},
          "execution_count": 166
        }
      ]
    },
    {
      "cell_type": "code",
      "source": [
        "print(sample_matrix.T.shape)"
      ],
      "metadata": {
        "colab": {
          "base_uri": "https://localhost:8080/"
        },
        "id": "hULHzp2IiOuN",
        "outputId": "2d5465de-bc7e-4a8f-ecc9-73e5a659cf66"
      },
      "execution_count": null,
      "outputs": [
        {
          "output_type": "stream",
          "name": "stdout",
          "text": [
            "(5, 6)\n"
          ]
        }
      ]
    },
    {
      "cell_type": "markdown",
      "metadata": {
        "id": "qrmyY1gnIQtR"
      },
      "source": [
        "Соединение нескольких массивов `np.concatenate`.\n",
        "\n",
        "axis = 0 соответствует соединению \"по вертикали\"\n",
        "\n",
        "axis = 1 соответствует соединению \"по горизонтали\"\n",
        "\n",
        "Также см. изображение выше, чтобы было проще запомнить"
      ]
    },
    {
      "cell_type": "code",
      "source": [
        "sample_matrix = np.arange(12).reshape((4,3))\n",
        "sample_matrix"
      ],
      "metadata": {
        "colab": {
          "base_uri": "https://localhost:8080/"
        },
        "id": "hT8_wWyIi2nf",
        "outputId": "1e8983b4-92d7-4389-fb80-418c4842d494"
      },
      "execution_count": null,
      "outputs": [
        {
          "output_type": "execute_result",
          "data": {
            "text/plain": [
              "array([[ 0,  1,  2],\n",
              "       [ 3,  4,  5],\n",
              "       [ 6,  7,  8],\n",
              "       [ 9, 10, 11]])"
            ]
          },
          "metadata": {},
          "execution_count": 168
        }
      ]
    },
    {
      "cell_type": "code",
      "metadata": {
        "colab": {
          "base_uri": "https://localhost:8080/"
        },
        "id": "_-CfdgkJSkP0",
        "outputId": "4f1fe621-4eab-4fff-f460-b3f22ffbe381"
      },
      "source": [
        "[sample_matrix, sample_matrix]"
      ],
      "execution_count": null,
      "outputs": [
        {
          "output_type": "execute_result",
          "data": {
            "text/plain": [
              "[array([[ 0,  1,  2],\n",
              "        [ 3,  4,  5],\n",
              "        [ 6,  7,  8],\n",
              "        [ 9, 10, 11]]), array([[ 0,  1,  2],\n",
              "        [ 3,  4,  5],\n",
              "        [ 6,  7,  8],\n",
              "        [ 9, 10, 11]])]"
            ]
          },
          "metadata": {},
          "execution_count": 169
        }
      ]
    },
    {
      "cell_type": "code",
      "metadata": {
        "id": "xmtZmr6yftOc",
        "colab": {
          "base_uri": "https://localhost:8080/"
        },
        "outputId": "b2126d68-d56a-4721-e086-f6788602f24b"
      },
      "source": [
        "np.concatenate([sample_matrix, sample_matrix], axis=1)"
      ],
      "execution_count": null,
      "outputs": [
        {
          "output_type": "execute_result",
          "data": {
            "text/plain": [
              "array([[ 0,  1,  2,  0,  1,  2],\n",
              "       [ 3,  4,  5,  3,  4,  5],\n",
              "       [ 6,  7,  8,  6,  7,  8],\n",
              "       [ 9, 10, 11,  9, 10, 11]])"
            ]
          },
          "metadata": {},
          "execution_count": 170
        }
      ]
    },
    {
      "cell_type": "code",
      "source": [
        "np.concatenate([sample_matrix, sample_matrix], axis=0)"
      ],
      "metadata": {
        "colab": {
          "base_uri": "https://localhost:8080/"
        },
        "id": "iDVTNULijc8U",
        "outputId": "6e38f2e5-3aab-4923-9b99-75e1d6ccd166"
      },
      "execution_count": null,
      "outputs": [
        {
          "output_type": "execute_result",
          "data": {
            "text/plain": [
              "array([[ 0,  1,  2],\n",
              "       [ 3,  4,  5],\n",
              "       [ 6,  7,  8],\n",
              "       [ 9, 10, 11],\n",
              "       [ 0,  1,  2],\n",
              "       [ 3,  4,  5],\n",
              "       [ 6,  7,  8],\n",
              "       [ 9, 10, 11]])"
            ]
          },
          "metadata": {},
          "execution_count": 171
        }
      ]
    },
    {
      "cell_type": "code",
      "metadata": {
        "id": "kFIkmmEag48m",
        "colab": {
          "base_uri": "https://localhost:8080/"
        },
        "outputId": "c520b193-bf17-4d4a-9946-c051af893595"
      },
      "source": [
        "np.vstack([sample_matrix, sample_matrix]).shape # аналог concatenate с axis=0"
      ],
      "execution_count": null,
      "outputs": [
        {
          "output_type": "execute_result",
          "data": {
            "text/plain": [
              "(8, 3)"
            ]
          },
          "metadata": {},
          "execution_count": 172
        }
      ]
    },
    {
      "cell_type": "code",
      "source": [
        "np.vstack([sample_matrix, sample_matrix])"
      ],
      "metadata": {
        "colab": {
          "base_uri": "https://localhost:8080/"
        },
        "id": "AbW9Ij0Gjzqr",
        "outputId": "5d7f3ff4-57ec-46a3-a78d-d4e947e28cc2"
      },
      "execution_count": null,
      "outputs": [
        {
          "output_type": "execute_result",
          "data": {
            "text/plain": [
              "array([[ 0,  1,  2],\n",
              "       [ 3,  4,  5],\n",
              "       [ 6,  7,  8],\n",
              "       [ 9, 10, 11],\n",
              "       [ 0,  1,  2],\n",
              "       [ 3,  4,  5],\n",
              "       [ 6,  7,  8],\n",
              "       [ 9, 10, 11]])"
            ]
          },
          "metadata": {},
          "execution_count": 173
        }
      ]
    },
    {
      "cell_type": "code",
      "metadata": {
        "id": "J6d7NG8CgBiB",
        "colab": {
          "base_uri": "https://localhost:8080/"
        },
        "outputId": "070021ea-149e-4a30-faf0-9ca5a35294a2"
      },
      "source": [
        "np.concatenate([sample_matrix, sample_matrix], axis=1).shape"
      ],
      "execution_count": null,
      "outputs": [
        {
          "output_type": "execute_result",
          "data": {
            "text/plain": [
              "(4, 6)"
            ]
          },
          "metadata": {},
          "execution_count": 174
        }
      ]
    },
    {
      "cell_type": "code",
      "source": [
        "np.concatenate([sample_matrix, sample_matrix], axis=1)"
      ],
      "metadata": {
        "colab": {
          "base_uri": "https://localhost:8080/"
        },
        "id": "ISOlZlJsj7pg",
        "outputId": "34d8c31a-8764-4c05-ac2a-eabd954e1761"
      },
      "execution_count": null,
      "outputs": [
        {
          "output_type": "execute_result",
          "data": {
            "text/plain": [
              "array([[ 0,  1,  2,  0,  1,  2],\n",
              "       [ 3,  4,  5,  3,  4,  5],\n",
              "       [ 6,  7,  8,  6,  7,  8],\n",
              "       [ 9, 10, 11,  9, 10, 11]])"
            ]
          },
          "metadata": {},
          "execution_count": 175
        }
      ]
    },
    {
      "cell_type": "code",
      "metadata": {
        "id": "xmNcuv_yguVU",
        "colab": {
          "base_uri": "https://localhost:8080/"
        },
        "outputId": "107cf42e-3fd4-4f7e-8fb0-efad70476054"
      },
      "source": [
        "np.hstack([sample_matrix, sample_matrix]).shape # аналог concatenate с axis=1"
      ],
      "execution_count": null,
      "outputs": [
        {
          "output_type": "execute_result",
          "data": {
            "text/plain": [
              "(4, 6)"
            ]
          },
          "metadata": {},
          "execution_count": 176
        }
      ]
    },
    {
      "cell_type": "code",
      "source": [
        "np.hstack([sample_matrix, sample_matrix])"
      ],
      "metadata": {
        "colab": {
          "base_uri": "https://localhost:8080/"
        },
        "id": "rnW8Nnd5kLcb",
        "outputId": "ab328120-bb0f-446d-c0cd-3c2b17583999"
      },
      "execution_count": null,
      "outputs": [
        {
          "output_type": "execute_result",
          "data": {
            "text/plain": [
              "array([[ 0,  1,  2,  0,  1,  2],\n",
              "       [ 3,  4,  5,  3,  4,  5],\n",
              "       [ 6,  7,  8,  6,  7,  8],\n",
              "       [ 9, 10, 11,  9, 10, 11]])"
            ]
          },
          "metadata": {},
          "execution_count": 177
        }
      ]
    },
    {
      "cell_type": "code",
      "source": [
        "sample_matrix"
      ],
      "metadata": {
        "colab": {
          "base_uri": "https://localhost:8080/"
        },
        "id": "P-wePHfkkMeB",
        "outputId": "043ee8c9-ea76-482d-ee0e-35ad5417da2f"
      },
      "execution_count": null,
      "outputs": [
        {
          "output_type": "execute_result",
          "data": {
            "text/plain": [
              "array([[ 0,  1,  2],\n",
              "       [ 3,  4,  5],\n",
              "       [ 6,  7,  8],\n",
              "       [ 9, 10, 11]])"
            ]
          },
          "metadata": {},
          "execution_count": 178
        }
      ]
    },
    {
      "cell_type": "code",
      "source": [
        "sample_matrix.shape"
      ],
      "metadata": {
        "colab": {
          "base_uri": "https://localhost:8080/"
        },
        "id": "aGunl-TYlPDB",
        "outputId": "be05e3e8-a8b7-4327-e928-064cef93b458"
      },
      "execution_count": null,
      "outputs": [
        {
          "output_type": "execute_result",
          "data": {
            "text/plain": [
              "(4, 3)"
            ]
          },
          "metadata": {},
          "execution_count": 195
        }
      ]
    },
    {
      "cell_type": "code",
      "source": [
        "eye = np.round(np.random.rand(2,4), 2)"
      ],
      "metadata": {
        "id": "DhFipWl5kP3q"
      },
      "execution_count": null,
      "outputs": []
    },
    {
      "cell_type": "code",
      "source": [
        "eye"
      ],
      "metadata": {
        "colab": {
          "base_uri": "https://localhost:8080/"
        },
        "id": "VDQPXBkYkbAX",
        "outputId": "2c7e3d78-1c72-4b69-dd95-46f4d75eb2f2"
      },
      "execution_count": null,
      "outputs": [
        {
          "output_type": "execute_result",
          "data": {
            "text/plain": [
              "array([[0.86, 0.36, 0.79, 0.42],\n",
              "       [0.32, 0.97, 0.65, 0.94]])"
            ]
          },
          "metadata": {},
          "execution_count": 193
        }
      ]
    },
    {
      "cell_type": "code",
      "source": [
        "eye.shape"
      ],
      "metadata": {
        "colab": {
          "base_uri": "https://localhost:8080/"
        },
        "id": "dG14SlAklK5A",
        "outputId": "5039112d-3436-465b-e124-64a481c376c2"
      },
      "execution_count": null,
      "outputs": [
        {
          "output_type": "execute_result",
          "data": {
            "text/plain": [
              "(2, 4)"
            ]
          },
          "metadata": {},
          "execution_count": 194
        }
      ]
    },
    {
      "cell_type": "code",
      "source": [
        "eye.T"
      ],
      "metadata": {
        "colab": {
          "base_uri": "https://localhost:8080/"
        },
        "id": "PJ8l61_DlXHm",
        "outputId": "7c3fc25c-3b2a-43a7-e32c-ffd922a7bb48"
      },
      "execution_count": null,
      "outputs": [
        {
          "output_type": "execute_result",
          "data": {
            "text/plain": [
              "array([[0.86, 0.32],\n",
              "       [0.36, 0.97],\n",
              "       [0.79, 0.65],\n",
              "       [0.42, 0.94]])"
            ]
          },
          "metadata": {},
          "execution_count": 196
        }
      ]
    },
    {
      "cell_type": "code",
      "source": [
        "eye.T.shape"
      ],
      "metadata": {
        "colab": {
          "base_uri": "https://localhost:8080/"
        },
        "id": "FxKDcx4rldWs",
        "outputId": "abb50ca2-ce2c-48f9-a1bc-f288cf1e9e41"
      },
      "execution_count": null,
      "outputs": [
        {
          "output_type": "execute_result",
          "data": {
            "text/plain": [
              "(4, 2)"
            ]
          },
          "metadata": {},
          "execution_count": 197
        }
      ]
    },
    {
      "cell_type": "code",
      "source": [
        "np.hstack([sample_matrix, eye])"
      ],
      "metadata": {
        "colab": {
          "base_uri": "https://localhost:8080/"
        },
        "id": "vIsAlpP9kc6e",
        "outputId": "64562d13-ab04-48c4-abc5-cf4c6af5ec92"
      },
      "execution_count": null,
      "outputs": [
        {
          "output_type": "execute_result",
          "data": {
            "text/plain": [
              "array([[ 0.  ,  1.  ,  2.  ,  0.13,  0.54],\n",
              "       [ 3.  ,  4.  ,  5.  ,  0.81,  0.61],\n",
              "       [ 6.  ,  7.  ,  8.  ,  0.59,  0.68],\n",
              "       [ 9.  , 10.  , 11.  ,  0.93,  0.43]])"
            ]
          },
          "metadata": {},
          "execution_count": 189
        }
      ]
    },
    {
      "cell_type": "code",
      "source": [
        "np.hstack([eye, sample_matrix])"
      ],
      "metadata": {
        "colab": {
          "base_uri": "https://localhost:8080/"
        },
        "id": "jucVToqgks0q",
        "outputId": "ce44b650-4b25-4c72-bdee-b0b2bd440759"
      },
      "execution_count": null,
      "outputs": [
        {
          "output_type": "execute_result",
          "data": {
            "text/plain": [
              "array([[ 0.13,  0.54,  0.  ,  1.  ,  2.  ],\n",
              "       [ 0.81,  0.61,  3.  ,  4.  ,  5.  ],\n",
              "       [ 0.59,  0.68,  6.  ,  7.  ,  8.  ],\n",
              "       [ 0.93,  0.43,  9.  , 10.  , 11.  ]])"
            ]
          },
          "metadata": {},
          "execution_count": 190
        }
      ]
    },
    {
      "cell_type": "code",
      "source": [
        "np.vstack([eye, sample_matrix])"
      ],
      "metadata": {
        "colab": {
          "base_uri": "https://localhost:8080/",
          "height": 374
        },
        "id": "jXOrI_N3k6v5",
        "outputId": "bf426255-875a-40c6-b25f-085ecfe6ec1c"
      },
      "execution_count": null,
      "outputs": [
        {
          "output_type": "error",
          "ename": "ValueError",
          "evalue": "ignored",
          "traceback": [
            "\u001b[0;31m---------------------------------------------------------------------------\u001b[0m",
            "\u001b[0;31mValueError\u001b[0m                                Traceback (most recent call last)",
            "\u001b[0;32m<ipython-input-191-42d23bfe6114>\u001b[0m in \u001b[0;36m<module>\u001b[0;34m()\u001b[0m\n\u001b[0;32m----> 1\u001b[0;31m \u001b[0mnp\u001b[0m\u001b[0;34m.\u001b[0m\u001b[0mvstack\u001b[0m\u001b[0;34m(\u001b[0m\u001b[0;34m[\u001b[0m\u001b[0meye\u001b[0m\u001b[0;34m,\u001b[0m \u001b[0msample_matrix\u001b[0m\u001b[0;34m]\u001b[0m\u001b[0;34m)\u001b[0m\u001b[0;34m\u001b[0m\u001b[0;34m\u001b[0m\u001b[0m\n\u001b[0m",
            "\u001b[0;32m<__array_function__ internals>\u001b[0m in \u001b[0;36mvstack\u001b[0;34m(*args, **kwargs)\u001b[0m\n",
            "\u001b[0;32m/usr/local/lib/python3.7/dist-packages/numpy/core/shape_base.py\u001b[0m in \u001b[0;36mvstack\u001b[0;34m(tup)\u001b[0m\n\u001b[1;32m    281\u001b[0m     \u001b[0;32mif\u001b[0m \u001b[0;32mnot\u001b[0m \u001b[0misinstance\u001b[0m\u001b[0;34m(\u001b[0m\u001b[0marrs\u001b[0m\u001b[0;34m,\u001b[0m \u001b[0mlist\u001b[0m\u001b[0;34m)\u001b[0m\u001b[0;34m:\u001b[0m\u001b[0;34m\u001b[0m\u001b[0;34m\u001b[0m\u001b[0m\n\u001b[1;32m    282\u001b[0m         \u001b[0marrs\u001b[0m \u001b[0;34m=\u001b[0m \u001b[0;34m[\u001b[0m\u001b[0marrs\u001b[0m\u001b[0;34m]\u001b[0m\u001b[0;34m\u001b[0m\u001b[0;34m\u001b[0m\u001b[0m\n\u001b[0;32m--> 283\u001b[0;31m     \u001b[0;32mreturn\u001b[0m \u001b[0m_nx\u001b[0m\u001b[0;34m.\u001b[0m\u001b[0mconcatenate\u001b[0m\u001b[0;34m(\u001b[0m\u001b[0marrs\u001b[0m\u001b[0;34m,\u001b[0m \u001b[0;36m0\u001b[0m\u001b[0;34m)\u001b[0m\u001b[0;34m\u001b[0m\u001b[0;34m\u001b[0m\u001b[0m\n\u001b[0m\u001b[1;32m    284\u001b[0m \u001b[0;34m\u001b[0m\u001b[0m\n\u001b[1;32m    285\u001b[0m \u001b[0;34m\u001b[0m\u001b[0m\n",
            "\u001b[0;32m<__array_function__ internals>\u001b[0m in \u001b[0;36mconcatenate\u001b[0;34m(*args, **kwargs)\u001b[0m\n",
            "\u001b[0;31mValueError\u001b[0m: all the input array dimensions for the concatenation axis must match exactly, but along dimension 1, the array at index 0 has size 2 and the array at index 1 has size 3"
          ]
        }
      ]
    },
    {
      "cell_type": "markdown",
      "metadata": {
        "id": "dTzelWD4JO0H"
      },
      "source": [
        "Мы можем быстро привести многомерный массив к одномерному"
      ]
    },
    {
      "cell_type": "code",
      "metadata": {
        "id": "vjMJVW49gMYv",
        "colab": {
          "base_uri": "https://localhost:8080/"
        },
        "outputId": "32fe898f-884a-42af-9d91-8ecb3aa47f9a"
      },
      "source": [
        "print(sample_matrix.shape) # (20,5)\n",
        "print(np.ravel(sample_matrix).shape) # (100,)"
      ],
      "execution_count": null,
      "outputs": [
        {
          "output_type": "stream",
          "name": "stdout",
          "text": [
            "(4, 3)\n",
            "(12,)\n"
          ]
        }
      ]
    },
    {
      "cell_type": "code",
      "source": [
        "sample_matrix.reshape(12,)"
      ],
      "metadata": {
        "colab": {
          "base_uri": "https://localhost:8080/"
        },
        "id": "6bQYMSRTl5qD",
        "outputId": "17676d2d-4a90-4e67-f038-1888913dc96e"
      },
      "execution_count": null,
      "outputs": [
        {
          "output_type": "execute_result",
          "data": {
            "text/plain": [
              "array([ 0,  1,  2,  3,  4,  5,  6,  7,  8,  9, 10, 11])"
            ]
          },
          "metadata": {},
          "execution_count": 199
        }
      ]
    },
    {
      "cell_type": "code",
      "metadata": {
        "id": "k2LyKc1FgjqJ",
        "colab": {
          "base_uri": "https://localhost:8080/"
        },
        "outputId": "01a093e7-dfd1-4ea7-89cd-af2fa66e743c"
      },
      "source": [
        "a = np.ones((4,5,6))\n",
        "a.shape"
      ],
      "execution_count": null,
      "outputs": [
        {
          "output_type": "execute_result",
          "data": {
            "text/plain": [
              "(4, 5, 6)"
            ]
          },
          "metadata": {},
          "execution_count": 200
        }
      ]
    },
    {
      "cell_type": "code",
      "metadata": {
        "colab": {
          "base_uri": "https://localhost:8080/"
        },
        "id": "W--XX67xTJ95",
        "outputId": "31c79b64-b7fa-48ad-8238-295b20535054"
      },
      "source": [
        "a"
      ],
      "execution_count": null,
      "outputs": [
        {
          "output_type": "execute_result",
          "data": {
            "text/plain": [
              "array([[[1., 1., 1., 1., 1., 1.],\n",
              "        [1., 1., 1., 1., 1., 1.],\n",
              "        [1., 1., 1., 1., 1., 1.],\n",
              "        [1., 1., 1., 1., 1., 1.],\n",
              "        [1., 1., 1., 1., 1., 1.]],\n",
              "\n",
              "       [[1., 1., 1., 1., 1., 1.],\n",
              "        [1., 1., 1., 1., 1., 1.],\n",
              "        [1., 1., 1., 1., 1., 1.],\n",
              "        [1., 1., 1., 1., 1., 1.],\n",
              "        [1., 1., 1., 1., 1., 1.]],\n",
              "\n",
              "       [[1., 1., 1., 1., 1., 1.],\n",
              "        [1., 1., 1., 1., 1., 1.],\n",
              "        [1., 1., 1., 1., 1., 1.],\n",
              "        [1., 1., 1., 1., 1., 1.],\n",
              "        [1., 1., 1., 1., 1., 1.]],\n",
              "\n",
              "       [[1., 1., 1., 1., 1., 1.],\n",
              "        [1., 1., 1., 1., 1., 1.],\n",
              "        [1., 1., 1., 1., 1., 1.],\n",
              "        [1., 1., 1., 1., 1., 1.],\n",
              "        [1., 1., 1., 1., 1., 1.]]])"
            ]
          },
          "metadata": {},
          "execution_count": 201
        }
      ]
    },
    {
      "cell_type": "code",
      "metadata": {
        "id": "Ozfvr_EKgo_Y",
        "colab": {
          "base_uri": "https://localhost:8080/"
        },
        "outputId": "3a37c19f-cf38-4537-d4d5-813c83238345"
      },
      "source": [
        "a.flatten() # результат идентичный ravel"
      ],
      "execution_count": null,
      "outputs": [
        {
          "output_type": "execute_result",
          "data": {
            "text/plain": [
              "array([1., 1., 1., 1., 1., 1., 1., 1., 1., 1., 1., 1., 1., 1., 1., 1., 1.,\n",
              "       1., 1., 1., 1., 1., 1., 1., 1., 1., 1., 1., 1., 1., 1., 1., 1., 1.,\n",
              "       1., 1., 1., 1., 1., 1., 1., 1., 1., 1., 1., 1., 1., 1., 1., 1., 1.,\n",
              "       1., 1., 1., 1., 1., 1., 1., 1., 1., 1., 1., 1., 1., 1., 1., 1., 1.,\n",
              "       1., 1., 1., 1., 1., 1., 1., 1., 1., 1., 1., 1., 1., 1., 1., 1., 1.,\n",
              "       1., 1., 1., 1., 1., 1., 1., 1., 1., 1., 1., 1., 1., 1., 1., 1., 1.,\n",
              "       1., 1., 1., 1., 1., 1., 1., 1., 1., 1., 1., 1., 1., 1., 1., 1., 1.,\n",
              "       1.])"
            ]
          },
          "metadata": {},
          "execution_count": 202
        }
      ]
    },
    {
      "cell_type": "markdown",
      "metadata": {
        "id": "dYfGBPAAPR0A"
      },
      "source": [
        "**Текст, выделенный полужирным шрифтом**\n",
        "#### Broadcasting (Расширение/адаптация размерностей)\n",
        "Мощный механизм, позволяющий NumPy работать с массивами различной формы при выполнении арифметических операций. Часто у нас есть меньший массив и больший массив, и мы хотим использовать меньший массив несколько раз, чтобы выполнить некоторую операцию над большим массивом"
      ]
    },
    {
      "cell_type": "code",
      "metadata": {
        "id": "CB376l76PZi-"
      },
      "source": [
        "# прибавление вектора ко всем строкам матрицы"
      ],
      "execution_count": null,
      "outputs": []
    },
    {
      "cell_type": "code",
      "metadata": {
        "id": "6kFE8ieLhC2C",
        "colab": {
          "base_uri": "https://localhost:8080/"
        },
        "outputId": "16bb08e7-09fb-480a-a775-a1225fc534ac"
      },
      "source": [
        "# без broadcasting\n",
        "x = np.array([[1,2,3],[4,5,6],[7,8,9],[10,11,12]])\n",
        "v = np.array([3,4,5])\n",
        "# empty like создает пустую матрицу такого же размера как x\n",
        "y = np.empty_like(x) # создаем пустую структуру, в нее мы будем складывать ответ\n",
        "print(y.shape)\n",
        "\n",
        "print(x)\n",
        "print()\n",
        "print(v)\n",
        "print()\n",
        "\n",
        "for i in range(4):\n",
        "  y[i, :] = x[i, :] + v\n",
        "\n",
        "print(y)"
      ],
      "execution_count": null,
      "outputs": [
        {
          "output_type": "stream",
          "name": "stdout",
          "text": [
            "(4, 3)\n",
            "[[ 1  2  3]\n",
            " [ 4  5  6]\n",
            " [ 7  8  9]\n",
            " [10 11 12]]\n",
            "\n",
            "[3 4 5]\n",
            "\n",
            "[[ 4  6  8]\n",
            " [ 7  9 11]\n",
            " [10 12 14]\n",
            " [13 15 17]]\n"
          ]
        }
      ]
    },
    {
      "cell_type": "markdown",
      "metadata": {
        "id": "u4z8riz0Ja37"
      },
      "source": [
        "`np.tile` повторяет массив v (n,m,...) n раз по 0-ой оси и m раз по 1-ой итд, получается новый массив"
      ]
    },
    {
      "cell_type": "code",
      "source": [
        "v"
      ],
      "metadata": {
        "colab": {
          "base_uri": "https://localhost:8080/"
        },
        "id": "tuEbxx0Qm326",
        "outputId": "d240f8b0-bc2f-4bb7-a485-73582d8f4a9b"
      },
      "execution_count": null,
      "outputs": [
        {
          "output_type": "execute_result",
          "data": {
            "text/plain": [
              "array([3, 4, 5])"
            ]
          },
          "metadata": {},
          "execution_count": 208
        }
      ]
    },
    {
      "cell_type": "code",
      "metadata": {
        "id": "6ZcXOPUgiAW1",
        "colab": {
          "base_uri": "https://localhost:8080/"
        },
        "outputId": "bfec4e3d-d6be-4082-de84-9886ef193088"
      },
      "source": [
        "vv = np.tile(v, (4,1))\n",
        "vv # получилась матрица такой же размерности как и матрица x"
      ],
      "execution_count": null,
      "outputs": [
        {
          "output_type": "execute_result",
          "data": {
            "text/plain": [
              "array([[3, 4, 5],\n",
              "       [3, 4, 5],\n",
              "       [3, 4, 5],\n",
              "       [3, 4, 5]])"
            ]
          },
          "metadata": {},
          "execution_count": 207
        }
      ]
    },
    {
      "cell_type": "code",
      "source": [
        "x"
      ],
      "metadata": {
        "colab": {
          "base_uri": "https://localhost:8080/"
        },
        "id": "81kUKT1Zm-K3",
        "outputId": "ec9a7934-ac3e-4511-afb5-896535e857ca"
      },
      "execution_count": null,
      "outputs": [
        {
          "output_type": "execute_result",
          "data": {
            "text/plain": [
              "array([[ 1,  2,  3],\n",
              "       [ 4,  5,  6],\n",
              "       [ 7,  8,  9],\n",
              "       [10, 11, 12]])"
            ]
          },
          "metadata": {},
          "execution_count": 209
        }
      ]
    },
    {
      "cell_type": "code",
      "metadata": {
        "id": "tYuVC4iyiNhr",
        "colab": {
          "base_uri": "https://localhost:8080/"
        },
        "outputId": "5da6ef8b-7243-46cb-ebb2-cd0cde1f085a"
      },
      "source": [
        "y = x + vv\n",
        "print(y)"
      ],
      "execution_count": null,
      "outputs": [
        {
          "output_type": "stream",
          "name": "stdout",
          "text": [
            "[[ 4  6  8]\n",
            " [ 7  9 11]\n",
            " [10 12 14]\n",
            " [13 15 17]]\n"
          ]
        }
      ]
    },
    {
      "cell_type": "code",
      "metadata": {
        "id": "g8LM-ZAYiYHH",
        "colab": {
          "base_uri": "https://localhost:8080/"
        },
        "outputId": "62cc8f72-4b1d-480b-e6cd-1e98a185cf5a"
      },
      "source": [
        "x + v"
      ],
      "execution_count": null,
      "outputs": [
        {
          "output_type": "execute_result",
          "data": {
            "text/plain": [
              "array([[ 4,  6,  8],\n",
              "       [ 7,  9, 11],\n",
              "       [10, 12, 14],\n",
              "       [13, 15, 17]])"
            ]
          },
          "metadata": {},
          "execution_count": 211
        }
      ]
    },
    {
      "cell_type": "markdown",
      "metadata": {
        "id": "aITk7HjpQv9l"
      },
      "source": [
        "Бродкастинг двух массивов работает следующим образом:\n",
        "*   Если массивы не имеют одинаковый ранг (кол-во размерностей), нужно выровнять кол-во размерностей, добавлением дополнительных \"единичных\" размерностей массиву меньшего ранга\n",
        "*   Говорят, что два массива *совместимы* в i-ой размерности, если они имеют одинаковый по величине набор значений в этой размерности, или если один из массивов имеет ровно 1 элемент в этом измерении.\n",
        "*   Массивы **broadcastable**, если они совместимы во всех размерностях.\n",
        "*   После адаптации каждый массив ведет себя так, как будто он имеет форму, равную поэлементному максимуму форм двух входных массивов.\n",
        "*   В любом измерении, где один массив имел размер 1, а другой массив имел размер больше 1, первый массив ведет себя так, как если бы он был скопирован \"вдоль\" этого измерения"
      ]
    },
    {
      "cell_type": "code",
      "source": [
        "a = np.array([[1,2,3],[4,5,6],[7,8,9]])\n",
        "b = np.array([[1,2,3],[4,5,6]])\n",
        "print(a)\n",
        "print()\n",
        "print(b)"
      ],
      "metadata": {
        "colab": {
          "base_uri": "https://localhost:8080/"
        },
        "id": "Ge3p3Xr7L33A",
        "outputId": "7e85a1a9-24f3-4b6b-ef3d-f666d47aa2f2"
      },
      "execution_count": null,
      "outputs": [
        {
          "output_type": "stream",
          "name": "stdout",
          "text": [
            "[[1 2 3]\n",
            " [4 5 6]\n",
            " [7 8 9]]\n",
            "\n",
            "[[1 2 3]\n",
            " [4 5 6]]\n"
          ]
        }
      ]
    },
    {
      "cell_type": "code",
      "source": [
        "a + b"
      ],
      "metadata": {
        "colab": {
          "base_uri": "https://localhost:8080/",
          "height": 166
        },
        "id": "EWcrAQIPMOsg",
        "outputId": "0cc6216d-3e8d-41a7-bcb1-ec03546388ba"
      },
      "execution_count": null,
      "outputs": [
        {
          "output_type": "error",
          "ename": "ValueError",
          "evalue": "ignored",
          "traceback": [
            "\u001b[0;31m---------------------------------------------------------------------------\u001b[0m",
            "\u001b[0;31mValueError\u001b[0m                                Traceback (most recent call last)",
            "\u001b[0;32m<ipython-input-214-bd58363a63fc>\u001b[0m in \u001b[0;36m<module>\u001b[0;34m()\u001b[0m\n\u001b[0;32m----> 1\u001b[0;31m \u001b[0ma\u001b[0m \u001b[0;34m+\u001b[0m \u001b[0mb\u001b[0m\u001b[0;34m\u001b[0m\u001b[0;34m\u001b[0m\u001b[0m\n\u001b[0m",
            "\u001b[0;31mValueError\u001b[0m: operands could not be broadcast together with shapes (3,3) (2,3) "
          ]
        }
      ]
    },
    {
      "cell_type": "markdown",
      "metadata": {
        "id": "mZTkQ8b0J-nz"
      },
      "source": [
        "Прибавим теперь не по строкам, а по столбцам"
      ]
    },
    {
      "cell_type": "code",
      "metadata": {
        "id": "lwP0lIySiw39",
        "colab": {
          "base_uri": "https://localhost:8080/"
        },
        "outputId": "b79517ce-fdf5-4427-e8d1-3e944ea58798"
      },
      "source": [
        "v"
      ],
      "execution_count": null,
      "outputs": [
        {
          "output_type": "execute_result",
          "data": {
            "text/plain": [
              "array([3, 4, 5])"
            ]
          },
          "metadata": {},
          "execution_count": 215
        }
      ]
    },
    {
      "cell_type": "markdown",
      "metadata": {
        "id": "MY-MIBszKC79"
      },
      "source": [
        "Для этого нужно добавить \"дополнительную\" размерность 1.\n",
        "\n",
        "Обратите внимание, что (4,) и (4,1) это разные numpy массивы по форме. Первое интерпретируется как строка матрицы, а второе как столбец. Проведите над этим утверждением пару минут."
      ]
    },
    {
      "cell_type": "code",
      "source": [
        "np.arange(1,5)"
      ],
      "metadata": {
        "colab": {
          "base_uri": "https://localhost:8080/"
        },
        "id": "RzpUkbstofa_",
        "outputId": "813285ac-1767-4e80-f47a-5f83f9fb149e"
      },
      "execution_count": null,
      "outputs": [
        {
          "output_type": "execute_result",
          "data": {
            "text/plain": [
              "array([1, 2, 3, 4])"
            ]
          },
          "metadata": {},
          "execution_count": 219
        }
      ]
    },
    {
      "cell_type": "code",
      "source": [
        "[1,2,3,4] # список"
      ],
      "metadata": {
        "colab": {
          "base_uri": "https://localhost:8080/"
        },
        "id": "65pXh_wNoiAs",
        "outputId": "1ddf9086-f1d3-4979-8701-9c249d36cbb6"
      },
      "execution_count": null,
      "outputs": [
        {
          "output_type": "execute_result",
          "data": {
            "text/plain": [
              "[1, 2, 3, 4]"
            ]
          },
          "metadata": {},
          "execution_count": 220
        }
      ]
    },
    {
      "cell_type": "code",
      "source": [
        "{'one' : 1,\n",
        " 'two' : 2\n",
        " } # словарь"
      ],
      "metadata": {
        "colab": {
          "base_uri": "https://localhost:8080/"
        },
        "id": "bD8BrM4-on3R",
        "outputId": "d03a16fc-3a72-424c-b2bd-adc2d0320442"
      },
      "execution_count": null,
      "outputs": [
        {
          "output_type": "execute_result",
          "data": {
            "text/plain": [
              "{'one': 1, 'two': 2}"
            ]
          },
          "metadata": {},
          "execution_count": 221
        }
      ]
    },
    {
      "cell_type": "code",
      "source": [
        "print({1,2,2,4}) # множество\n",
        "set([1,2, 2,3])"
      ],
      "metadata": {
        "colab": {
          "base_uri": "https://localhost:8080/"
        },
        "id": "FyKQ-W5ooyIm",
        "outputId": "169cc5ab-98c8-4109-ed2f-4c14b0ab5163"
      },
      "execution_count": null,
      "outputs": [
        {
          "output_type": "stream",
          "name": "stdout",
          "text": [
            "{1, 2, 4}\n"
          ]
        },
        {
          "output_type": "execute_result",
          "data": {
            "text/plain": [
              "{1, 2, 3}"
            ]
          },
          "metadata": {},
          "execution_count": 224
        }
      ]
    },
    {
      "cell_type": "code",
      "source": [
        "[1,2,3,4][2]"
      ],
      "metadata": {
        "colab": {
          "base_uri": "https://localhost:8080/"
        },
        "id": "1yfdUz5KpKob",
        "outputId": "ed7179b6-a3c2-4ac4-ede8-255f1fe99e02"
      },
      "execution_count": null,
      "outputs": [
        {
          "output_type": "execute_result",
          "data": {
            "text/plain": [
              "3"
            ]
          },
          "metadata": {},
          "execution_count": 225
        }
      ]
    },
    {
      "cell_type": "code",
      "source": [
        "np.arange(1,5)[2]"
      ],
      "metadata": {
        "id": "bGPy6UD0pSZG",
        "outputId": "cf0ec9b5-87eb-4e14-bf72-c51007e10a98",
        "colab": {
          "base_uri": "https://localhost:8080/"
        }
      },
      "execution_count": null,
      "outputs": [
        {
          "output_type": "execute_result",
          "data": {
            "text/plain": [
              "3"
            ]
          },
          "metadata": {},
          "execution_count": 226
        }
      ]
    },
    {
      "cell_type": "code",
      "metadata": {
        "id": "gNT5ZBMJi505",
        "colab": {
          "base_uri": "https://localhost:8080/"
        },
        "outputId": "828fd85c-e086-4d1e-dbd0-abbb52f5910c"
      },
      "source": [
        "np.arange(1,5).reshape(4,1)"
      ],
      "execution_count": null,
      "outputs": [
        {
          "output_type": "execute_result",
          "data": {
            "text/plain": [
              "array([[1],\n",
              "       [2],\n",
              "       [3],\n",
              "       [4]])"
            ]
          },
          "metadata": {},
          "execution_count": 216
        }
      ]
    },
    {
      "cell_type": "code",
      "source": [
        "x"
      ],
      "metadata": {
        "colab": {
          "base_uri": "https://localhost:8080/"
        },
        "id": "eZ0Q3KDonmaN",
        "outputId": "79381c27-9488-49cf-a3d5-89cf0583591e"
      },
      "execution_count": null,
      "outputs": [
        {
          "output_type": "execute_result",
          "data": {
            "text/plain": [
              "array([[ 1,  2,  3],\n",
              "       [ 4,  5,  6],\n",
              "       [ 7,  8,  9],\n",
              "       [10, 11, 12]])"
            ]
          },
          "metadata": {},
          "execution_count": 217
        }
      ]
    },
    {
      "cell_type": "code",
      "metadata": {
        "id": "cnnpuBUVjDi3",
        "colab": {
          "base_uri": "https://localhost:8080/"
        },
        "outputId": "b9c665a5-3e88-4569-8e55-64c5667367ef"
      },
      "source": [
        "x + np.arange(1,5).reshape(4,1) # у нас происходит сложение по столбцам"
      ],
      "execution_count": null,
      "outputs": [
        {
          "output_type": "execute_result",
          "data": {
            "text/plain": [
              "array([[ 2,  3,  4],\n",
              "       [ 6,  7,  8],\n",
              "       [10, 11, 12],\n",
              "       [14, 15, 16]])"
            ]
          },
          "metadata": {},
          "execution_count": 218
        }
      ]
    }
  ]
}