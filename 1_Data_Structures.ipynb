{
  "nbformat": 4,
  "nbformat_minor": 0,
  "metadata": {
    "hide_input": false,
    "kernelspec": {
      "display_name": "Python 3",
      "language": "python",
      "name": "python3"
    },
    "language_info": {
      "codemirror_mode": {
        "name": "ipython",
        "version": 3
      },
      "file_extension": ".py",
      "mimetype": "text/x-python",
      "name": "python",
      "nbconvert_exporter": "python",
      "pygments_lexer": "ipython3",
      "version": "3.7.0"
    },
    "toc": {
      "base_numbering": 1,
      "nav_menu": {},
      "number_sections": true,
      "sideBar": true,
      "skip_h1_title": false,
      "title_cell": "Table of Contents",
      "title_sidebar": "Contents",
      "toc_cell": false,
      "toc_position": {
        "height": "829px",
        "left": "1473.61px",
        "top": "110px",
        "width": "340.788px"
      },
      "toc_section_display": true,
      "toc_window_display": false
    },
    "colab": {
      "provenance": [],
      "include_colab_link": true
    }
  },
  "cells": [
    {
      "cell_type": "markdown",
      "metadata": {
        "id": "view-in-github",
        "colab_type": "text"
      },
      "source": [
        "<a href=\"https://colab.research.google.com/github/AlexErmakov77/ML-Python/blob/main/1_Data_Structures.ipynb\" target=\"_parent\"><img src=\"https://colab.research.google.com/assets/colab-badge.svg\" alt=\"Open In Colab\"/></a>"
      ]
    },
    {
      "cell_type": "markdown",
      "metadata": {
        "heading_collapsed": true,
        "id": "_8H6C1oPdt6D"
      },
      "source": [
        "### Библиотеки"
      ]
    },
    {
      "cell_type": "code",
      "metadata": {
        "hidden": true,
        "id": "o6gTxRjddt6J"
      },
      "source": [
        "import pandas as pd\n",
        "import numpy as np"
      ],
      "execution_count": null,
      "outputs": []
    },
    {
      "cell_type": "markdown",
      "metadata": {
        "heading_collapsed": true,
        "id": "BjtHmoE0dt6L"
      },
      "source": [
        "### Создание"
      ]
    },
    {
      "cell_type": "markdown",
      "metadata": {
        "heading_collapsed": true,
        "hidden": true,
        "id": "jnCecTnDdt6M"
      },
      "source": [
        "#### из списка"
      ]
    },
    {
      "cell_type": "markdown",
      "metadata": {
        "hidden": true,
        "id": "ccR1sDCydt6N"
      },
      "source": [
        "создаем Series значений из списка целых чисел"
      ]
    },
    {
      "cell_type": "code",
      "metadata": {
        "ExecuteTime": {
          "end_time": "2019-01-24T11:40:46.066107Z",
          "start_time": "2019-01-24T11:40:46.060063Z"
        },
        "hidden": true,
        "colab": {
          "base_uri": "https://localhost:8080/"
        },
        "id": "4Twq--vfdt6O",
        "outputId": "fad4796d-2089-4db4-fcba-2ac67505f7a2"
      },
      "source": [
        "s = pd.Series(data=[10, 11, 12, 13, 14],\n",
        "              index=[1, 2, 3, 5, 7])\n",
        "s"
      ],
      "execution_count": null,
      "outputs": [
        {
          "output_type": "execute_result",
          "data": {
            "text/plain": [
              "1    10\n",
              "2    11\n",
              "3    12\n",
              "5    13\n",
              "7    14\n",
              "dtype: int64"
            ]
          },
          "metadata": {},
          "execution_count": 2
        }
      ]
    },
    {
      "cell_type": "markdown",
      "metadata": {
        "collapsed": true,
        "hidden": true,
        "id": "O-NfuzUHdt6O"
      },
      "source": [
        "создаем Series из строковых значений"
      ]
    },
    {
      "cell_type": "code",
      "metadata": {
        "hidden": true,
        "colab": {
          "base_uri": "https://localhost:8080/"
        },
        "id": "2JVH5wNEdt6P",
        "outputId": "fe6df004-d3b8-4774-af24-a047ad4cfcac"
      },
      "source": [
        "s = pd.Series(['Blue', 'Yellow', 'Green'])\n",
        "s"
      ],
      "execution_count": null,
      "outputs": [
        {
          "output_type": "execute_result",
          "data": {
            "text/plain": [
              "0      Blue\n",
              "1    Yellow\n",
              "2     Green\n",
              "dtype: object"
            ]
          },
          "metadata": {},
          "execution_count": 3
        }
      ]
    },
    {
      "cell_type": "markdown",
      "metadata": {
        "hidden": true,
        "id": "pjByvhZPdt6R"
      },
      "source": [
        "создаем Series из 5 элементов, каждый элемент - list python"
      ]
    },
    {
      "cell_type": "code",
      "metadata": {
        "hidden": true,
        "scrolled": true,
        "colab": {
          "base_uri": "https://localhost:8080/"
        },
        "id": "9njiMWoLdt6S",
        "outputId": "d4a5fd1e-5ae0-435f-9aa7-110cf3cfbd63"
      },
      "source": [
        "l = [[1, 2]]\n",
        "s = pd.Series(l*5)\n",
        "s"
      ],
      "execution_count": null,
      "outputs": [
        {
          "output_type": "execute_result",
          "data": {
            "text/plain": [
              "0    [1, 2]\n",
              "1    [1, 2]\n",
              "2    [1, 2]\n",
              "3    [1, 2]\n",
              "4    [1, 2]\n",
              "dtype: object"
            ]
          },
          "metadata": {},
          "execution_count": 4
        }
      ]
    },
    {
      "cell_type": "markdown",
      "metadata": {
        "hidden": true,
        "id": "0RydRdkDdt6T"
      },
      "source": [
        "создаем DataFrame из двумерного списка"
      ]
    },
    {
      "cell_type": "code",
      "metadata": {
        "hidden": true,
        "colab": {
          "base_uri": "https://localhost:8080/",
          "height": 142
        },
        "id": "XyGsWXyjdt6T",
        "outputId": "a28a2c12-71d5-4797-a781-833ab0601d0c"
      },
      "source": [
        "df = pd.DataFrame([[10, 11], [20, 21], [30, 31]])\n",
        "df"
      ],
      "execution_count": null,
      "outputs": [
        {
          "output_type": "execute_result",
          "data": {
            "text/html": [
              "<div>\n",
              "<style scoped>\n",
              "    .dataframe tbody tr th:only-of-type {\n",
              "        vertical-align: middle;\n",
              "    }\n",
              "\n",
              "    .dataframe tbody tr th {\n",
              "        vertical-align: top;\n",
              "    }\n",
              "\n",
              "    .dataframe thead th {\n",
              "        text-align: right;\n",
              "    }\n",
              "</style>\n",
              "<table border=\"1\" class=\"dataframe\">\n",
              "  <thead>\n",
              "    <tr style=\"text-align: right;\">\n",
              "      <th></th>\n",
              "      <th>0</th>\n",
              "      <th>1</th>\n",
              "    </tr>\n",
              "  </thead>\n",
              "  <tbody>\n",
              "    <tr>\n",
              "      <th>0</th>\n",
              "      <td>10</td>\n",
              "      <td>11</td>\n",
              "    </tr>\n",
              "    <tr>\n",
              "      <th>1</th>\n",
              "      <td>20</td>\n",
              "      <td>21</td>\n",
              "    </tr>\n",
              "    <tr>\n",
              "      <th>2</th>\n",
              "      <td>30</td>\n",
              "      <td>31</td>\n",
              "    </tr>\n",
              "  </tbody>\n",
              "</table>\n",
              "</div>"
            ],
            "text/plain": [
              "    0   1\n",
              "0  10  11\n",
              "1  20  21\n",
              "2  30  31"
            ]
          },
          "metadata": {},
          "execution_count": 5
        }
      ]
    },
    {
      "cell_type": "markdown",
      "metadata": {
        "hidden": true,
        "id": "k4EuQeVfdt6U"
      },
      "source": [
        "задаем имена столбцов"
      ]
    },
    {
      "cell_type": "code",
      "metadata": {
        "hidden": true,
        "colab": {
          "base_uri": "https://localhost:8080/",
          "height": 142
        },
        "id": "AbPNwzI3dt6U",
        "outputId": "f6efa76d-7d38-4513-ae2d-4bafff4d84c0"
      },
      "source": [
        "df = pd.DataFrame([[10, 11], [20, 21], [30, 31]],\n",
        "                  columns=['A', 'B'])\n",
        "df"
      ],
      "execution_count": null,
      "outputs": [
        {
          "output_type": "execute_result",
          "data": {
            "text/html": [
              "<div>\n",
              "<style scoped>\n",
              "    .dataframe tbody tr th:only-of-type {\n",
              "        vertical-align: middle;\n",
              "    }\n",
              "\n",
              "    .dataframe tbody tr th {\n",
              "        vertical-align: top;\n",
              "    }\n",
              "\n",
              "    .dataframe thead th {\n",
              "        text-align: right;\n",
              "    }\n",
              "</style>\n",
              "<table border=\"1\" class=\"dataframe\">\n",
              "  <thead>\n",
              "    <tr style=\"text-align: right;\">\n",
              "      <th></th>\n",
              "      <th>A</th>\n",
              "      <th>B</th>\n",
              "    </tr>\n",
              "  </thead>\n",
              "  <tbody>\n",
              "    <tr>\n",
              "      <th>0</th>\n",
              "      <td>10</td>\n",
              "      <td>11</td>\n",
              "    </tr>\n",
              "    <tr>\n",
              "      <th>1</th>\n",
              "      <td>20</td>\n",
              "      <td>21</td>\n",
              "    </tr>\n",
              "    <tr>\n",
              "      <th>2</th>\n",
              "      <td>30</td>\n",
              "      <td>31</td>\n",
              "    </tr>\n",
              "  </tbody>\n",
              "</table>\n",
              "</div>"
            ],
            "text/plain": [
              "    A   B\n",
              "0  10  11\n",
              "1  20  21\n",
              "2  30  31"
            ]
          },
          "metadata": {},
          "execution_count": 6
        }
      ]
    },
    {
      "cell_type": "markdown",
      "metadata": {
        "hidden": true,
        "id": "78NjPug8dt6V"
      },
      "source": [
        "создаем DataFrame для списка объектов Series"
      ]
    },
    {
      "cell_type": "code",
      "metadata": {
        "hidden": true,
        "colab": {
          "base_uri": "https://localhost:8080/",
          "height": 111
        },
        "id": "6XW2y8u-dt6V",
        "outputId": "dba4ac4b-4a64-4d98-bbf6-779f90a84c08"
      },
      "source": [
        "series_1 = pd.Series([70, 90])\n",
        "series_2 = pd.Series([71, 91])\n",
        "df = pd.DataFrame([series_1, series_2])\n",
        "df"
      ],
      "execution_count": null,
      "outputs": [
        {
          "output_type": "execute_result",
          "data": {
            "text/html": [
              "<div>\n",
              "<style scoped>\n",
              "    .dataframe tbody tr th:only-of-type {\n",
              "        vertical-align: middle;\n",
              "    }\n",
              "\n",
              "    .dataframe tbody tr th {\n",
              "        vertical-align: top;\n",
              "    }\n",
              "\n",
              "    .dataframe thead th {\n",
              "        text-align: right;\n",
              "    }\n",
              "</style>\n",
              "<table border=\"1\" class=\"dataframe\">\n",
              "  <thead>\n",
              "    <tr style=\"text-align: right;\">\n",
              "      <th></th>\n",
              "      <th>0</th>\n",
              "      <th>1</th>\n",
              "    </tr>\n",
              "  </thead>\n",
              "  <tbody>\n",
              "    <tr>\n",
              "      <th>0</th>\n",
              "      <td>70</td>\n",
              "      <td>90</td>\n",
              "    </tr>\n",
              "    <tr>\n",
              "      <th>1</th>\n",
              "      <td>71</td>\n",
              "      <td>91</td>\n",
              "    </tr>\n",
              "  </tbody>\n",
              "</table>\n",
              "</div>"
            ],
            "text/plain": [
              "    0   1\n",
              "0  70  90\n",
              "1  71  91"
            ]
          },
          "metadata": {},
          "execution_count": 7
        }
      ]
    },
    {
      "cell_type": "markdown",
      "metadata": {
        "hidden": true,
        "id": "nInhEHEQdt6W"
      },
      "source": [
        "задаем имена столбцов после создания датафрейма"
      ]
    },
    {
      "cell_type": "code",
      "metadata": {
        "hidden": true,
        "colab": {
          "base_uri": "https://localhost:8080/",
          "height": 111
        },
        "id": "Y8W0N6AJdt6W",
        "outputId": "ff3c972a-275d-49f7-e1a7-559f37a4515d"
      },
      "source": [
        "df.columns = ['col_1', 'col_2']\n",
        "df"
      ],
      "execution_count": null,
      "outputs": [
        {
          "output_type": "execute_result",
          "data": {
            "text/html": [
              "<div>\n",
              "<style scoped>\n",
              "    .dataframe tbody tr th:only-of-type {\n",
              "        vertical-align: middle;\n",
              "    }\n",
              "\n",
              "    .dataframe tbody tr th {\n",
              "        vertical-align: top;\n",
              "    }\n",
              "\n",
              "    .dataframe thead th {\n",
              "        text-align: right;\n",
              "    }\n",
              "</style>\n",
              "<table border=\"1\" class=\"dataframe\">\n",
              "  <thead>\n",
              "    <tr style=\"text-align: right;\">\n",
              "      <th></th>\n",
              "      <th>col_1</th>\n",
              "      <th>col_2</th>\n",
              "    </tr>\n",
              "  </thead>\n",
              "  <tbody>\n",
              "    <tr>\n",
              "      <th>0</th>\n",
              "      <td>70</td>\n",
              "      <td>90</td>\n",
              "    </tr>\n",
              "    <tr>\n",
              "      <th>1</th>\n",
              "      <td>71</td>\n",
              "      <td>91</td>\n",
              "    </tr>\n",
              "  </tbody>\n",
              "</table>\n",
              "</div>"
            ],
            "text/plain": [
              "   col_1  col_2\n",
              "0     70     90\n",
              "1     71     91"
            ]
          },
          "metadata": {},
          "execution_count": 8
        }
      ]
    },
    {
      "cell_type": "markdown",
      "metadata": {
        "heading_collapsed": true,
        "hidden": true,
        "id": "PsCJJtcOdt6X"
      },
      "source": [
        "#### из словаря "
      ]
    },
    {
      "cell_type": "markdown",
      "metadata": {
        "collapsed": true,
        "hidden": true,
        "id": "Zevj6OvYdt6X"
      },
      "source": [
        "создаем объект Series из словаря, при этом посмотрим, как изменились индексы"
      ]
    },
    {
      "cell_type": "code",
      "metadata": {
        "hidden": true,
        "colab": {
          "base_uri": "https://localhost:8080/"
        },
        "id": "wlGCP4zxdt6Y",
        "outputId": "7c8b578c-fb53-4024-c651-0f4e947752ef"
      },
      "source": [
        "s = pd.Series({'Homer': 'Dad',\n",
        "               'Marge': 'Mom',\n",
        "               'Bart': 'Son',\n",
        "               'Lisa': 'Daughter',\n",
        "               'Maggie': 'Daughter'})\n",
        "s"
      ],
      "execution_count": null,
      "outputs": [
        {
          "output_type": "execute_result",
          "data": {
            "text/plain": [
              "Homer          Dad\n",
              "Marge          Mom\n",
              "Bart           Son\n",
              "Lisa      Daughter\n",
              "Maggie    Daughter\n",
              "dtype: object"
            ]
          },
          "metadata": {},
          "execution_count": 12
        }
      ]
    },
    {
      "cell_type": "markdown",
      "metadata": {
        "hidden": true,
        "id": "t1hQvUj4dt6Y"
      },
      "source": [
        "создание DataFrame с помощью питоновского словаря"
      ]
    },
    {
      "cell_type": "code",
      "metadata": {
        "hidden": true,
        "colab": {
          "base_uri": "https://localhost:8080/",
          "height": 111
        },
        "id": "7GRNmBdNdt6Y",
        "outputId": "326cc695-af6c-4bdd-caf3-5916e8c946e9"
      },
      "source": [
        "list_1 = [70, 71]\n",
        "list_2 = [90, 91]\n",
        "temperatures = {'col_1': list_1,\n",
        "                'col_2': list_2}\n",
        "pd.DataFrame(temperatures)"
      ],
      "execution_count": null,
      "outputs": [
        {
          "output_type": "execute_result",
          "data": {
            "text/html": [
              "<div>\n",
              "<style scoped>\n",
              "    .dataframe tbody tr th:only-of-type {\n",
              "        vertical-align: middle;\n",
              "    }\n",
              "\n",
              "    .dataframe tbody tr th {\n",
              "        vertical-align: top;\n",
              "    }\n",
              "\n",
              "    .dataframe thead th {\n",
              "        text-align: right;\n",
              "    }\n",
              "</style>\n",
              "<table border=\"1\" class=\"dataframe\">\n",
              "  <thead>\n",
              "    <tr style=\"text-align: right;\">\n",
              "      <th></th>\n",
              "      <th>col_1</th>\n",
              "      <th>col_2</th>\n",
              "    </tr>\n",
              "  </thead>\n",
              "  <tbody>\n",
              "    <tr>\n",
              "      <th>0</th>\n",
              "      <td>70</td>\n",
              "      <td>90</td>\n",
              "    </tr>\n",
              "    <tr>\n",
              "      <th>1</th>\n",
              "      <td>71</td>\n",
              "      <td>91</td>\n",
              "    </tr>\n",
              "  </tbody>\n",
              "</table>\n",
              "</div>"
            ],
            "text/plain": [
              "   col_1  col_2\n",
              "0     70     90\n",
              "1     71     91"
            ]
          },
          "metadata": {},
          "execution_count": 10
        }
      ]
    },
    {
      "cell_type": "markdown",
      "metadata": {
        "hidden": true,
        "id": "t9YVjbkUdt6Z"
      },
      "source": [
        "создание DataFrame с помощью словаря, состоящего из объектов Series"
      ]
    },
    {
      "cell_type": "code",
      "metadata": {
        "hidden": true,
        "colab": {
          "base_uri": "https://localhost:8080/",
          "height": 111
        },
        "id": "XYtnnG3adt6Z",
        "outputId": "f9b8ea29-a11f-461f-f54a-70c6486ff4f2"
      },
      "source": [
        "series_1 = pd.Series([70, 71])\n",
        "series_2 = pd.Series([90, 91])\n",
        "\n",
        "df = pd.DataFrame({'col_1': series_1,\n",
        "                   'col_2': series_2})\n",
        "df"
      ],
      "execution_count": null,
      "outputs": [
        {
          "output_type": "execute_result",
          "data": {
            "text/html": [
              "<div>\n",
              "<style scoped>\n",
              "    .dataframe tbody tr th:only-of-type {\n",
              "        vertical-align: middle;\n",
              "    }\n",
              "\n",
              "    .dataframe tbody tr th {\n",
              "        vertical-align: top;\n",
              "    }\n",
              "\n",
              "    .dataframe thead th {\n",
              "        text-align: right;\n",
              "    }\n",
              "</style>\n",
              "<table border=\"1\" class=\"dataframe\">\n",
              "  <thead>\n",
              "    <tr style=\"text-align: right;\">\n",
              "      <th></th>\n",
              "      <th>col_1</th>\n",
              "      <th>col_2</th>\n",
              "    </tr>\n",
              "  </thead>\n",
              "  <tbody>\n",
              "    <tr>\n",
              "      <th>0</th>\n",
              "      <td>70</td>\n",
              "      <td>90</td>\n",
              "    </tr>\n",
              "    <tr>\n",
              "      <th>1</th>\n",
              "      <td>71</td>\n",
              "      <td>91</td>\n",
              "    </tr>\n",
              "  </tbody>\n",
              "</table>\n",
              "</div>"
            ],
            "text/plain": [
              "   col_1  col_2\n",
              "0     70     90\n",
              "1     71     91"
            ]
          },
          "metadata": {},
          "execution_count": 11
        }
      ]
    },
    {
      "cell_type": "markdown",
      "metadata": {
        "heading_collapsed": true,
        "hidden": true,
        "id": "UfVefuiodt6Z"
      },
      "source": [
        "#### при помощи функций"
      ]
    },
    {
      "cell_type": "markdown",
      "metadata": {
        "hidden": true,
        "id": "kGu6vZUHdt6a"
      },
      "source": [
        "создание Series, используя np.arange - последовательность чисел от **start** до **stop-1** с шагом **step**:\n",
        "```python \n",
        "np.arange(start, stop, step) \n",
        "```"
      ]
    },
    {
      "cell_type": "code",
      "metadata": {
        "hidden": true,
        "colab": {
          "base_uri": "https://localhost:8080/"
        },
        "id": "Hu567C8Odt6a",
        "outputId": "7a30f281-eeb8-45ae-a2fc-f3c1cabc3f5b"
      },
      "source": [
        "s = pd.Series(np.arange(15,25,2))\n",
        "s"
      ],
      "execution_count": null,
      "outputs": [
        {
          "output_type": "execute_result",
          "data": {
            "text/plain": [
              "0    15\n",
              "1    17\n",
              "2    19\n",
              "3    21\n",
              "4    23\n",
              "dtype: int64"
            ]
          },
          "metadata": {},
          "execution_count": 13
        }
      ]
    },
    {
      "cell_type": "markdown",
      "metadata": {
        "hidden": true,
        "id": "Jm4A7Zzhdt6a"
      },
      "source": [
        "создаем Series из 5 значений, равномерно разбивающих отрезок 0 до 9"
      ]
    },
    {
      "cell_type": "code",
      "metadata": {
        "hidden": true,
        "id": "3Jg3qChkdt6b"
      },
      "source": [
        "s = pd.Series(np.linspace(0, 9, 5))\n",
        "s"
      ],
      "execution_count": null,
      "outputs": []
    },
    {
      "cell_type": "markdown",
      "metadata": {
        "hidden": true,
        "id": "Cmy7-Pkzdt6b"
      },
      "source": [
        "Генерация случайных чисел.\n",
        "\n",
        "Зафикисруем значение seed, что позволит нам в будущем воcпроизводить свои результаты"
      ]
    },
    {
      "cell_type": "markdown",
      "metadata": {
        "hidden": true,
        "id": "f5j0z933dt6b"
      },
      "source": [
        "Создадим объект Series из 5 нормально распределенных случайных чисел"
      ]
    },
    {
      "cell_type": "code",
      "metadata": {
        "hidden": true,
        "id": "kzdnUPGKdt6b"
      },
      "source": [
        "np.random.seed(123)\n",
        "s = pd.Series(np.random.normal(size=5))\n",
        "s"
      ],
      "execution_count": null,
      "outputs": []
    },
    {
      "cell_type": "markdown",
      "metadata": {
        "hidden": true,
        "id": "cBB8nT4zdt6c"
      },
      "source": [
        "Создадим объект DataFrame размерности 4х3 из случайных чисел"
      ]
    },
    {
      "cell_type": "code",
      "metadata": {
        "hidden": true,
        "colab": {
          "base_uri": "https://localhost:8080/",
          "height": 173
        },
        "id": "Qgl_tCi3dt6c",
        "outputId": "3ff2e080-0140-462e-93d4-dc1adc75e92d"
      },
      "source": [
        "np.random.seed(123)\n",
        "df = pd.DataFrame(np.random.normal(size=16).reshape(4, 4),\n",
        "                  index=['ind_1', 'ind_2', 'ind_3', 'ind_4'],\n",
        "                  columns=['col_1', 'col_2', 'col_3', 'col_4'])\n",
        "df"
      ],
      "execution_count": null,
      "outputs": [
        {
          "output_type": "execute_result",
          "data": {
            "text/html": [
              "<div>\n",
              "<style scoped>\n",
              "    .dataframe tbody tr th:only-of-type {\n",
              "        vertical-align: middle;\n",
              "    }\n",
              "\n",
              "    .dataframe tbody tr th {\n",
              "        vertical-align: top;\n",
              "    }\n",
              "\n",
              "    .dataframe thead th {\n",
              "        text-align: right;\n",
              "    }\n",
              "</style>\n",
              "<table border=\"1\" class=\"dataframe\">\n",
              "  <thead>\n",
              "    <tr style=\"text-align: right;\">\n",
              "      <th></th>\n",
              "      <th>col_1</th>\n",
              "      <th>col_2</th>\n",
              "      <th>col_3</th>\n",
              "      <th>col_4</th>\n",
              "    </tr>\n",
              "  </thead>\n",
              "  <tbody>\n",
              "    <tr>\n",
              "      <th>ind_1</th>\n",
              "      <td>-1.085631</td>\n",
              "      <td>0.997345</td>\n",
              "      <td>0.282978</td>\n",
              "      <td>-1.506295</td>\n",
              "    </tr>\n",
              "    <tr>\n",
              "      <th>ind_2</th>\n",
              "      <td>-0.578600</td>\n",
              "      <td>1.651437</td>\n",
              "      <td>-2.426679</td>\n",
              "      <td>-0.428913</td>\n",
              "    </tr>\n",
              "    <tr>\n",
              "      <th>ind_3</th>\n",
              "      <td>1.265936</td>\n",
              "      <td>-0.866740</td>\n",
              "      <td>-0.678886</td>\n",
              "      <td>-0.094709</td>\n",
              "    </tr>\n",
              "    <tr>\n",
              "      <th>ind_4</th>\n",
              "      <td>1.491390</td>\n",
              "      <td>-0.638902</td>\n",
              "      <td>-0.443982</td>\n",
              "      <td>-0.434351</td>\n",
              "    </tr>\n",
              "  </tbody>\n",
              "</table>\n",
              "</div>"
            ],
            "text/plain": [
              "          col_1     col_2     col_3     col_4\n",
              "ind_1 -1.085631  0.997345  0.282978 -1.506295\n",
              "ind_2 -0.578600  1.651437 -2.426679 -0.428913\n",
              "ind_3  1.265936 -0.866740 -0.678886 -0.094709\n",
              "ind_4  1.491390 -0.638902 -0.443982 -0.434351"
            ]
          },
          "metadata": {},
          "execution_count": 16
        }
      ]
    },
    {
      "cell_type": "markdown",
      "metadata": {
        "heading_collapsed": true,
        "hidden": true,
        "id": "BMivnsgodt6c"
      },
      "source": [
        "#### [из файла](http://pandas.pydata.org/pandas-docs/stable/user_guide/io.html#io-tools-text-csv-hdf5)"
      ]
    },
    {
      "cell_type": "code",
      "metadata": {
        "colab": {
          "base_uri": "https://localhost:8080/",
          "height": 323
        },
        "id": "uq9XtpUng6K_",
        "outputId": "56236fdd-8032-4eb0-b4c6-1e87e223d14e"
      },
      "source": [
        "from google.colab import drive\n",
        "drive.mount('content/drive')\n"
      ],
      "execution_count": null,
      "outputs": [
        {
          "output_type": "error",
          "ename": "ValueError",
          "evalue": "ignored",
          "traceback": [
            "\u001b[0;31m---------------------------------------------------------------------------\u001b[0m",
            "\u001b[0;31mValueError\u001b[0m                                Traceback (most recent call last)",
            "\u001b[0;32m<ipython-input-56-8e29cc1821a0>\u001b[0m in \u001b[0;36m<module>\u001b[0;34m()\u001b[0m\n\u001b[1;32m      1\u001b[0m \u001b[0;32mfrom\u001b[0m \u001b[0mgoogle\u001b[0m\u001b[0;34m.\u001b[0m\u001b[0mcolab\u001b[0m \u001b[0;32mimport\u001b[0m \u001b[0mdrive\u001b[0m\u001b[0;34m\u001b[0m\u001b[0;34m\u001b[0m\u001b[0m\n\u001b[0;32m----> 2\u001b[0;31m \u001b[0mdrive\u001b[0m\u001b[0;34m.\u001b[0m\u001b[0mmount\u001b[0m\u001b[0;34m(\u001b[0m\u001b[0;34m'content/drive'\u001b[0m\u001b[0;34m)\u001b[0m\u001b[0;34m\u001b[0m\u001b[0;34m\u001b[0m\u001b[0m\n\u001b[0m",
            "\u001b[0;32m/usr/local/lib/python3.7/dist-packages/google/colab/drive.py\u001b[0m in \u001b[0;36mmount\u001b[0;34m(mountpoint, force_remount, timeout_ms, use_metadata_server)\u001b[0m\n\u001b[1;32m    111\u001b[0m       \u001b[0mtimeout_ms\u001b[0m\u001b[0;34m=\u001b[0m\u001b[0mtimeout_ms\u001b[0m\u001b[0;34m,\u001b[0m\u001b[0;34m\u001b[0m\u001b[0;34m\u001b[0m\u001b[0m\n\u001b[1;32m    112\u001b[0m       \u001b[0muse_metadata_server\u001b[0m\u001b[0;34m=\u001b[0m\u001b[0muse_metadata_server\u001b[0m\u001b[0;34m,\u001b[0m\u001b[0;34m\u001b[0m\u001b[0;34m\u001b[0m\u001b[0m\n\u001b[0;32m--> 113\u001b[0;31m       ephemeral=ephemeral)\n\u001b[0m\u001b[1;32m    114\u001b[0m \u001b[0;34m\u001b[0m\u001b[0m\n\u001b[1;32m    115\u001b[0m \u001b[0;34m\u001b[0m\u001b[0m\n",
            "\u001b[0;32m/usr/local/lib/python3.7/dist-packages/google/colab/drive.py\u001b[0m in \u001b[0;36m_mount\u001b[0;34m(mountpoint, force_remount, timeout_ms, use_metadata_server, ephemeral)\u001b[0m\n\u001b[1;32m    197\u001b[0m     \u001b[0mnormed\u001b[0m \u001b[0;34m=\u001b[0m \u001b[0m_os\u001b[0m\u001b[0;34m.\u001b[0m\u001b[0mpath\u001b[0m\u001b[0;34m.\u001b[0m\u001b[0mnormpath\u001b[0m\u001b[0;34m(\u001b[0m\u001b[0mmountpoint\u001b[0m\u001b[0;34m)\u001b[0m\u001b[0;34m\u001b[0m\u001b[0;34m\u001b[0m\u001b[0m\n\u001b[1;32m    198\u001b[0m     \u001b[0;32mif\u001b[0m \u001b[0;34m'/'\u001b[0m \u001b[0;32min\u001b[0m \u001b[0mnormed\u001b[0m \u001b[0;32mand\u001b[0m \u001b[0;32mnot\u001b[0m \u001b[0m_os\u001b[0m\u001b[0;34m.\u001b[0m\u001b[0mpath\u001b[0m\u001b[0;34m.\u001b[0m\u001b[0mexists\u001b[0m\u001b[0;34m(\u001b[0m\u001b[0m_os\u001b[0m\u001b[0;34m.\u001b[0m\u001b[0mpath\u001b[0m\u001b[0;34m.\u001b[0m\u001b[0mdirname\u001b[0m\u001b[0;34m(\u001b[0m\u001b[0mnormed\u001b[0m\u001b[0;34m)\u001b[0m\u001b[0;34m)\u001b[0m\u001b[0;34m:\u001b[0m\u001b[0;34m\u001b[0m\u001b[0;34m\u001b[0m\u001b[0m\n\u001b[0;32m--> 199\u001b[0;31m       \u001b[0;32mraise\u001b[0m \u001b[0mValueError\u001b[0m\u001b[0;34m(\u001b[0m\u001b[0;34m'Mountpoint must be in a directory that exists'\u001b[0m\u001b[0;34m)\u001b[0m\u001b[0;34m\u001b[0m\u001b[0;34m\u001b[0m\u001b[0m\n\u001b[0m\u001b[1;32m    200\u001b[0m   \u001b[0;32mexcept\u001b[0m\u001b[0;34m:\u001b[0m\u001b[0;34m\u001b[0m\u001b[0;34m\u001b[0m\u001b[0m\n\u001b[1;32m    201\u001b[0m     \u001b[0md\u001b[0m\u001b[0;34m.\u001b[0m\u001b[0mkill\u001b[0m\u001b[0;34m(\u001b[0m\u001b[0m_signal\u001b[0m\u001b[0;34m.\u001b[0m\u001b[0mSIGKILL\u001b[0m\u001b[0;34m)\u001b[0m\u001b[0;34m\u001b[0m\u001b[0;34m\u001b[0m\u001b[0m\n",
            "\u001b[0;31mValueError\u001b[0m: Mountpoint must be in a directory that exists"
          ]
        }
      ]
    },
    {
      "cell_type": "code",
      "metadata": {
        "id": "w8P99rgAh5dJ"
      },
      "source": [
        "path = \"MyDrive/Colab Notebooks/Python And Data Analysis/data/\"\n",
        "df_bonus = pd.read_csv(path , sep = ';')# Dataset is now stored in a Pandas Dataframe"
      ],
      "execution_count": null,
      "outputs": []
    },
    {
      "cell_type": "code",
      "metadata": {
        "id": "JuFpVo5xBKxk"
      },
      "source": [
        "from google.colab import drive  #  подключение гугл диска\n",
        "drive.mount('/content/drive')\n",
        "\n",
        "pd.read_csv(filepath_or_buffer = \"..//sp500.csv\",sep = ';') # чтение из файла"
      ],
      "execution_count": null,
      "outputs": []
    },
    {
      "cell_type": "markdown",
      "metadata": {
        "hidden": true,
        "id": "BcR2q6vPdt6d"
      },
      "source": [
        "| Column Name        | Description\n",
        "| ------------- |:-------------:|\n",
        "|Symbol|Сокращенное название организации|\n",
        "|Name|Полное название организации|\n",
        "|Sector|Сектор экономики|\n",
        "|Price|Стоимость акции|\n",
        "|Dividend Yield|Дивидендная доходность|\n",
        "|Price/Earnings|Цена / прибыль|\n",
        "|Earnings/Share|Прибыль на акцию|\n",
        "|Book Value|Балансовая стоимость компании|\n",
        "|52 week low|52-недельный минимум|\n",
        "|52 week high|52-недельный максимум|\n",
        "|Market Cap|Рыночная капитализация|\n",
        "|EBITDA|**E**arnings **b**efore **i**nterest, **t**axes, **d**epreciation and **a**mortization|\n",
        "|Price/Sales|Цена / объём продаж|\n",
        "|Price/Book|Цена / балансовая стоимость|\n",
        "|SEC Filings|Ссылка *sec.gov*|"
      ]
    },
    {
      "cell_type": "code",
      "metadata": {
        "hidden": true,
        "colab": {
          "base_uri": "https://localhost:8080/",
          "height": 813
        },
        "id": "cU4Z8HwAdt6d",
        "outputId": "53538636-a875-4338-8395-e326119dfc32"
      },
      "source": [
        "pd.read_csv(filepath_or_buffer = \"../data_sber/sp500.csv\",\n",
        "            sep = ',')"
      ],
      "execution_count": null,
      "outputs": [
        {
          "output_type": "execute_result",
          "data": {
            "text/html": [
              "<div>\n",
              "<style scoped>\n",
              "    .dataframe tbody tr th:only-of-type {\n",
              "        vertical-align: middle;\n",
              "    }\n",
              "\n",
              "    .dataframe tbody tr th {\n",
              "        vertical-align: top;\n",
              "    }\n",
              "\n",
              "    .dataframe thead th {\n",
              "        text-align: right;\n",
              "    }\n",
              "</style>\n",
              "<table border=\"1\" class=\"dataframe\">\n",
              "  <thead>\n",
              "    <tr style=\"text-align: right;\">\n",
              "      <th></th>\n",
              "      <th>Symbol</th>\n",
              "      <th>Name</th>\n",
              "      <th>Sector</th>\n",
              "      <th>Price</th>\n",
              "      <th>Dividend Yield</th>\n",
              "      <th>Price/Earnings</th>\n",
              "      <th>Earnings/Share</th>\n",
              "      <th>Book Value</th>\n",
              "      <th>52 week low</th>\n",
              "      <th>52 week high</th>\n",
              "      <th>Market Cap</th>\n",
              "      <th>EBITDA</th>\n",
              "      <th>Price/Sales</th>\n",
              "      <th>Price/Book</th>\n",
              "      <th>SEC Filings</th>\n",
              "    </tr>\n",
              "  </thead>\n",
              "  <tbody>\n",
              "    <tr>\n",
              "      <th>0</th>\n",
              "      <td>MMM</td>\n",
              "      <td>3M Co.</td>\n",
              "      <td>Industrials</td>\n",
              "      <td>141.14</td>\n",
              "      <td>2.12</td>\n",
              "      <td>20.33</td>\n",
              "      <td>6.900</td>\n",
              "      <td>26.668</td>\n",
              "      <td>107.15</td>\n",
              "      <td>143.37</td>\n",
              "      <td>92.345</td>\n",
              "      <td>8.1210</td>\n",
              "      <td>2.95</td>\n",
              "      <td>5.26</td>\n",
              "      <td>http://www.sec.gov/cgi-bin/browse-edgar?action...</td>\n",
              "    </tr>\n",
              "    <tr>\n",
              "      <th>1</th>\n",
              "      <td>ABT</td>\n",
              "      <td>Abbott Laboratories</td>\n",
              "      <td>Health Care</td>\n",
              "      <td>39.60</td>\n",
              "      <td>1.82</td>\n",
              "      <td>25.93</td>\n",
              "      <td>1.529</td>\n",
              "      <td>15.573</td>\n",
              "      <td>32.70</td>\n",
              "      <td>40.49</td>\n",
              "      <td>59.477</td>\n",
              "      <td>4.3590</td>\n",
              "      <td>2.74</td>\n",
              "      <td>2.55</td>\n",
              "      <td>http://www.sec.gov/cgi-bin/browse-edgar?action...</td>\n",
              "    </tr>\n",
              "    <tr>\n",
              "      <th>2</th>\n",
              "      <td>ABBV</td>\n",
              "      <td>AbbVie Inc.</td>\n",
              "      <td>Health Care</td>\n",
              "      <td>53.95</td>\n",
              "      <td>3.02</td>\n",
              "      <td>20.87</td>\n",
              "      <td>2.570</td>\n",
              "      <td>2.954</td>\n",
              "      <td>40.10</td>\n",
              "      <td>54.78</td>\n",
              "      <td>85.784</td>\n",
              "      <td>7.1900</td>\n",
              "      <td>4.48</td>\n",
              "      <td>18.16</td>\n",
              "      <td>http://www.sec.gov/cgi-bin/browse-edgar?action...</td>\n",
              "    </tr>\n",
              "    <tr>\n",
              "      <th>3</th>\n",
              "      <td>ACN</td>\n",
              "      <td>Accenture</td>\n",
              "      <td>Information Technology</td>\n",
              "      <td>79.79</td>\n",
              "      <td>2.34</td>\n",
              "      <td>19.53</td>\n",
              "      <td>4.068</td>\n",
              "      <td>8.326</td>\n",
              "      <td>69.00</td>\n",
              "      <td>85.88</td>\n",
              "      <td>50.513</td>\n",
              "      <td>4.4230</td>\n",
              "      <td>1.75</td>\n",
              "      <td>9.54</td>\n",
              "      <td>http://www.sec.gov/cgi-bin/browse-edgar?action...</td>\n",
              "    </tr>\n",
              "    <tr>\n",
              "      <th>4</th>\n",
              "      <td>ACE</td>\n",
              "      <td>ACE Limited</td>\n",
              "      <td>Financials</td>\n",
              "      <td>102.91</td>\n",
              "      <td>2.21</td>\n",
              "      <td>10.00</td>\n",
              "      <td>10.293</td>\n",
              "      <td>86.897</td>\n",
              "      <td>84.73</td>\n",
              "      <td>104.07</td>\n",
              "      <td>34.753</td>\n",
              "      <td>4.2750</td>\n",
              "      <td>1.79</td>\n",
              "      <td>1.18</td>\n",
              "      <td>http://www.sec.gov/cgi-bin/browse-edgar?action...</td>\n",
              "    </tr>\n",
              "    <tr>\n",
              "      <th>...</th>\n",
              "      <td>...</td>\n",
              "      <td>...</td>\n",
              "      <td>...</td>\n",
              "      <td>...</td>\n",
              "      <td>...</td>\n",
              "      <td>...</td>\n",
              "      <td>...</td>\n",
              "      <td>...</td>\n",
              "      <td>...</td>\n",
              "      <td>...</td>\n",
              "      <td>...</td>\n",
              "      <td>...</td>\n",
              "      <td>...</td>\n",
              "      <td>...</td>\n",
              "      <td>...</td>\n",
              "    </tr>\n",
              "    <tr>\n",
              "      <th>495</th>\n",
              "      <td>YHOO</td>\n",
              "      <td>Yahoo Inc.</td>\n",
              "      <td>Information Technology</td>\n",
              "      <td>35.02</td>\n",
              "      <td>NaN</td>\n",
              "      <td>28.94</td>\n",
              "      <td>1.199</td>\n",
              "      <td>12.768</td>\n",
              "      <td>23.82</td>\n",
              "      <td>41.72</td>\n",
              "      <td>35.258</td>\n",
              "      <td>0.8873</td>\n",
              "      <td>7.48</td>\n",
              "      <td>2.72</td>\n",
              "      <td>http://www.sec.gov/cgi-bin/browse-edgar?action...</td>\n",
              "    </tr>\n",
              "    <tr>\n",
              "      <th>496</th>\n",
              "      <td>YUM</td>\n",
              "      <td>Yum! Brands Inc</td>\n",
              "      <td>Consumer Discretionary</td>\n",
              "      <td>74.77</td>\n",
              "      <td>1.93</td>\n",
              "      <td>29.86</td>\n",
              "      <td>2.507</td>\n",
              "      <td>5.147</td>\n",
              "      <td>64.08</td>\n",
              "      <td>79.70</td>\n",
              "      <td>33.002</td>\n",
              "      <td>2.8640</td>\n",
              "      <td>2.49</td>\n",
              "      <td>14.55</td>\n",
              "      <td>http://www.sec.gov/cgi-bin/browse-edgar?action...</td>\n",
              "    </tr>\n",
              "    <tr>\n",
              "      <th>497</th>\n",
              "      <td>ZMH</td>\n",
              "      <td>Zimmer Holdings</td>\n",
              "      <td>Health Care</td>\n",
              "      <td>101.84</td>\n",
              "      <td>0.81</td>\n",
              "      <td>22.92</td>\n",
              "      <td>4.441</td>\n",
              "      <td>37.181</td>\n",
              "      <td>74.55</td>\n",
              "      <td>108.33</td>\n",
              "      <td>17.091</td>\n",
              "      <td>1.6890</td>\n",
              "      <td>3.68</td>\n",
              "      <td>2.74</td>\n",
              "      <td>http://www.sec.gov/cgi-bin/browse-edgar?action...</td>\n",
              "    </tr>\n",
              "    <tr>\n",
              "      <th>498</th>\n",
              "      <td>ZION</td>\n",
              "      <td>Zions Bancorp</td>\n",
              "      <td>Financials</td>\n",
              "      <td>28.43</td>\n",
              "      <td>0.56</td>\n",
              "      <td>18.82</td>\n",
              "      <td>1.511</td>\n",
              "      <td>30.191</td>\n",
              "      <td>26.39</td>\n",
              "      <td>33.33</td>\n",
              "      <td>5.257</td>\n",
              "      <td>0.0000</td>\n",
              "      <td>2.49</td>\n",
              "      <td>0.94</td>\n",
              "      <td>http://www.sec.gov/cgi-bin/browse-edgar?action...</td>\n",
              "    </tr>\n",
              "    <tr>\n",
              "      <th>499</th>\n",
              "      <td>ZTS</td>\n",
              "      <td>Zoetis Inc</td>\n",
              "      <td>Health Care</td>\n",
              "      <td>30.53</td>\n",
              "      <td>0.90</td>\n",
              "      <td>29.22</td>\n",
              "      <td>1.038</td>\n",
              "      <td>2.150</td>\n",
              "      <td>28.14</td>\n",
              "      <td>34.28</td>\n",
              "      <td>15.296</td>\n",
              "      <td>1.2920</td>\n",
              "      <td>3.33</td>\n",
              "      <td>14.11</td>\n",
              "      <td>http://www.sec.gov/cgi-bin/browse-edgar?action...</td>\n",
              "    </tr>\n",
              "  </tbody>\n",
              "</table>\n",
              "<p>500 rows × 15 columns</p>\n",
              "</div>"
            ],
            "text/plain": [
              "    Symbol  ...                                        SEC Filings\n",
              "0      MMM  ...  http://www.sec.gov/cgi-bin/browse-edgar?action...\n",
              "1      ABT  ...  http://www.sec.gov/cgi-bin/browse-edgar?action...\n",
              "2     ABBV  ...  http://www.sec.gov/cgi-bin/browse-edgar?action...\n",
              "3      ACN  ...  http://www.sec.gov/cgi-bin/browse-edgar?action...\n",
              "4      ACE  ...  http://www.sec.gov/cgi-bin/browse-edgar?action...\n",
              "..     ...  ...                                                ...\n",
              "495   YHOO  ...  http://www.sec.gov/cgi-bin/browse-edgar?action...\n",
              "496    YUM  ...  http://www.sec.gov/cgi-bin/browse-edgar?action...\n",
              "497    ZMH  ...  http://www.sec.gov/cgi-bin/browse-edgar?action...\n",
              "498   ZION  ...  http://www.sec.gov/cgi-bin/browse-edgar?action...\n",
              "499    ZTS  ...  http://www.sec.gov/cgi-bin/browse-edgar?action...\n",
              "\n",
              "[500 rows x 15 columns]"
            ]
          },
          "metadata": {},
          "execution_count": 63
        }
      ]
    },
    {
      "cell_type": "code",
      "metadata": {
        "id": "LREcnEbmCd2c"
      },
      "source": [
        "from google.colab import drive\n",
        "drive.mount('/content/drive')"
      ],
      "execution_count": null,
      "outputs": []
    },
    {
      "cell_type": "markdown",
      "metadata": {
        "hidden": true,
        "id": "ST0_2Zwgdt6e"
      },
      "source": [
        "разделитель"
      ]
    },
    {
      "cell_type": "code",
      "metadata": {
        "hidden": true,
        "id": "eQACyKSBdt6e"
      },
      "source": [
        "pd.read_csv(filepath_or_buffer = \"../data_sber/sp500.csv\", /content/drive/MyDrive/Colab Notebooks/Python And Data Analysis/data\n",
        "           sep = ',')"
      ],
      "execution_count": null,
      "outputs": []
    },
    {
      "cell_type": "code",
      "metadata": {
        "colab": {
          "base_uri": "https://localhost:8080/",
          "height": 419
        },
        "id": "oWtrOhPvxsAF",
        "outputId": "bb5c7c9c-5e84-418c-da40-cbae38d95b39"
      },
      "source": [
        "pd.read_csv(filepath_or_buffer = \"../tips.csv\",\n",
        "           sep = ',')"
      ],
      "execution_count": null,
      "outputs": [
        {
          "output_type": "execute_result",
          "data": {
            "text/html": [
              "<div>\n",
              "<style scoped>\n",
              "    .dataframe tbody tr th:only-of-type {\n",
              "        vertical-align: middle;\n",
              "    }\n",
              "\n",
              "    .dataframe tbody tr th {\n",
              "        vertical-align: top;\n",
              "    }\n",
              "\n",
              "    .dataframe thead th {\n",
              "        text-align: right;\n",
              "    }\n",
              "</style>\n",
              "<table border=\"1\" class=\"dataframe\">\n",
              "  <thead>\n",
              "    <tr style=\"text-align: right;\">\n",
              "      <th></th>\n",
              "      <th>total_bill</th>\n",
              "      <th>tip</th>\n",
              "      <th>smoker</th>\n",
              "      <th>day</th>\n",
              "      <th>time</th>\n",
              "      <th>size</th>\n",
              "    </tr>\n",
              "  </thead>\n",
              "  <tbody>\n",
              "    <tr>\n",
              "      <th>0</th>\n",
              "      <td>16.99</td>\n",
              "      <td>1.01</td>\n",
              "      <td>No</td>\n",
              "      <td>Sun</td>\n",
              "      <td>Dinner</td>\n",
              "      <td>2</td>\n",
              "    </tr>\n",
              "    <tr>\n",
              "      <th>1</th>\n",
              "      <td>10.34</td>\n",
              "      <td>1.66</td>\n",
              "      <td>No</td>\n",
              "      <td>Sun</td>\n",
              "      <td>Dinner</td>\n",
              "      <td>3</td>\n",
              "    </tr>\n",
              "    <tr>\n",
              "      <th>2</th>\n",
              "      <td>21.01</td>\n",
              "      <td>3.50</td>\n",
              "      <td>No</td>\n",
              "      <td>Sun</td>\n",
              "      <td>Dinner</td>\n",
              "      <td>3</td>\n",
              "    </tr>\n",
              "    <tr>\n",
              "      <th>3</th>\n",
              "      <td>23.68</td>\n",
              "      <td>3.31</td>\n",
              "      <td>No</td>\n",
              "      <td>Sun</td>\n",
              "      <td>Dinner</td>\n",
              "      <td>2</td>\n",
              "    </tr>\n",
              "    <tr>\n",
              "      <th>4</th>\n",
              "      <td>24.59</td>\n",
              "      <td>3.61</td>\n",
              "      <td>No</td>\n",
              "      <td>Sun</td>\n",
              "      <td>Dinner</td>\n",
              "      <td>4</td>\n",
              "    </tr>\n",
              "    <tr>\n",
              "      <th>...</th>\n",
              "      <td>...</td>\n",
              "      <td>...</td>\n",
              "      <td>...</td>\n",
              "      <td>...</td>\n",
              "      <td>...</td>\n",
              "      <td>...</td>\n",
              "    </tr>\n",
              "    <tr>\n",
              "      <th>239</th>\n",
              "      <td>29.03</td>\n",
              "      <td>5.92</td>\n",
              "      <td>No</td>\n",
              "      <td>Sat</td>\n",
              "      <td>Dinner</td>\n",
              "      <td>3</td>\n",
              "    </tr>\n",
              "    <tr>\n",
              "      <th>240</th>\n",
              "      <td>27.18</td>\n",
              "      <td>2.00</td>\n",
              "      <td>Yes</td>\n",
              "      <td>Sat</td>\n",
              "      <td>Dinner</td>\n",
              "      <td>2</td>\n",
              "    </tr>\n",
              "    <tr>\n",
              "      <th>241</th>\n",
              "      <td>22.67</td>\n",
              "      <td>2.00</td>\n",
              "      <td>Yes</td>\n",
              "      <td>Sat</td>\n",
              "      <td>Dinner</td>\n",
              "      <td>2</td>\n",
              "    </tr>\n",
              "    <tr>\n",
              "      <th>242</th>\n",
              "      <td>17.82</td>\n",
              "      <td>1.75</td>\n",
              "      <td>No</td>\n",
              "      <td>Sat</td>\n",
              "      <td>Dinner</td>\n",
              "      <td>2</td>\n",
              "    </tr>\n",
              "    <tr>\n",
              "      <th>243</th>\n",
              "      <td>18.78</td>\n",
              "      <td>3.00</td>\n",
              "      <td>No</td>\n",
              "      <td>Thur</td>\n",
              "      <td>Dinner</td>\n",
              "      <td>2</td>\n",
              "    </tr>\n",
              "  </tbody>\n",
              "</table>\n",
              "<p>244 rows × 6 columns</p>\n",
              "</div>"
            ],
            "text/plain": [
              "     total_bill   tip smoker   day    time  size\n",
              "0         16.99  1.01     No   Sun  Dinner     2\n",
              "1         10.34  1.66     No   Sun  Dinner     3\n",
              "2         21.01  3.50     No   Sun  Dinner     3\n",
              "3         23.68  3.31     No   Sun  Dinner     2\n",
              "4         24.59  3.61     No   Sun  Dinner     4\n",
              "..          ...   ...    ...   ...     ...   ...\n",
              "239       29.03  5.92     No   Sat  Dinner     3\n",
              "240       27.18  2.00    Yes   Sat  Dinner     2\n",
              "241       22.67  2.00    Yes   Sat  Dinner     2\n",
              "242       17.82  1.75     No   Sat  Dinner     2\n",
              "243       18.78  3.00     No  Thur  Dinner     2\n",
              "\n",
              "[244 rows x 6 columns]"
            ]
          },
          "metadata": {},
          "execution_count": 46
        }
      ]
    },
    {
      "cell_type": "markdown",
      "metadata": {
        "hidden": true,
        "id": "ekBl4n7ydt6e"
      },
      "source": [
        "количество строк"
      ]
    },
    {
      "cell_type": "code",
      "metadata": {
        "hidden": true,
        "id": "izOI32K_dt6e"
      },
      "source": [
        "pd.read_csv(filepath_or_buffer = \"../data/sp500.csv\", \n",
        "           sep = ',',\n",
        "           nrows = 3)"
      ],
      "execution_count": null,
      "outputs": []
    },
    {
      "cell_type": "markdown",
      "metadata": {
        "hidden": true,
        "id": "X2CBOQhIdt6f"
      },
      "source": [
        "столбцы"
      ]
    },
    {
      "cell_type": "code",
      "metadata": {
        "hidden": true,
        "id": "awvIJtCidt6f"
      },
      "source": [
        "pd.read_csv(filepath_or_buffer = \"../data/sp500.csv\",\n",
        "           sep = ',',\n",
        "           nrows = 3,\n",
        "           usecols=['Symbol', 'Sector', 'Price', 'Book Value'])"
      ],
      "execution_count": null,
      "outputs": []
    },
    {
      "cell_type": "markdown",
      "metadata": {
        "hidden": true,
        "id": "KeCvymYVdt6f"
      },
      "source": [
        "индекс"
      ]
    },
    {
      "cell_type": "code",
      "metadata": {
        "hidden": true,
        "id": "On1WGF0kdt6f"
      },
      "source": [
        "pd.read_csv(filepath_or_buffer = \"../data/sp500.csv\",\n",
        "           sep = ',',\n",
        "           nrows = 3,\n",
        "           usecols=['Symbol', 'Sector', 'Price', 'Book Value'],\n",
        "           index_col='Symbol')"
      ],
      "execution_count": null,
      "outputs": []
    },
    {
      "cell_type": "markdown",
      "metadata": {
        "hidden": true,
        "id": "2BWC_6pqdt6g"
      },
      "source": [
        "итератор"
      ]
    },
    {
      "cell_type": "code",
      "metadata": {
        "hidden": true,
        "id": "qJj7B6i9dt6g"
      },
      "source": [
        "df_chunk = pd.read_csv(filepath_or_buffer = \"../data/sp500.csv\",\n",
        "                       sep = ',',\n",
        "                       chunksize=50,\n",
        "                       usecols=['Symbol', 'Sector', 'Price', 'Book Value'],\n",
        "                       index_col='Symbol')"
      ],
      "execution_count": null,
      "outputs": []
    },
    {
      "cell_type": "code",
      "metadata": {
        "hidden": true,
        "id": "OWVjARuHdt6g"
      },
      "source": [
        "for df_tmp in df_chunk:\n",
        "    print('DataFrame part:', df_tmp.shape)   "
      ],
      "execution_count": null,
      "outputs": []
    },
    {
      "cell_type": "code",
      "metadata": {
        "hidden": true,
        "id": "QQdHFFVSdt6g"
      },
      "source": [
        "sp500 = pd.read_csv(filepath_or_buffer = \"../data/sp500.csv\",\n",
        "                    sep = ',',\n",
        "                    usecols=['Symbol', 'Sector', 'Price', 'Book Value'],\n",
        "                    index_col='Symbol')\n",
        "sp500"
      ],
      "execution_count": null,
      "outputs": []
    },
    {
      "cell_type": "markdown",
      "metadata": {
        "heading_collapsed": true,
        "id": "vEErJfQ_dt6h"
      },
      "source": [
        "### Свойства"
      ]
    },
    {
      "cell_type": "markdown",
      "metadata": {
        "heading_collapsed": true,
        "hidden": true,
        "id": "YjHNbJObdt6h"
      },
      "source": [
        "#### создаем Series для примеров"
      ]
    },
    {
      "cell_type": "code",
      "metadata": {
        "hidden": true,
        "id": "4tO5adg-dt6h"
      },
      "source": [
        "Simpsons = pd.Series({'Homer': 120,\n",
        "                      'Marge': 60,\n",
        "                      'Bart': 35,\n",
        "                      'Lisa': 30,\n",
        "                      'Maggie': 7})\n",
        "\n",
        "Simpsons"
      ],
      "execution_count": null,
      "outputs": []
    },
    {
      "cell_type": "code",
      "metadata": {
        "hidden": true,
        "id": "lCn_ild9dt6i"
      },
      "source": [
        "np.random.seed(123)\n",
        "numbers = pd.Series(data = np.random.normal(size=10),\n",
        "                    index = np.arange(25,35))\n",
        "numbers"
      ],
      "execution_count": null,
      "outputs": []
    },
    {
      "cell_type": "markdown",
      "metadata": {
        "heading_collapsed": true,
        "hidden": true,
        "id": "Wl_sGYFzdt6i"
      },
      "source": [
        "#### тип данных"
      ]
    },
    {
      "cell_type": "code",
      "metadata": {
        "hidden": true,
        "id": "xxgy0za0dt6i"
      },
      "source": [
        "Simpsons.dtype"
      ],
      "execution_count": null,
      "outputs": []
    },
    {
      "cell_type": "code",
      "metadata": {
        "hidden": true,
        "id": "TXON4Rt1dt6i"
      },
      "source": [
        "sp500.dtypes"
      ],
      "execution_count": null,
      "outputs": []
    },
    {
      "cell_type": "markdown",
      "metadata": {
        "heading_collapsed": true,
        "hidden": true,
        "id": "cefMHOhTdt6j"
      },
      "source": [
        "#### количество элементов"
      ]
    },
    {
      "cell_type": "markdown",
      "metadata": {
        "hidden": true,
        "id": "J8GmGcNJdt6j"
      },
      "source": [
        "Series:"
      ]
    },
    {
      "cell_type": "code",
      "metadata": {
        "hidden": true,
        "id": "KOcAZV68dt6j"
      },
      "source": [
        "print('Первый способ:', len(Simpsons))\n",
        "print('Второй способ:', Simpsons.size)\n",
        "print('Третий способ:', Simpsons.shape)"
      ],
      "execution_count": null,
      "outputs": []
    },
    {
      "cell_type": "markdown",
      "metadata": {
        "hidden": true,
        "id": "c4bDGdqXdt6j"
      },
      "source": [
        "DataFrame:"
      ]
    },
    {
      "cell_type": "code",
      "metadata": {
        "hidden": true,
        "id": "B-DFZO1ddt6k"
      },
      "source": [
        "print('Первый способ:', len(sp500))\n",
        "print('Второй способ:', sp500.size)\n",
        "print('Третий способ:', sp500.shape)"
      ],
      "execution_count": null,
      "outputs": []
    },
    {
      "cell_type": "markdown",
      "metadata": {
        "heading_collapsed": true,
        "hidden": true,
        "id": "R1YTVYWBdt6k"
      },
      "source": [
        "#### количество уникальных элементов"
      ]
    },
    {
      "cell_type": "code",
      "metadata": {
        "hidden": true,
        "id": "ubZus_N6dt6k"
      },
      "source": [
        "Simpsons.nunique()"
      ],
      "execution_count": null,
      "outputs": []
    },
    {
      "cell_type": "code",
      "metadata": {
        "hidden": true,
        "id": "J0CYucOKdt6k"
      },
      "source": [
        "sp500.nunique()"
      ],
      "execution_count": null,
      "outputs": []
    },
    {
      "cell_type": "markdown",
      "metadata": {
        "heading_collapsed": true,
        "hidden": true,
        "id": "sOZtGWqCdt6l"
      },
      "source": [
        "#### индекс и значения"
      ]
    },
    {
      "cell_type": "markdown",
      "metadata": {
        "hidden": true,
        "id": "c728T_NAdt6l"
      },
      "source": [
        "Series:"
      ]
    },
    {
      "cell_type": "code",
      "metadata": {
        "hidden": true,
        "id": "ctc2qFyVdt6l"
      },
      "source": [
        "Simpsons.index"
      ],
      "execution_count": null,
      "outputs": []
    },
    {
      "cell_type": "code",
      "metadata": {
        "hidden": true,
        "id": "u8VMb23ydt6l"
      },
      "source": [
        "Simpsons.values"
      ],
      "execution_count": null,
      "outputs": []
    },
    {
      "cell_type": "markdown",
      "metadata": {
        "hidden": true,
        "id": "iQBNj2NWdt6l"
      },
      "source": [
        "DataFrame:"
      ]
    },
    {
      "cell_type": "code",
      "metadata": {
        "hidden": true,
        "id": "ZDHOobnmdt6m"
      },
      "source": [
        "sp500.index"
      ],
      "execution_count": null,
      "outputs": []
    },
    {
      "cell_type": "code",
      "metadata": {
        "hidden": true,
        "id": "VL3gLiaFdt6m"
      },
      "source": [
        "sp500.values"
      ],
      "execution_count": null,
      "outputs": []
    },
    {
      "cell_type": "code",
      "metadata": {
        "hidden": true,
        "id": "fQH-cA7mdt6m"
      },
      "source": [
        "sp500.columns"
      ],
      "execution_count": null,
      "outputs": []
    },
    {
      "cell_type": "markdown",
      "metadata": {
        "hidden": true,
        "id": "3dIXDqQIdt6m"
      },
      "source": [
        "#### присвоение / изменение имени"
      ]
    },
    {
      "cell_type": "markdown",
      "metadata": {
        "heading_collapsed": true,
        "hidden": true,
        "id": "779M-JUFdt6m"
      },
      "source": [
        "#####  объекта Series"
      ]
    },
    {
      "cell_type": "code",
      "metadata": {
        "hidden": true,
        "id": "SeDYBpE5dt6n"
      },
      "source": [
        "Simpsons.name = 'Simpsons weight'\n",
        "Simpsons"
      ],
      "execution_count": null,
      "outputs": []
    },
    {
      "cell_type": "markdown",
      "metadata": {
        "heading_collapsed": true,
        "hidden": true,
        "id": "LW7wrKr_dt6n"
      },
      "source": [
        "##### индекса"
      ]
    },
    {
      "cell_type": "code",
      "metadata": {
        "hidden": true,
        "id": "OQLV_kWYdt6n"
      },
      "source": [
        "Simpsons.index.name = 'First name'\n",
        "Simpsons"
      ],
      "execution_count": null,
      "outputs": []
    },
    {
      "cell_type": "markdown",
      "metadata": {
        "heading_collapsed": true,
        "hidden": true,
        "id": "SzmoSRbVdt6n"
      },
      "source": [
        "##### столбца"
      ]
    },
    {
      "cell_type": "code",
      "metadata": {
        "hidden": true,
        "id": "E_CKpt7adt6n"
      },
      "source": [
        "sp500_copy = sp500.rename(columns = {'Book Value': 'BookValue'})"
      ],
      "execution_count": null,
      "outputs": []
    },
    {
      "cell_type": "markdown",
      "metadata": {
        "hidden": true,
        "id": "OoL_Mbqtdt6o"
      },
      "source": [
        "проверяем, не изменились ли имена столбцов в исходном датафрейме"
      ]
    },
    {
      "cell_type": "code",
      "metadata": {
        "hidden": true,
        "id": "hKGeAKGMdt6o"
      },
      "source": [
        "sp500.columns"
      ],
      "execution_count": null,
      "outputs": []
    },
    {
      "cell_type": "code",
      "metadata": {
        "hidden": true,
        "id": "1UIM5arYdt6o"
      },
      "source": [
        "sp500_copy.columns"
      ],
      "execution_count": null,
      "outputs": []
    },
    {
      "cell_type": "markdown",
      "metadata": {
        "hidden": true,
        "id": "f8fQGIU3dt6o"
      },
      "source": [
        "этот программный код переименовывает столбец на месте"
      ]
    },
    {
      "cell_type": "code",
      "metadata": {
        "hidden": true,
        "id": "wEAtNoWndt6o"
      },
      "source": [
        "sp500_copy.rename(columns = {'Book Value': 'BookValue'},\n",
        "            inplace=True)"
      ],
      "execution_count": null,
      "outputs": []
    },
    {
      "cell_type": "markdown",
      "metadata": {
        "hidden": true,
        "id": "rO_aDZhBdt6p"
      },
      "source": [
        "смотрим изменилось ли имя столбца"
      ]
    },
    {
      "cell_type": "code",
      "metadata": {
        "hidden": true,
        "id": "Hksa2vRBdt6p"
      },
      "source": [
        "sp500_copy.columns"
      ],
      "execution_count": null,
      "outputs": []
    },
    {
      "cell_type": "markdown",
      "metadata": {
        "heading_collapsed": true,
        "id": "7aJ3k2Kqdt6p"
      },
      "source": [
        "### Вывод значений"
      ]
    },
    {
      "cell_type": "markdown",
      "metadata": {
        "heading_collapsed": true,
        "hidden": true,
        "id": "SWmO8pmzdt6p"
      },
      "source": [
        "#### первые / последние строки"
      ]
    },
    {
      "cell_type": "code",
      "metadata": {
        "hidden": true,
        "id": "881qSDIRdt6p"
      },
      "source": [
        "sp500.head()"
      ],
      "execution_count": null,
      "outputs": []
    },
    {
      "cell_type": "code",
      "metadata": {
        "hidden": true,
        "id": "bQfLXuGAdt6q"
      },
      "source": [
        "Simpsons.tail(3)"
      ],
      "execution_count": null,
      "outputs": []
    },
    {
      "cell_type": "markdown",
      "metadata": {
        "heading_collapsed": true,
        "hidden": true,
        "id": "rtW6u5i8dt6q"
      },
      "source": [
        "#### столбцы "
      ]
    },
    {
      "cell_type": "markdown",
      "metadata": {
        "hidden": true,
        "id": "DpgOoq10dt6q"
      },
      "source": [
        "извлекаем столбец Sector"
      ]
    },
    {
      "cell_type": "code",
      "metadata": {
        "hidden": true,
        "id": "eBiEaYBudt6q"
      },
      "source": [
        "sp500['Sector'].head()"
      ],
      "execution_count": null,
      "outputs": []
    },
    {
      "cell_type": "markdown",
      "metadata": {
        "hidden": true,
        "id": "WLVxZt5edt6q"
      },
      "source": [
        "тип столбца датафрейма:"
      ]
    },
    {
      "cell_type": "code",
      "metadata": {
        "hidden": true,
        "id": "R0ljjMDwdt6r"
      },
      "source": [
        "type(sp500['Sector'])"
      ],
      "execution_count": null,
      "outputs": []
    },
    {
      "cell_type": "markdown",
      "metadata": {
        "hidden": true,
        "id": "ySptYvp4dt6r"
      },
      "source": [
        "извлекаем столбцы Price и Book Value"
      ]
    },
    {
      "cell_type": "code",
      "metadata": {
        "hidden": true,
        "id": "_s01FOKQdt6r"
      },
      "source": [
        "sp500[['Price', 'Book Value']].head()"
      ],
      "execution_count": null,
      "outputs": []
    },
    {
      "cell_type": "markdown",
      "metadata": {
        "hidden": true,
        "id": "EZDp00dfdt6r"
      },
      "source": [
        "покажем, что результат является объектом DataFrame"
      ]
    },
    {
      "cell_type": "code",
      "metadata": {
        "hidden": true,
        "id": "JYPI7OZsdt6r"
      },
      "source": [
        "type(sp500[['Price', 'Book Value']])"
      ],
      "execution_count": null,
      "outputs": []
    },
    {
      "cell_type": "markdown",
      "metadata": {
        "hidden": true,
        "id": "v8WvbwR8dt6s"
      },
      "source": [
        "атрибутивный доступ к столбцу по имени"
      ]
    },
    {
      "cell_type": "code",
      "metadata": {
        "hidden": true,
        "id": "Z-Q3bM7Xdt6s"
      },
      "source": [
        "sp500.Price.head()"
      ],
      "execution_count": null,
      "outputs": []
    },
    {
      "cell_type": "markdown",
      "metadata": {
        "hidden": true,
        "id": "w8NyEaD0dt6s"
      },
      "source": [
        "пример с названием \"Book Value\""
      ]
    },
    {
      "cell_type": "code",
      "metadata": {
        "hidden": true,
        "id": "TK8SRolfdt6u"
      },
      "source": [
        "sp500.Book Value"
      ],
      "execution_count": null,
      "outputs": []
    },
    {
      "cell_type": "markdown",
      "metadata": {
        "heading_collapsed": true,
        "hidden": true,
        "id": "XU2orJxqdt6u"
      },
      "source": [
        "#### строки"
      ]
    },
    {
      "cell_type": "markdown",
      "metadata": {
        "heading_collapsed": true,
        "hidden": true,
        "id": "EQvpDigsdt6u"
      },
      "source": [
        "##### по метке "
      ]
    },
    {
      "cell_type": "markdown",
      "metadata": {
        "hidden": true,
        "id": "1qKJ3cj3dt6v"
      },
      "source": [
        "**Series**"
      ]
    },
    {
      "cell_type": "code",
      "metadata": {
        "hidden": true,
        "id": "lU7X5ieWdt6v"
      },
      "source": [
        "numbers.loc[[25,33]]"
      ],
      "execution_count": null,
      "outputs": []
    },
    {
      "cell_type": "markdown",
      "metadata": {
        "hidden": true,
        "id": "YIyDq-eGdt6v"
      },
      "source": [
        "ошибка - нет метки"
      ]
    },
    {
      "cell_type": "code",
      "metadata": {
        "hidden": true,
        "id": "x3kyOOEEdt6v"
      },
      "source": [
        "numbers.loc[0]"
      ],
      "execution_count": null,
      "outputs": []
    },
    {
      "cell_type": "markdown",
      "metadata": {
        "hidden": true,
        "id": "k08s1vVFdt6w"
      },
      "source": [
        "**DataFrame**"
      ]
    },
    {
      "cell_type": "markdown",
      "metadata": {
        "hidden": true,
        "id": "IlQ2vzJ4dt6w"
      },
      "source": [
        "получаем строку с меткой индекса MMM,которая возвращается в виде объекта Series"
      ]
    },
    {
      "cell_type": "code",
      "metadata": {
        "hidden": true,
        "id": "PaSgKp2ydt6w"
      },
      "source": [
        "sp500.loc['MMM']"
      ],
      "execution_count": null,
      "outputs": []
    },
    {
      "cell_type": "code",
      "metadata": {
        "hidden": true,
        "id": "kc2b0M3Idt6w"
      },
      "source": [
        "type(sp500.loc['MMM'])"
      ],
      "execution_count": null,
      "outputs": []
    },
    {
      "cell_type": "markdown",
      "metadata": {
        "hidden": true,
        "id": "CUkHuuHYdt6x"
      },
      "source": [
        "получаем строки MMM и MSFT результатом будет объект DataFrame"
      ]
    },
    {
      "cell_type": "code",
      "metadata": {
        "hidden": true,
        "id": "8pokCUdHdt6x"
      },
      "source": [
        "sp500.loc[['MMM', 'MSFT']]"
      ],
      "execution_count": null,
      "outputs": []
    },
    {
      "cell_type": "code",
      "metadata": {
        "hidden": true,
        "id": "ApGYHteLdt6x"
      },
      "source": [
        "type(sp500.loc[['MMM', 'MSFT']])"
      ],
      "execution_count": null,
      "outputs": []
    },
    {
      "cell_type": "markdown",
      "metadata": {
        "heading_collapsed": true,
        "hidden": true,
        "id": "erIeLvM_dt6x"
      },
      "source": [
        "##### по позиции"
      ]
    },
    {
      "cell_type": "markdown",
      "metadata": {
        "hidden": true,
        "id": "Z1z62E-Ydt6y"
      },
      "source": [
        "**Series** "
      ]
    },
    {
      "cell_type": "code",
      "metadata": {
        "hidden": true,
        "id": "WviBf_11dt6y"
      },
      "source": [
        "numbers"
      ],
      "execution_count": null,
      "outputs": []
    },
    {
      "cell_type": "markdown",
      "metadata": {
        "hidden": true,
        "id": "pijUe8xkdt6y"
      },
      "source": [
        "по позиции"
      ]
    },
    {
      "cell_type": "code",
      "metadata": {
        "hidden": true,
        "id": "pTEP906vdt6y"
      },
      "source": [
        "numbers.iloc[[5,-5]]"
      ],
      "execution_count": null,
      "outputs": []
    },
    {
      "cell_type": "markdown",
      "metadata": {
        "hidden": true,
        "id": "qs7MhHVRdt6z"
      },
      "source": [
        "ошибка:"
      ]
    },
    {
      "cell_type": "code",
      "metadata": {
        "hidden": true,
        "id": "mlj1XD7Gdt6z"
      },
      "source": [
        "numbers.iloc[10]"
      ],
      "execution_count": null,
      "outputs": []
    },
    {
      "cell_type": "markdown",
      "metadata": {
        "hidden": true,
        "id": "5n-9TfTwdt6z"
      },
      "source": [
        "**DataFrame**"
      ]
    },
    {
      "cell_type": "markdown",
      "metadata": {
        "hidden": true,
        "id": "OxQEbX2udt6z"
      },
      "source": [
        "получаем строки, имеющие позиции 0 и 2"
      ]
    },
    {
      "cell_type": "code",
      "metadata": {
        "hidden": true,
        "id": "mARWdogJdt6z"
      },
      "source": [
        "sp500.iloc[[0, 2]]"
      ],
      "execution_count": null,
      "outputs": []
    },
    {
      "cell_type": "markdown",
      "metadata": {
        "hidden": true,
        "id": "GL109B-Xdt60"
      },
      "source": [
        "получаем позиции меток MMM и A в индексе"
      ]
    },
    {
      "cell_type": "code",
      "metadata": {
        "hidden": true,
        "id": "0SMRuBCGdt60"
      },
      "source": [
        "i1 = sp500.index.get_loc('MMM')\n",
        "i2 = sp500.index.get_loc('A')\n",
        "(i1, i2)"
      ],
      "execution_count": null,
      "outputs": []
    },
    {
      "cell_type": "markdown",
      "metadata": {
        "hidden": true,
        "id": "8pmDY0fzdt60"
      },
      "source": [
        "и извлекаем строки"
      ]
    },
    {
      "cell_type": "code",
      "metadata": {
        "hidden": true,
        "id": "HYfAnw01dt60"
      },
      "source": [
        "sp500.iloc[[i1, i2]]"
      ],
      "execution_count": null,
      "outputs": []
    },
    {
      "cell_type": "markdown",
      "metadata": {
        "heading_collapsed": true,
        "hidden": true,
        "id": "kFs4owRgdt61"
      },
      "source": [
        "#### поиск скалярного значения"
      ]
    },
    {
      "cell_type": "markdown",
      "metadata": {
        "hidden": true,
        "id": "vg3-iXxpdt61"
      },
      "source": [
        "ищем скалярное значение по метке строки и метке (имени) столбца"
      ]
    },
    {
      "cell_type": "code",
      "metadata": {
        "hidden": true,
        "id": "0WuA5kTwdt61"
      },
      "source": [
        "sp500.at['MMM', 'Price']"
      ],
      "execution_count": null,
      "outputs": []
    },
    {
      "cell_type": "markdown",
      "metadata": {
        "hidden": true,
        "id": "9Pzx9f5Ddt61"
      },
      "source": [
        "ищем скалярное значение по позиции строки и позиции столбца; извлекаем значение в строке 0, столбце 1"
      ]
    },
    {
      "cell_type": "code",
      "metadata": {
        "hidden": true,
        "id": "EXlZzQXudt62"
      },
      "source": [
        "sp500.iat[0, 1]"
      ],
      "execution_count": null,
      "outputs": []
    },
    {
      "cell_type": "markdown",
      "metadata": {
        "heading_collapsed": true,
        "hidden": true,
        "id": "RTjJD3zidt62"
      },
      "source": [
        "#### одновременный отбор строк и столбцов"
      ]
    },
    {
      "cell_type": "markdown",
      "metadata": {
        "hidden": true,
        "id": "gHf9Frludt62"
      },
      "source": [
        "отбираем строки с метками индекса ABT и ZTS для столбцов Sector и Price"
      ]
    },
    {
      "cell_type": "code",
      "metadata": {
        "hidden": true,
        "id": "qmMa-B3Rdt62"
      },
      "source": [
        "sp500.loc[['ABT', 'ZTS']][['Sector', 'Price']]"
      ],
      "execution_count": null,
      "outputs": []
    },
    {
      "cell_type": "code",
      "metadata": {
        "hidden": true,
        "id": "_mN38DKNdt62"
      },
      "source": [
        "sp500.loc[['ABT', 'ZTS'],['Sector', 'Price']]"
      ],
      "execution_count": null,
      "outputs": []
    },
    {
      "cell_type": "markdown",
      "metadata": {
        "hidden": true,
        "id": "jGEVu-qGdt63"
      },
      "source": [
        "определение номера позиций заданных меток"
      ]
    },
    {
      "cell_type": "code",
      "metadata": {
        "hidden": true,
        "id": "wpF1HP1Adt63"
      },
      "source": [
        "print(sp500.index.get_loc('ABT'),sp500.index.get_loc('ZTS')) "
      ],
      "execution_count": null,
      "outputs": []
    },
    {
      "cell_type": "markdown",
      "metadata": {
        "hidden": true,
        "id": "ZTLx3tc3dt63"
      },
      "source": [
        "отбор строк и столбцов по номеру позиций"
      ]
    },
    {
      "cell_type": "code",
      "metadata": {
        "hidden": true,
        "id": "Y5FSmdm0dt63"
      },
      "source": [
        "sp500.iloc[[1,499],[0,1]]"
      ],
      "execution_count": null,
      "outputs": []
    },
    {
      "cell_type": "markdown",
      "metadata": {
        "heading_collapsed": true,
        "hidden": true,
        "id": "BV5LrbV5dt63"
      },
      "source": [
        "#### транспонирование"
      ]
    },
    {
      "cell_type": "code",
      "metadata": {
        "hidden": true,
        "id": "y0zSf3ondt64"
      },
      "source": [
        "sp500.head()"
      ],
      "execution_count": null,
      "outputs": []
    },
    {
      "cell_type": "code",
      "metadata": {
        "hidden": true,
        "id": "gJfacTU9dt64"
      },
      "source": [
        "sp500.T.head()"
      ],
      "execution_count": null,
      "outputs": []
    },
    {
      "cell_type": "markdown",
      "metadata": {
        "heading_collapsed": true,
        "hidden": true,
        "id": "vxNthY88dt64"
      },
      "source": [
        "#### переиндексация"
      ]
    },
    {
      "cell_type": "markdown",
      "metadata": {
        "hidden": true,
        "id": "BJX55F4Adt64"
      },
      "source": [
        "ошибка:"
      ]
    },
    {
      "cell_type": "code",
      "metadata": {
        "hidden": true,
        "id": "wDq4oUpodt64"
      },
      "source": [
        "sp500.loc[['MMM', 'ABBV', 'NEW VALUE']]"
      ],
      "execution_count": null,
      "outputs": []
    },
    {
      "cell_type": "markdown",
      "metadata": {
        "hidden": true,
        "id": "cqXjI-3Odt65"
      },
      "source": [
        "делаем переиндексацию, задав метки MMM, ABBV и NEW VALUE"
      ]
    },
    {
      "cell_type": "code",
      "metadata": {
        "hidden": true,
        "id": "Mce8NsQ5dt65"
      },
      "source": [
        "reindexed = sp500.reindex(index=['MMM', 'ABBV', 'NEW VALUE'])"
      ],
      "execution_count": null,
      "outputs": []
    },
    {
      "cell_type": "markdown",
      "metadata": {
        "hidden": true,
        "id": "xkazz4ZBdt65"
      },
      "source": [
        "обратите внимание, что все индексы, кромя перечисленных при вызове, удалены, а *NEW VALUE* содержит значения *NaN*"
      ]
    },
    {
      "cell_type": "code",
      "metadata": {
        "hidden": true,
        "id": "Lb1_lCgmdt65"
      },
      "source": [
        "reindexed"
      ],
      "execution_count": null,
      "outputs": []
    },
    {
      "cell_type": "markdown",
      "metadata": {
        "hidden": true,
        "id": "H14vPzIddt65"
      },
      "source": [
        "выполняем переиндексацию столбцов"
      ]
    },
    {
      "cell_type": "code",
      "metadata": {
        "hidden": true,
        "id": "g-NyGomudt66"
      },
      "source": [
        "sp500.reindex(columns=['Price', 'Book Value', 'NewCol']).head()"
      ],
      "execution_count": null,
      "outputs": []
    },
    {
      "cell_type": "markdown",
      "metadata": {
        "hidden": true,
        "id": "NocvEFMgdt66"
      },
      "source": [
        "при этом можем заполнить отсутствующие значения константами вместо *NaN*"
      ]
    },
    {
      "cell_type": "code",
      "metadata": {
        "hidden": true,
        "id": "Pyv2i-qpdt66"
      },
      "source": [
        "sp500.reindex(columns=['Price',\n",
        "                       'Book Value',\n",
        "                       'NewCol'],\n",
        "              fill_value=0).head()"
      ],
      "execution_count": null,
      "outputs": []
    },
    {
      "cell_type": "markdown",
      "metadata": {
        "heading_collapsed": true,
        "hidden": true,
        "id": "7kjXCg4ddt66"
      },
      "source": [
        "#### случайная подвыборка"
      ]
    },
    {
      "cell_type": "markdown",
      "metadata": {
        "hidden": true,
        "id": "sCXldWZUdt66"
      },
      "source": [
        "отбираем три случайные строки"
      ]
    },
    {
      "cell_type": "code",
      "metadata": {
        "hidden": true,
        "id": "rhkCPa6qdt67"
      },
      "source": [
        "sp500.sample(n=3)"
      ],
      "execution_count": null,
      "outputs": []
    },
    {
      "cell_type": "markdown",
      "metadata": {
        "hidden": true,
        "id": "C-u31vHQdt67"
      },
      "source": [
        "случайный отбор с возвращением"
      ]
    },
    {
      "cell_type": "code",
      "metadata": {
        "hidden": true,
        "id": "aff26WI8dt67"
      },
      "source": [
        "sp500.sample(frac=5, replace=True, random_state=777)"
      ],
      "execution_count": null,
      "outputs": []
    },
    {
      "cell_type": "markdown",
      "metadata": {
        "heading_collapsed": true,
        "hidden": true,
        "id": "m72n8J5Edt67"
      },
      "source": [
        "#### [настройки вывода](http://pandas.pydata.org/pandas-docs/stable/user_guide/options.html#available-options)"
      ]
    },
    {
      "cell_type": "code",
      "metadata": {
        "hidden": true,
        "id": "BdAMcCdvdt68"
      },
      "source": [
        "pd.options.display.max_rows"
      ],
      "execution_count": null,
      "outputs": []
    },
    {
      "cell_type": "code",
      "metadata": {
        "hidden": true,
        "id": "pDixmRMWdt68"
      },
      "source": [
        "sp500"
      ],
      "execution_count": null,
      "outputs": []
    },
    {
      "cell_type": "code",
      "metadata": {
        "hidden": true,
        "id": "0Mx9LjDjdt68"
      },
      "source": [
        "pd.options.display.max_rows = 10"
      ],
      "execution_count": null,
      "outputs": []
    },
    {
      "cell_type": "code",
      "metadata": {
        "hidden": true,
        "id": "fq_P4Btpdt68"
      },
      "source": [
        "sp500"
      ],
      "execution_count": null,
      "outputs": []
    },
    {
      "cell_type": "code",
      "metadata": {
        "hidden": true,
        "id": "duyFkG4adt69"
      },
      "source": [
        "pd.options.display.max_rows"
      ],
      "execution_count": null,
      "outputs": []
    },
    {
      "cell_type": "markdown",
      "metadata": {
        "heading_collapsed": true,
        "id": "Enl2igG_dt69"
      },
      "source": [
        "### Срезы данных"
      ]
    },
    {
      "cell_type": "markdown",
      "metadata": {
        "heading_collapsed": true,
        "hidden": true,
        "id": "AFDfxUIOdt6-"
      },
      "source": [
        "#### Series"
      ]
    },
    {
      "cell_type": "markdown",
      "metadata": {
        "hidden": true,
        "id": "q8zESBmfdt6-"
      },
      "source": [
        "Задаём срез по правилу: [начальная позиция: конечная позиция: величина шага], при этом:\n",
        "- Правая граница - не включается\n",
        "- Шаг может быть отрицательным\n",
        "- Позиция также может быть отрицательной - тогда отсчёт происходит \"с другого конца\"\n",
        "- Нумерация происходит от нуля"
      ]
    },
    {
      "cell_type": "code",
      "metadata": {
        "hidden": true,
        "id": "Qg6rziG2dt6-"
      },
      "source": [
        "numbers"
      ],
      "execution_count": null,
      "outputs": []
    },
    {
      "cell_type": "markdown",
      "metadata": {
        "hidden": true,
        "id": "BzYN0T6Pdt6-"
      },
      "source": [
        "срез, содержащий элементы с позициями от 1 по 5"
      ]
    },
    {
      "cell_type": "code",
      "metadata": {
        "hidden": true,
        "id": "gURRbNc1dt6-"
      },
      "source": [
        "numbers.iloc[1:6]"
      ],
      "execution_count": null,
      "outputs": []
    },
    {
      "cell_type": "markdown",
      "metadata": {
        "hidden": true,
        "id": "Ufnr8ey1dt6_"
      },
      "source": [
        "выбираем элементы в позициях 1, 3, 5 == выбираем элементы с 1 по 5 позицию с шагом 2"
      ]
    },
    {
      "cell_type": "code",
      "metadata": {
        "hidden": true,
        "id": "_lIf9FBSdt6_"
      },
      "source": [
        "numbers.iloc[1:6:2]"
      ],
      "execution_count": null,
      "outputs": []
    },
    {
      "cell_type": "markdown",
      "metadata": {
        "hidden": true,
        "id": "sFDfZ9rkdt6_"
      },
      "source": [
        "можем оставить только конечную позицию"
      ]
    },
    {
      "cell_type": "code",
      "metadata": {
        "hidden": true,
        "id": "rOpcul2ldt6_"
      },
      "source": [
        "numbers.iloc[:6]"
      ],
      "execution_count": null,
      "outputs": []
    },
    {
      "cell_type": "markdown",
      "metadata": {
        "hidden": true,
        "id": "daW6mZq7dt7A"
      },
      "source": [
        "либо оставим только начальную позицию"
      ]
    },
    {
      "cell_type": "code",
      "metadata": {
        "hidden": true,
        "id": "eS2Fke3Qdt7B"
      },
      "source": [
        "numbers.iloc[3:]"
      ],
      "execution_count": null,
      "outputs": []
    },
    {
      "cell_type": "markdown",
      "metadata": {
        "hidden": true,
        "id": "DsRVF51Sdt7B"
      },
      "source": [
        "отбираем элементы Series в обратном порядке, начиная с 5"
      ]
    },
    {
      "cell_type": "code",
      "metadata": {
        "hidden": true,
        "id": "xbAJiEsldt7B"
      },
      "source": [
        "numbers.iloc[5::-1]"
      ],
      "execution_count": null,
      "outputs": []
    },
    {
      "cell_type": "markdown",
      "metadata": {
        "hidden": true,
        "id": "cHejwDYkdt7C"
      },
      "source": [
        "отбор 4 последних строк"
      ]
    },
    {
      "cell_type": "code",
      "metadata": {
        "hidden": true,
        "id": "CbOTZ2Usdt7C"
      },
      "source": [
        "numbers.iloc[-4:]"
      ],
      "execution_count": null,
      "outputs": []
    },
    {
      "cell_type": "markdown",
      "metadata": {
        "heading_collapsed": true,
        "hidden": true,
        "id": "CJ_ktktgdt7C"
      },
      "source": [
        "####  DataFrame"
      ]
    },
    {
      "cell_type": "code",
      "metadata": {
        "hidden": true,
        "id": "jEJY9rD4dt7C"
      },
      "source": [
        "sp500.iloc[:5]"
      ],
      "execution_count": null,
      "outputs": []
    },
    {
      "cell_type": "markdown",
      "metadata": {
        "hidden": true,
        "id": "c5JsUzJmdt7D"
      },
      "source": [
        "в обратном порядке"
      ]
    },
    {
      "cell_type": "code",
      "metadata": {
        "hidden": true,
        "id": "Xx3uUo7rdt7D"
      },
      "source": [
        "sp500.iloc[4::-1]"
      ],
      "execution_count": null,
      "outputs": []
    },
    {
      "cell_type": "markdown",
      "metadata": {
        "hidden": true,
        "id": "DeAF09W7dt7D"
      },
      "source": [
        "строки, начиная с метки ABT и заканчивая меткой ACN"
      ]
    },
    {
      "cell_type": "code",
      "metadata": {
        "hidden": true,
        "id": "dCoddyvLdt7D"
      },
      "source": [
        "sp500.loc['ABT':'ACN']"
      ],
      "execution_count": null,
      "outputs": []
    },
    {
      "cell_type": "markdown",
      "metadata": {
        "heading_collapsed": true,
        "id": "nXmAQxtadt7D"
      },
      "source": [
        "### Копирование и ссылки"
      ]
    },
    {
      "cell_type": "code",
      "metadata": {
        "hidden": true,
        "id": "Jsdsuzxkdt7E"
      },
      "source": [
        "numbers"
      ],
      "execution_count": null,
      "outputs": []
    },
    {
      "cell_type": "markdown",
      "metadata": {
        "hidden": true,
        "id": "VvRjp80zdt7E"
      },
      "source": [
        "элементы с 1 по 4"
      ]
    },
    {
      "cell_type": "code",
      "metadata": {
        "hidden": true,
        "id": "amOUVGphdt7E"
      },
      "source": [
        "numbers.iloc[[1,2,3,4]]"
      ],
      "execution_count": null,
      "outputs": []
    },
    {
      "cell_type": "markdown",
      "metadata": {
        "hidden": true,
        "id": "pAxRt55Udt7E"
      },
      "source": [
        "сохранили в переменную n"
      ]
    },
    {
      "cell_type": "code",
      "metadata": {
        "hidden": true,
        "id": "wN0WaBy6dt7E"
      },
      "source": [
        "n = numbers.iloc[[1,2,3,4]]"
      ],
      "execution_count": null,
      "outputs": []
    },
    {
      "cell_type": "code",
      "metadata": {
        "hidden": true,
        "id": "Hy32mn7hdt7F"
      },
      "source": [
        "n"
      ],
      "execution_count": null,
      "outputs": []
    },
    {
      "cell_type": "markdown",
      "metadata": {
        "hidden": true,
        "id": "-nSiKr5rdt7F"
      },
      "source": [
        "присваиваем значение 0 всем элементам"
      ]
    },
    {
      "cell_type": "code",
      "metadata": {
        "hidden": true,
        "id": "-kmGV5Vjdt7F"
      },
      "source": [
        "n.loc[:] = 0\n",
        "n"
      ],
      "execution_count": null,
      "outputs": []
    },
    {
      "cell_type": "markdown",
      "metadata": {
        "hidden": true,
        "id": "5bdpEnwEdt7F"
      },
      "source": [
        "что-нибудь произошло с numbers?"
      ]
    },
    {
      "cell_type": "code",
      "metadata": {
        "hidden": true,
        "id": "6xvfsKGcdt7G"
      },
      "source": [
        "numbers"
      ],
      "execution_count": null,
      "outputs": []
    },
    {
      "cell_type": "markdown",
      "metadata": {
        "hidden": true,
        "id": "FALp-P0qdt7G"
      },
      "source": [
        "еще раз сохраним первые 4 элемента"
      ]
    },
    {
      "cell_type": "code",
      "metadata": {
        "hidden": true,
        "id": "pkiAXS4kdt7G"
      },
      "source": [
        "n = numbers.iloc[[1,2,3,4]]\n",
        "n"
      ],
      "execution_count": null,
      "outputs": []
    },
    {
      "cell_type": "markdown",
      "metadata": {
        "hidden": true,
        "id": "YpEY5G43dt7G"
      },
      "source": [
        "создаем переменную k = срез с 1 по 4 элемент"
      ]
    },
    {
      "cell_type": "code",
      "metadata": {
        "hidden": true,
        "id": "UcACmozpdt7G"
      },
      "source": [
        "k = numbers[1:5]\n",
        "k.loc[:] = 0\n",
        "k"
      ],
      "execution_count": null,
      "outputs": []
    },
    {
      "cell_type": "code",
      "metadata": {
        "hidden": true,
        "id": "Jyb0n3xZdt7H"
      },
      "source": [
        "numbers"
      ],
      "execution_count": null,
      "outputs": []
    },
    {
      "cell_type": "markdown",
      "metadata": {
        "hidden": true,
        "id": "peMpJrNydt7H"
      },
      "source": [
        "воcстановили numbers"
      ]
    },
    {
      "cell_type": "code",
      "metadata": {
        "hidden": true,
        "id": "Wo4VFEwbdt7H"
      },
      "source": [
        "numbers[1:5] = n\n",
        "numbers"
      ],
      "execution_count": null,
      "outputs": []
    },
    {
      "cell_type": "markdown",
      "metadata": {
        "heading_collapsed": true,
        "id": "TGlK41UQdt7H"
      },
      "source": [
        "###  Удаление "
      ]
    },
    {
      "cell_type": "markdown",
      "metadata": {
        "heading_collapsed": true,
        "hidden": true,
        "id": "nBpc4A1Tdt7H"
      },
      "source": [
        "#### del"
      ]
    },
    {
      "cell_type": "markdown",
      "metadata": {
        "hidden": true,
        "id": "XlQz_UsFdt7I"
      },
      "source": [
        "Series"
      ]
    },
    {
      "cell_type": "code",
      "metadata": {
        "hidden": true,
        "id": "VJCi_NLFdt7I"
      },
      "source": [
        "Simpsons"
      ],
      "execution_count": null,
      "outputs": []
    },
    {
      "cell_type": "code",
      "metadata": {
        "hidden": true,
        "id": "50Dp0wD-dt7I"
      },
      "source": [
        "Simpsons_copy = Simpsons.copy()\n",
        "del Simpsons_copy['Maggie']\n",
        "Simpsons_copy"
      ],
      "execution_count": null,
      "outputs": []
    },
    {
      "cell_type": "markdown",
      "metadata": {
        "hidden": true,
        "id": "GuUIvGj4dt7I"
      },
      "source": [
        "DataFrame"
      ]
    },
    {
      "cell_type": "code",
      "metadata": {
        "hidden": true,
        "id": "Xg-rh4svdt7I"
      },
      "source": [
        "sp500.head()"
      ],
      "execution_count": null,
      "outputs": []
    },
    {
      "cell_type": "code",
      "metadata": {
        "hidden": true,
        "id": "eUkhLcbudt7J"
      },
      "source": [
        "sp500_copy = sp500.copy()\n",
        "del sp500_copy['Price']\n",
        "sp500_copy.iloc[:2]"
      ],
      "execution_count": null,
      "outputs": []
    },
    {
      "cell_type": "markdown",
      "metadata": {
        "heading_collapsed": true,
        "hidden": true,
        "id": "QeAVzZ6tdt7J"
      },
      "source": [
        "#### pop "
      ]
    },
    {
      "cell_type": "code",
      "metadata": {
        "hidden": true,
        "id": "OFp8TKoJdt7J"
      },
      "source": [
        "sp500_copy = sp500.copy()"
      ],
      "execution_count": null,
      "outputs": []
    },
    {
      "cell_type": "code",
      "metadata": {
        "hidden": true,
        "id": "y2cTv6lldt7J"
      },
      "source": [
        "sp500_copy.head(3)"
      ],
      "execution_count": null,
      "outputs": []
    },
    {
      "cell_type": "markdown",
      "metadata": {
        "hidden": true,
        "id": "T58kLpA2dt7K"
      },
      "source": [
        "эта строка удалит столбец Sector и возвратит его как серию"
      ]
    },
    {
      "cell_type": "code",
      "metadata": {
        "hidden": true,
        "id": "iBg3qRVadt7K"
      },
      "source": [
        "popped_column = sp500_copy.pop('Sector')"
      ],
      "execution_count": null,
      "outputs": []
    },
    {
      "cell_type": "markdown",
      "metadata": {
        "hidden": true,
        "id": "EJf7gJhLdt7K"
      },
      "source": [
        "столбец Sector удален на месте"
      ]
    },
    {
      "cell_type": "code",
      "metadata": {
        "hidden": true,
        "id": "6aw6o2OEdt7K"
      },
      "source": [
        "sp500_copy.head(3)"
      ],
      "execution_count": null,
      "outputs": []
    },
    {
      "cell_type": "markdown",
      "metadata": {
        "hidden": true,
        "id": "kR-Ms0eDdt7K"
      },
      "source": [
        "и у нас есть столбец Sector, полученный в результате применения pop"
      ]
    },
    {
      "cell_type": "code",
      "metadata": {
        "hidden": true,
        "id": "XfbfmD6zdt7K"
      },
      "source": [
        "popped_column.head(3)"
      ],
      "execution_count": null,
      "outputs": []
    },
    {
      "cell_type": "markdown",
      "metadata": {
        "hidden": true,
        "id": "5isF3OVQdt7L"
      },
      "source": [
        "Для Series применение .pop идентично"
      ]
    },
    {
      "cell_type": "markdown",
      "metadata": {
        "heading_collapsed": true,
        "hidden": true,
        "id": "BXiGTKtAdt7L"
      },
      "source": [
        "#### drop "
      ]
    },
    {
      "cell_type": "code",
      "metadata": {
        "hidden": true,
        "id": "sCyw2U0Hdt7L"
      },
      "source": [
        "sp500_copy = sp500.copy()"
      ],
      "execution_count": null,
      "outputs": []
    },
    {
      "cell_type": "code",
      "metadata": {
        "hidden": true,
        "id": "BRSKo86Adt7L"
      },
      "source": [
        "sp500_copy.head(3)"
      ],
      "execution_count": null,
      "outputs": []
    },
    {
      "cell_type": "markdown",
      "metadata": {
        "hidden": true,
        "id": "wKTT2sAMdt7L"
      },
      "source": [
        "- эта строка вернет новый датафрейм с удаленным столбцом 'Sector’\n",
        "- копия датафрейма не изменится"
      ]
    },
    {
      "cell_type": "code",
      "metadata": {
        "hidden": true,
        "id": "QvOvn-HIdt7M"
      },
      "source": [
        "sp500_copy_after_drop = sp500_copy.drop(['Sector'], axis = 1)\n",
        "sp500_copy_after_drop.head(3)"
      ],
      "execution_count": null,
      "outputs": []
    },
    {
      "cell_type": "code",
      "metadata": {
        "hidden": true,
        "id": "1nyMaJSmdt7M"
      },
      "source": [
        "sp500_copy.head(3)"
      ],
      "execution_count": null,
      "outputs": []
    },
    {
      "cell_type": "markdown",
      "metadata": {
        "hidden": true,
        "id": "hzSLXZEJdt7M"
      },
      "source": [
        "получаем копию первых 5 строк датафрейма data"
      ]
    },
    {
      "cell_type": "code",
      "metadata": {
        "hidden": true,
        "id": "hkuXI52Jdt7M"
      },
      "source": [
        "sp500_part_copy = sp500.iloc[:5].copy()\n",
        "sp500_part_copy"
      ],
      "execution_count": null,
      "outputs": []
    },
    {
      "cell_type": "markdown",
      "metadata": {
        "hidden": true,
        "id": "7rRnwnfkdt7M"
      },
      "source": [
        "удаляем строки с метками ABT и ACN"
      ]
    },
    {
      "cell_type": "code",
      "metadata": {
        "hidden": true,
        "id": "wXrzPl3Fdt7M"
      },
      "source": [
        "sp500_part_copy = sp500_part_copy.drop(['ABT', 'ACN'], axis=0)\n",
        "sp500_part_copy.head(5)"
      ],
      "execution_count": null,
      "outputs": []
    },
    {
      "cell_type": "markdown",
      "metadata": {
        "hidden": true,
        "id": "rAxnn_-4dt7N"
      },
      "source": [
        "Для Series применение .drop идентично"
      ]
    },
    {
      "cell_type": "markdown",
      "metadata": {
        "heading_collapsed": true,
        "id": "aIHmKIPGdt7N"
      },
      "source": [
        "### Фильтрация по условию"
      ]
    },
    {
      "cell_type": "markdown",
      "metadata": {
        "heading_collapsed": true,
        "hidden": true,
        "id": "eUCgQCWVdt7N"
      },
      "source": [
        "#### Series "
      ]
    },
    {
      "cell_type": "code",
      "metadata": {
        "hidden": true,
        "id": "3u-z-x1mdt7N"
      },
      "source": [
        "numbers"
      ],
      "execution_count": null,
      "outputs": []
    },
    {
      "cell_type": "markdown",
      "metadata": {
        "hidden": true,
        "id": "tjo2qXeUdt7N"
      },
      "source": [
        "какие строки имеют значения больше 0 и меньше 1?"
      ]
    },
    {
      "cell_type": "code",
      "metadata": {
        "hidden": true,
        "id": "zzrSH23Ldt7N"
      },
      "source": [
        "logical_results = (numbers > 0) & (numbers < 1)\n",
        "logical_results"
      ],
      "execution_count": null,
      "outputs": []
    },
    {
      "cell_type": "markdown",
      "metadata": {
        "hidden": true,
        "id": "6VUxCPAHdt7O"
      },
      "source": [
        "Скобки!!! Следующий программный код приведет к выдаче исключения\n",
        "```python\n",
        "numbers > 0 & numbers < 1 \n",
        "```"
      ]
    },
    {
      "cell_type": "markdown",
      "metadata": {
        "hidden": true,
        "id": "dPPNraKCdt7O"
      },
      "source": [
        "тип полученного результата - Series, который можно использовать для отбора интерсующих нас значений"
      ]
    },
    {
      "cell_type": "code",
      "metadata": {
        "hidden": true,
        "id": "uP-iQtKvdt7O"
      },
      "source": [
        "type(logical_results)"
      ],
      "execution_count": null,
      "outputs": []
    },
    {
      "cell_type": "markdown",
      "metadata": {
        "hidden": true,
        "id": "A6qwRy-Cdt7O"
      },
      "source": [
        "отбираем строки со значением True"
      ]
    },
    {
      "cell_type": "code",
      "metadata": {
        "hidden": true,
        "id": "mrwTxG6_dt7O"
      },
      "source": [
        "numbers[logical_results]"
      ],
      "execution_count": null,
      "outputs": []
    },
    {
      "cell_type": "markdown",
      "metadata": {
        "hidden": true,
        "id": "TNFPGq2Udt7O"
      },
      "source": [
        "использование метода .where"
      ]
    },
    {
      "cell_type": "code",
      "metadata": {
        "hidden": true,
        "id": "s_MGgsHCdt7P"
      },
      "source": [
        "numbers.where((numbers > 0) & (numbers < 1))"
      ],
      "execution_count": null,
      "outputs": []
    },
    {
      "cell_type": "code",
      "metadata": {
        "hidden": true,
        "id": "dzrzlPAadt7P"
      },
      "source": [
        "numbers.where((numbers > 0) & (numbers < 1), other = -1)"
      ],
      "execution_count": null,
      "outputs": []
    },
    {
      "cell_type": "markdown",
      "metadata": {
        "hidden": true,
        "id": "aqebwcuQdt7P"
      },
      "source": [
        "все ли элементы >= 0?"
      ]
    },
    {
      "cell_type": "code",
      "metadata": {
        "hidden": true,
        "id": "Kuiq8l9idt7P"
      },
      "source": [
        "(numbers >= 0).all()"
      ],
      "execution_count": null,
      "outputs": []
    },
    {
      "cell_type": "markdown",
      "metadata": {
        "hidden": true,
        "id": "0Q_iE_eKdt7Q"
      },
      "source": [
        "есть ли элемент < 2?"
      ]
    },
    {
      "cell_type": "code",
      "metadata": {
        "hidden": true,
        "id": "ffU1DD16dt7Q"
      },
      "source": [
        "(numbers < 2).any()"
      ],
      "execution_count": null,
      "outputs": []
    },
    {
      "cell_type": "markdown",
      "metadata": {
        "hidden": true,
        "id": "Dx1Wp8Q7dt7Q"
      },
      "source": [
        "сколько значений < 1?"
      ]
    },
    {
      "cell_type": "code",
      "metadata": {
        "hidden": true,
        "id": "4AoeLP1tdt7Q"
      },
      "source": [
        "numbers < 1"
      ],
      "execution_count": null,
      "outputs": []
    },
    {
      "cell_type": "code",
      "metadata": {
        "hidden": true,
        "id": "NcLEMd5Wdt7Q"
      },
      "source": [
        "(numbers < 1).sum()"
      ],
      "execution_count": null,
      "outputs": []
    },
    {
      "cell_type": "markdown",
      "metadata": {
        "heading_collapsed": true,
        "hidden": true,
        "id": "ougTvQnhdt7Q"
      },
      "source": [
        "#### DataFrame"
      ]
    },
    {
      "cell_type": "markdown",
      "metadata": {
        "hidden": true,
        "id": "vfDfNVNndt7W"
      },
      "source": [
        "какие строки имеют значения Price < 100?"
      ]
    },
    {
      "cell_type": "code",
      "metadata": {
        "hidden": true,
        "id": "niN9mzmzdt7W"
      },
      "source": [
        "sp500.Price < 100"
      ],
      "execution_count": null,
      "outputs": []
    },
    {
      "cell_type": "markdown",
      "metadata": {
        "hidden": true,
        "id": "xXOhK5pzdt7W"
      },
      "source": [
        "теперь получим строки, в которых Price < 100"
      ]
    },
    {
      "cell_type": "code",
      "metadata": {
        "hidden": true,
        "id": "FEIv1arGdt7W"
      },
      "source": [
        "sp500[sp500.Price < 100]"
      ],
      "execution_count": null,
      "outputs": []
    },
    {
      "cell_type": "markdown",
      "metadata": {
        "hidden": true,
        "id": "cElZAa5gdt7W"
      },
      "source": [
        "извлекаем лишь те строки, в которых значение Price < 10 и > 6"
      ]
    },
    {
      "cell_type": "code",
      "metadata": {
        "hidden": true,
        "id": "afI1MRrHdt7X"
      },
      "source": [
        "r = sp500[(sp500['Price'] < 10) & \n",
        "          (sp500.Price > 6)] ['Price']\n",
        "r"
      ],
      "execution_count": null,
      "outputs": []
    },
    {
      "cell_type": "markdown",
      "metadata": {
        "hidden": true,
        "id": "GcU3JMYXdt7X"
      },
      "source": [
        "извлекаем строки, в которых переменная Sector принимает значение Health Care, а переменная Price больше или равна 100.00"
      ]
    },
    {
      "cell_type": "code",
      "metadata": {
        "hidden": true,
        "id": "g6wxupV3dt7X"
      },
      "source": [
        "r = sp500[(sp500.Sector == 'Health Care') & \n",
        "          (sp500.Price >= 100.00)] [['Price', 'Sector']]\n",
        "r"
      ],
      "execution_count": null,
      "outputs": []
    },
    {
      "cell_type": "markdown",
      "metadata": {
        "hidden": true,
        "id": "bv2_UDKJdt7X"
      },
      "source": [
        "использование метода .isin"
      ]
    },
    {
      "cell_type": "code",
      "metadata": {
        "hidden": true,
        "id": "MMJDfJ8ndt7X"
      },
      "source": [
        "s_tmp = sp500.Sector.isin(['Information Technology', 'Financials'])\n",
        "s_tmp"
      ],
      "execution_count": null,
      "outputs": []
    },
    {
      "cell_type": "code",
      "metadata": {
        "hidden": true,
        "id": "FLUnLqWRdt7X"
      },
      "source": [
        "sp500[s_tmp].head()"
      ],
      "execution_count": null,
      "outputs": []
    },
    {
      "cell_type": "markdown",
      "metadata": {
        "hidden": true,
        "id": "v6LmudyVdt7Y"
      },
      "source": [
        "использование метода .query"
      ]
    },
    {
      "cell_type": "code",
      "metadata": {
        "hidden": true,
        "id": "h5UrgUUzdt7Y"
      },
      "source": [
        "r = sp500[(sp500.Sector == 'Health Care') & \n",
        "          (sp500.Price >= 100.00)] [['Price', 'Sector']]\n",
        "r"
      ],
      "execution_count": null,
      "outputs": []
    },
    {
      "cell_type": "code",
      "metadata": {
        "hidden": true,
        "id": "KQAJvFGxdt7Y"
      },
      "source": [
        "q = sp500.query(\"Sector=='Health Care' & Price >= 100\")[['Price', 'Sector']]\n",
        "q"
      ],
      "execution_count": null,
      "outputs": []
    },
    {
      "cell_type": "markdown",
      "metadata": {
        "heading_collapsed": true,
        "id": "ao_jfx7udt7Y"
      },
      "source": [
        "### Добавление "
      ]
    },
    {
      "cell_type": "markdown",
      "metadata": {
        "heading_collapsed": true,
        "hidden": true,
        "id": "jzzIh2Brdt7Y"
      },
      "source": [
        "#### оператор [ ] "
      ]
    },
    {
      "cell_type": "markdown",
      "metadata": {
        "hidden": true,
        "id": "4J7VM8KTdt7Z"
      },
      "source": [
        "создаем копию, чтобы исходные данные остались в неизменном виде"
      ]
    },
    {
      "cell_type": "code",
      "metadata": {
        "hidden": true,
        "id": "JUseK1q2dt7Z"
      },
      "source": [
        "sp500_copy = sp500.copy()"
      ],
      "execution_count": null,
      "outputs": []
    },
    {
      "cell_type": "markdown",
      "metadata": {
        "hidden": true,
        "id": "YPb7coSrdt7Z"
      },
      "source": [
        "добавляем столбец"
      ]
    },
    {
      "cell_type": "code",
      "metadata": {
        "hidden": true,
        "id": "f4wMfpz4dt7Z"
      },
      "source": [
        "sp500_copy['RoundedPrice'] = sp500_copy.Price.round()\n",
        "sp500_copy.head(3)"
      ],
      "execution_count": null,
      "outputs": []
    },
    {
      "cell_type": "markdown",
      "metadata": {
        "heading_collapsed": true,
        "hidden": true,
        "id": "tour6LNNdt7Z"
      },
      "source": [
        "#### метод .insert()"
      ]
    },
    {
      "cell_type": "markdown",
      "metadata": {
        "hidden": true,
        "id": "JcWBt39Adt7Z"
      },
      "source": [
        "создаем копию, чтобы исходные данные остались в неизменном виде"
      ]
    },
    {
      "cell_type": "code",
      "metadata": {
        "hidden": true,
        "id": "kOdRuEWtdt7a"
      },
      "source": [
        "sp500_copy = sp500.copy()"
      ],
      "execution_count": null,
      "outputs": []
    },
    {
      "cell_type": "markdown",
      "metadata": {
        "hidden": true,
        "id": "VHqazP80dt7a"
      },
      "source": [
        "вставляем столбец RoundedPrice в качестве третьего столбца датафрейма"
      ]
    },
    {
      "cell_type": "code",
      "metadata": {
        "hidden": true,
        "id": "3XHnRGkvdt7a"
      },
      "source": [
        "sp500_copy.insert(1, 'RoundedPrice', sp500_copy.Price.round())\n",
        "sp500_copy.head(3)"
      ],
      "execution_count": null,
      "outputs": []
    },
    {
      "cell_type": "markdown",
      "metadata": {
        "heading_collapsed": true,
        "hidden": true,
        "id": "EjlscAbxdt7a"
      },
      "source": [
        "#### метод .assign() "
      ]
    },
    {
      "cell_type": "markdown",
      "metadata": {
        "hidden": true,
        "id": "Sp-9eTM-dt7b"
      },
      "source": [
        "создаем копию, чтобы исходные данные остались в неизменном виде"
      ]
    },
    {
      "cell_type": "code",
      "metadata": {
        "hidden": true,
        "id": "mxKsqWVPdt7b"
      },
      "source": [
        "sp500_copy = sp500.copy()"
      ],
      "execution_count": null,
      "outputs": []
    },
    {
      "cell_type": "markdown",
      "metadata": {
        "hidden": true,
        "id": "WCyV5usndt7b"
      },
      "source": [
        "одновременное добавление двух столбцов:"
      ]
    },
    {
      "cell_type": "code",
      "metadata": {
        "hidden": true,
        "id": "h3ea_sbJdt7b"
      },
      "source": [
        "sp500_copy.assign(Rounded_Price=sp500_copy.Price.round(),\n",
        "                  R_BookValue_Price=lambda x: (x['Book Value'] / x['Rounded_Price']))"
      ],
      "execution_count": null,
      "outputs": []
    },
    {
      "cell_type": "markdown",
      "metadata": {
        "heading_collapsed": true,
        "id": "gTbjoH7tdt7b"
      },
      "source": [
        "### Выравнивание данных"
      ]
    },
    {
      "cell_type": "markdown",
      "metadata": {
        "heading_collapsed": true,
        "hidden": true,
        "id": "Xp8-FFgJdt7c"
      },
      "source": [
        "#### Series "
      ]
    },
    {
      "cell_type": "markdown",
      "metadata": {
        "hidden": true,
        "id": "19yJ3Jbddt7c"
      },
      "source": [
        "первая серия для примеров"
      ]
    },
    {
      "cell_type": "code",
      "metadata": {
        "hidden": true,
        "id": "SKZMyu_Hdt7c"
      },
      "source": [
        "s_1 = pd.Series(data=[77,33,11],index=['a','b','f'])\n",
        "s_1"
      ],
      "execution_count": null,
      "outputs": []
    },
    {
      "cell_type": "markdown",
      "metadata": {
        "hidden": true,
        "id": "-PaqRY10dt7c"
      },
      "source": [
        "вторая серия для примеров"
      ]
    },
    {
      "cell_type": "code",
      "metadata": {
        "hidden": true,
        "id": "A2L2ztYBdt7d"
      },
      "source": [
        "s_2 = pd.Series(data=[11,5,6],index=['c','b','a'])\n",
        "s_2"
      ],
      "execution_count": null,
      "outputs": []
    },
    {
      "cell_type": "markdown",
      "metadata": {
        "hidden": true,
        "id": "F7b4OU1qdt7d"
      },
      "source": [
        "для непересекающейся части индексов будут получены значения NaN"
      ]
    },
    {
      "cell_type": "code",
      "metadata": {
        "hidden": true,
        "id": "CoinXp5ldt7d"
      },
      "source": [
        "s_1+s_2"
      ],
      "execution_count": null,
      "outputs": []
    },
    {
      "cell_type": "markdown",
      "metadata": {
        "hidden": true,
        "id": "yYloX4Xedt7d"
      },
      "source": [
        "метки не обязательно должны быть уникальными"
      ]
    },
    {
      "cell_type": "code",
      "metadata": {
        "hidden": true,
        "id": "fEbfiP7Ldt7d"
      },
      "source": [
        "s_1 = pd.Series(data=[77, 33, 15, 3], index=['a', 'a', 'a', 'd'])\n",
        "s_1"
      ],
      "execution_count": null,
      "outputs": []
    },
    {
      "cell_type": "code",
      "metadata": {
        "hidden": true,
        "id": "oUIlFJbOdt7e"
      },
      "source": [
        "s_2 = pd.Series(data=[11, 5, 6], index=['c', 'a', 'a'])\n",
        "s_2"
      ],
      "execution_count": null,
      "outputs": []
    },
    {
      "cell_type": "markdown",
      "metadata": {
        "hidden": true,
        "id": "cvaXMa_Idt7e"
      },
      "source": [
        "3 метки 'а' и 2 метки 'а', результат 6 меток а"
      ]
    },
    {
      "cell_type": "code",
      "metadata": {
        "hidden": true,
        "id": "iSCDOtkgdt7e"
      },
      "source": [
        "s_2+s_1"
      ],
      "execution_count": null,
      "outputs": []
    },
    {
      "cell_type": "markdown",
      "metadata": {
        "heading_collapsed": true,
        "hidden": true,
        "id": "UC5A-LoDdt7e"
      },
      "source": [
        "#### DataFrame"
      ]
    },
    {
      "cell_type": "code",
      "metadata": {
        "hidden": true,
        "id": "ri9-maMrdt7f"
      },
      "source": [
        "sp500_part_1 = sp500.iloc[0:5, 0:2].copy()\n",
        "sp500_part_2 = sp500.iloc[2:7, 1:3].copy()"
      ],
      "execution_count": null,
      "outputs": []
    },
    {
      "cell_type": "code",
      "metadata": {
        "hidden": true,
        "id": "mmWVVADNdt7f"
      },
      "source": [
        "sp500_part_1"
      ],
      "execution_count": null,
      "outputs": []
    },
    {
      "cell_type": "code",
      "metadata": {
        "hidden": true,
        "id": "djkHZQNTdt7f"
      },
      "source": [
        "sp500_part_2"
      ],
      "execution_count": null,
      "outputs": []
    },
    {
      "cell_type": "code",
      "metadata": {
        "hidden": true,
        "id": "v1dVkvPUdt7f"
      },
      "source": [
        "sp500_part_1 + sp500_part_2"
      ],
      "execution_count": null,
      "outputs": []
    },
    {
      "cell_type": "markdown",
      "metadata": {
        "hidden": true,
        "id": "kDYMPh3Tdt7g"
      },
      "source": [
        "происходит выравнивание при создании датафрейма"
      ]
    },
    {
      "cell_type": "code",
      "metadata": {
        "hidden": true,
        "id": "iwIoeBKldt7g"
      },
      "source": [
        "series_1 = pd.Series([70, 90])\n",
        "series_2 = pd.Series([71, 91])\n",
        "series_3 = pd.Series([85, 87], index=[1, 2])\n",
        "df = pd.DataFrame({'col_1': series_1,\n",
        "                   'col_2': series_2,\n",
        "                   'col_3': series_3})\n",
        "df"
      ],
      "execution_count": null,
      "outputs": []
    },
    {
      "cell_type": "markdown",
      "metadata": {
        "heading_collapsed": true,
        "id": "edEcrgoNdt7g"
      },
      "source": [
        "### Сортировка"
      ]
    },
    {
      "cell_type": "markdown",
      "metadata": {
        "heading_collapsed": true,
        "hidden": true,
        "id": "0tdta6uKdt7g"
      },
      "source": [
        "#### по индексу "
      ]
    },
    {
      "cell_type": "code",
      "metadata": {
        "hidden": true,
        "id": "47hnfA91dt7g"
      },
      "source": [
        "sp500.head()"
      ],
      "execution_count": null,
      "outputs": []
    },
    {
      "cell_type": "code",
      "metadata": {
        "hidden": true,
        "id": "_-maNL-xdt7h"
      },
      "source": [
        "sp500.sort_index().head()"
      ],
      "execution_count": null,
      "outputs": []
    },
    {
      "cell_type": "code",
      "metadata": {
        "hidden": true,
        "id": "uixVRZUidt7h"
      },
      "source": [
        "sp500.sort_index(axis=1).head()"
      ],
      "execution_count": null,
      "outputs": []
    },
    {
      "cell_type": "markdown",
      "metadata": {
        "heading_collapsed": true,
        "hidden": true,
        "id": "DivDA1_odt7h"
      },
      "source": [
        "#### по значению"
      ]
    },
    {
      "cell_type": "code",
      "metadata": {
        "hidden": true,
        "id": "hMy2kWxfdt7h"
      },
      "source": [
        "sp500.sort_values(by='Price').head()"
      ],
      "execution_count": null,
      "outputs": []
    },
    {
      "cell_type": "code",
      "metadata": {
        "hidden": true,
        "id": "t0xODlhgdt7h"
      },
      "source": [
        "sp500.sort_values(by='Price', ascending=False).head()"
      ],
      "execution_count": null,
      "outputs": []
    },
    {
      "cell_type": "markdown",
      "metadata": {
        "heading_collapsed": true,
        "hidden": true,
        "id": "W36OuRKHdt7i"
      },
      "source": [
        "#### наименьшее / наибольшее значение"
      ]
    },
    {
      "cell_type": "code",
      "metadata": {
        "hidden": true,
        "id": "7qDjAjxRdt7i"
      },
      "source": [
        "sp500.nsmallest(5, 'Price')"
      ],
      "execution_count": null,
      "outputs": []
    },
    {
      "cell_type": "code",
      "metadata": {
        "hidden": true,
        "id": "OIlVUISEdt7i"
      },
      "source": [
        "sp500.nlargest(5, 'Price')"
      ],
      "execution_count": null,
      "outputs": []
    }
  ]
}