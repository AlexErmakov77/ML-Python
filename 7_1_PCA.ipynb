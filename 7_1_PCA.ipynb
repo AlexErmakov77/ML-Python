{
  "nbformat": 4,
  "nbformat_minor": 0,
  "metadata": {
    "colab": {
      "provenance": [],
      "collapsed_sections": [],
      "include_colab_link": true
    },
    "kernelspec": {
      "display_name": "Python 3",
      "language": "python",
      "name": "python3"
    },
    "language_info": {
      "codemirror_mode": {
        "name": "ipython",
        "version": 3
      },
      "file_extension": ".py",
      "mimetype": "text/x-python",
      "name": "python",
      "nbconvert_exporter": "python",
      "pygments_lexer": "ipython3",
      "version": "3.8.5"
    }
  },
  "cells": [
    {
      "cell_type": "markdown",
      "metadata": {
        "id": "view-in-github",
        "colab_type": "text"
      },
      "source": [
        "<a href=\"https://colab.research.google.com/github/AlexErmakov77/ML-Python/blob/main/7_1_PCA.ipynb\" target=\"_parent\"><img src=\"https://colab.research.google.com/assets/colab-badge.svg\" alt=\"Open In Colab\"/></a>"
      ]
    },
    {
      "cell_type": "code",
      "metadata": {
        "ExecuteTime": {
          "end_time": "2021-02-20T09:04:25.887129Z",
          "start_time": "2021-02-20T09:04:24.096021Z"
        },
        "id": "6Oz4d6jcq5Fj"
      },
      "source": [
        "import numpy as np\n",
        "import scipy as sp\n",
        "from sklearn.decomposition import PCA\n",
        "\n",
        "import seaborn as sns\n",
        "import matplotlib.pyplot as plt\n",
        "%matplotlib inline\n",
        "\n",
        "sns.set(font_scale=1.3)\n",
        "\n",
        "red = '#FF3300'\n",
        "blue = '#0099CC'\n",
        "green = '#00CC66'"
      ],
      "execution_count": null,
      "outputs": []
    },
    {
      "cell_type": "markdown",
      "metadata": {
        "id": "Mw6S16mRq5GB"
      },
      "source": [
        "# Метод главных компонент\n",
        "### (Principal component analysis, PCA)\n",
        "\n",
        "Интерактивная визуализация PCA и собственных векторов:\n",
        "\n",
        "* <a href=\"http://setosa.io/ev/principal-component-analysis/\">Principal Component Analysis</a>\n",
        "\n",
        "* <a href=\"http://setosa.io/ev/eigenvectors-and-eigenvalues/\">Eigenvectors and Eigenvalues</a>"
      ]
    },
    {
      "cell_type": "markdown",
      "metadata": {
        "id": "xcK2IlpNq5GD"
      },
      "source": [
        "## 1. SVD-разложение"
      ]
    },
    {
      "cell_type": "markdown",
      "metadata": {
        "id": "63U95Rvzq5GF"
      },
      "source": [
        "Генерируем датасет из равномерного распределения."
      ]
    },
    {
      "cell_type": "code",
      "metadata": {
        "ExecuteTime": {
          "end_time": "2021-02-20T09:04:25.907915Z",
          "start_time": "2021-02-20T09:04:25.890467Z"
        },
        "colab": {
          "base_uri": "https://localhost:8080/"
        },
        "id": "bV07mCsFq5GF",
        "outputId": "fe74548d-b84c-4dab-a102-0e3e4b1ec4a7"
      },
      "source": [
        "X = np.random.normal(size=(100, 10))\n",
        "print(X.shape)"
      ],
      "execution_count": null,
      "outputs": [
        {
          "output_type": "stream",
          "name": "stdout",
          "text": [
            "(100, 10)\n"
          ]
        }
      ]
    },
    {
      "cell_type": "code",
      "metadata": {
        "colab": {
          "base_uri": "https://localhost:8080/",
          "height": 423
        },
        "id": "S041XO5tJEp5",
        "outputId": "27a21970-f0d1-44c4-f713-29ab34462ae2"
      },
      "source": [
        "import pandas as pd\n",
        "pd.DataFrame(X)"
      ],
      "execution_count": null,
      "outputs": [
        {
          "output_type": "execute_result",
          "data": {
            "text/html": [
              "\n",
              "  <div id=\"df-6d2c999c-ba33-48d8-b0aa-91e8c0fb55f4\">\n",
              "    <div class=\"colab-df-container\">\n",
              "      <div>\n",
              "<style scoped>\n",
              "    .dataframe tbody tr th:only-of-type {\n",
              "        vertical-align: middle;\n",
              "    }\n",
              "\n",
              "    .dataframe tbody tr th {\n",
              "        vertical-align: top;\n",
              "    }\n",
              "\n",
              "    .dataframe thead th {\n",
              "        text-align: right;\n",
              "    }\n",
              "</style>\n",
              "<table border=\"1\" class=\"dataframe\">\n",
              "  <thead>\n",
              "    <tr style=\"text-align: right;\">\n",
              "      <th></th>\n",
              "      <th>0</th>\n",
              "      <th>1</th>\n",
              "      <th>2</th>\n",
              "      <th>3</th>\n",
              "      <th>4</th>\n",
              "      <th>5</th>\n",
              "      <th>6</th>\n",
              "      <th>7</th>\n",
              "      <th>8</th>\n",
              "      <th>9</th>\n",
              "    </tr>\n",
              "  </thead>\n",
              "  <tbody>\n",
              "    <tr>\n",
              "      <th>0</th>\n",
              "      <td>1.547927</td>\n",
              "      <td>-0.558388</td>\n",
              "      <td>1.467921</td>\n",
              "      <td>1.179150</td>\n",
              "      <td>1.868562</td>\n",
              "      <td>-1.796290</td>\n",
              "      <td>-0.161678</td>\n",
              "      <td>0.909683</td>\n",
              "      <td>-0.274448</td>\n",
              "      <td>-1.956684</td>\n",
              "    </tr>\n",
              "    <tr>\n",
              "      <th>1</th>\n",
              "      <td>0.942699</td>\n",
              "      <td>-0.767488</td>\n",
              "      <td>1.065405</td>\n",
              "      <td>-0.078005</td>\n",
              "      <td>1.145573</td>\n",
              "      <td>-0.167629</td>\n",
              "      <td>-0.816839</td>\n",
              "      <td>-1.495096</td>\n",
              "      <td>1.251155</td>\n",
              "      <td>0.278344</td>\n",
              "    </tr>\n",
              "    <tr>\n",
              "      <th>2</th>\n",
              "      <td>-0.213923</td>\n",
              "      <td>0.197902</td>\n",
              "      <td>0.215033</td>\n",
              "      <td>-0.707414</td>\n",
              "      <td>2.201034</td>\n",
              "      <td>0.046216</td>\n",
              "      <td>0.281905</td>\n",
              "      <td>-0.773240</td>\n",
              "      <td>0.489392</td>\n",
              "      <td>1.430301</td>\n",
              "    </tr>\n",
              "    <tr>\n",
              "      <th>3</th>\n",
              "      <td>-1.254976</td>\n",
              "      <td>1.000932</td>\n",
              "      <td>-0.832247</td>\n",
              "      <td>1.855906</td>\n",
              "      <td>-0.574096</td>\n",
              "      <td>-0.215837</td>\n",
              "      <td>-1.151302</td>\n",
              "      <td>0.403798</td>\n",
              "      <td>1.809114</td>\n",
              "      <td>0.421928</td>\n",
              "    </tr>\n",
              "    <tr>\n",
              "      <th>4</th>\n",
              "      <td>-0.169044</td>\n",
              "      <td>-0.072179</td>\n",
              "      <td>0.085675</td>\n",
              "      <td>-2.125354</td>\n",
              "      <td>-0.337402</td>\n",
              "      <td>1.510721</td>\n",
              "      <td>-1.302507</td>\n",
              "      <td>-0.052181</td>\n",
              "      <td>-0.084283</td>\n",
              "      <td>0.746003</td>\n",
              "    </tr>\n",
              "    <tr>\n",
              "      <th>...</th>\n",
              "      <td>...</td>\n",
              "      <td>...</td>\n",
              "      <td>...</td>\n",
              "      <td>...</td>\n",
              "      <td>...</td>\n",
              "      <td>...</td>\n",
              "      <td>...</td>\n",
              "      <td>...</td>\n",
              "      <td>...</td>\n",
              "      <td>...</td>\n",
              "    </tr>\n",
              "    <tr>\n",
              "      <th>95</th>\n",
              "      <td>-0.124939</td>\n",
              "      <td>0.276575</td>\n",
              "      <td>-0.176292</td>\n",
              "      <td>0.764037</td>\n",
              "      <td>0.522884</td>\n",
              "      <td>-0.783052</td>\n",
              "      <td>-0.518370</td>\n",
              "      <td>0.274107</td>\n",
              "      <td>0.291226</td>\n",
              "      <td>-0.275586</td>\n",
              "    </tr>\n",
              "    <tr>\n",
              "      <th>96</th>\n",
              "      <td>1.659421</td>\n",
              "      <td>1.054396</td>\n",
              "      <td>-0.189570</td>\n",
              "      <td>1.744410</td>\n",
              "      <td>-0.907537</td>\n",
              "      <td>-0.917657</td>\n",
              "      <td>0.089973</td>\n",
              "      <td>0.057747</td>\n",
              "      <td>-0.313159</td>\n",
              "      <td>-0.352347</td>\n",
              "    </tr>\n",
              "    <tr>\n",
              "      <th>97</th>\n",
              "      <td>0.129393</td>\n",
              "      <td>1.719923</td>\n",
              "      <td>0.808047</td>\n",
              "      <td>-0.701065</td>\n",
              "      <td>0.780095</td>\n",
              "      <td>1.987718</td>\n",
              "      <td>1.983004</td>\n",
              "      <td>0.096376</td>\n",
              "      <td>-0.116244</td>\n",
              "      <td>0.073628</td>\n",
              "    </tr>\n",
              "    <tr>\n",
              "      <th>98</th>\n",
              "      <td>0.143582</td>\n",
              "      <td>1.087926</td>\n",
              "      <td>-1.554464</td>\n",
              "      <td>0.528326</td>\n",
              "      <td>-0.323681</td>\n",
              "      <td>-0.707722</td>\n",
              "      <td>0.450560</td>\n",
              "      <td>1.055598</td>\n",
              "      <td>0.298070</td>\n",
              "      <td>-1.220625</td>\n",
              "    </tr>\n",
              "    <tr>\n",
              "      <th>99</th>\n",
              "      <td>0.566193</td>\n",
              "      <td>-0.299470</td>\n",
              "      <td>0.587172</td>\n",
              "      <td>0.447161</td>\n",
              "      <td>-1.120494</td>\n",
              "      <td>1.129269</td>\n",
              "      <td>0.131391</td>\n",
              "      <td>1.360903</td>\n",
              "      <td>-0.186992</td>\n",
              "      <td>1.273011</td>\n",
              "    </tr>\n",
              "  </tbody>\n",
              "</table>\n",
              "<p>100 rows × 10 columns</p>\n",
              "</div>\n",
              "      <button class=\"colab-df-convert\" onclick=\"convertToInteractive('df-6d2c999c-ba33-48d8-b0aa-91e8c0fb55f4')\"\n",
              "              title=\"Convert this dataframe to an interactive table.\"\n",
              "              style=\"display:none;\">\n",
              "        \n",
              "  <svg xmlns=\"http://www.w3.org/2000/svg\" height=\"24px\"viewBox=\"0 0 24 24\"\n",
              "       width=\"24px\">\n",
              "    <path d=\"M0 0h24v24H0V0z\" fill=\"none\"/>\n",
              "    <path d=\"M18.56 5.44l.94 2.06.94-2.06 2.06-.94-2.06-.94-.94-2.06-.94 2.06-2.06.94zm-11 1L8.5 8.5l.94-2.06 2.06-.94-2.06-.94L8.5 2.5l-.94 2.06-2.06.94zm10 10l.94 2.06.94-2.06 2.06-.94-2.06-.94-.94-2.06-.94 2.06-2.06.94z\"/><path d=\"M17.41 7.96l-1.37-1.37c-.4-.4-.92-.59-1.43-.59-.52 0-1.04.2-1.43.59L10.3 9.45l-7.72 7.72c-.78.78-.78 2.05 0 2.83L4 21.41c.39.39.9.59 1.41.59.51 0 1.02-.2 1.41-.59l7.78-7.78 2.81-2.81c.8-.78.8-2.07 0-2.86zM5.41 20L4 18.59l7.72-7.72 1.47 1.35L5.41 20z\"/>\n",
              "  </svg>\n",
              "      </button>\n",
              "      \n",
              "  <style>\n",
              "    .colab-df-container {\n",
              "      display:flex;\n",
              "      flex-wrap:wrap;\n",
              "      gap: 12px;\n",
              "    }\n",
              "\n",
              "    .colab-df-convert {\n",
              "      background-color: #E8F0FE;\n",
              "      border: none;\n",
              "      border-radius: 50%;\n",
              "      cursor: pointer;\n",
              "      display: none;\n",
              "      fill: #1967D2;\n",
              "      height: 32px;\n",
              "      padding: 0 0 0 0;\n",
              "      width: 32px;\n",
              "    }\n",
              "\n",
              "    .colab-df-convert:hover {\n",
              "      background-color: #E2EBFA;\n",
              "      box-shadow: 0px 1px 2px rgba(60, 64, 67, 0.3), 0px 1px 3px 1px rgba(60, 64, 67, 0.15);\n",
              "      fill: #174EA6;\n",
              "    }\n",
              "\n",
              "    [theme=dark] .colab-df-convert {\n",
              "      background-color: #3B4455;\n",
              "      fill: #D2E3FC;\n",
              "    }\n",
              "\n",
              "    [theme=dark] .colab-df-convert:hover {\n",
              "      background-color: #434B5C;\n",
              "      box-shadow: 0px 1px 3px 1px rgba(0, 0, 0, 0.15);\n",
              "      filter: drop-shadow(0px 1px 2px rgba(0, 0, 0, 0.3));\n",
              "      fill: #FFFFFF;\n",
              "    }\n",
              "  </style>\n",
              "\n",
              "      <script>\n",
              "        const buttonEl =\n",
              "          document.querySelector('#df-6d2c999c-ba33-48d8-b0aa-91e8c0fb55f4 button.colab-df-convert');\n",
              "        buttonEl.style.display =\n",
              "          google.colab.kernel.accessAllowed ? 'block' : 'none';\n",
              "\n",
              "        async function convertToInteractive(key) {\n",
              "          const element = document.querySelector('#df-6d2c999c-ba33-48d8-b0aa-91e8c0fb55f4');\n",
              "          const dataTable =\n",
              "            await google.colab.kernel.invokeFunction('convertToInteractive',\n",
              "                                                     [key], {});\n",
              "          if (!dataTable) return;\n",
              "\n",
              "          const docLinkHtml = 'Like what you see? Visit the ' +\n",
              "            '<a target=\"_blank\" href=https://colab.research.google.com/notebooks/data_table.ipynb>data table notebook</a>'\n",
              "            + ' to learn more about interactive tables.';\n",
              "          element.innerHTML = '';\n",
              "          dataTable['output_type'] = 'display_data';\n",
              "          await google.colab.output.renderOutput(dataTable, element);\n",
              "          const docLink = document.createElement('div');\n",
              "          docLink.innerHTML = docLinkHtml;\n",
              "          element.appendChild(docLink);\n",
              "        }\n",
              "      </script>\n",
              "    </div>\n",
              "  </div>\n",
              "  "
            ],
            "text/plain": [
              "           0         1         2  ...         7         8         9\n",
              "0   1.547927 -0.558388  1.467921  ...  0.909683 -0.274448 -1.956684\n",
              "1   0.942699 -0.767488  1.065405  ... -1.495096  1.251155  0.278344\n",
              "2  -0.213923  0.197902  0.215033  ... -0.773240  0.489392  1.430301\n",
              "3  -1.254976  1.000932 -0.832247  ...  0.403798  1.809114  0.421928\n",
              "4  -0.169044 -0.072179  0.085675  ... -0.052181 -0.084283  0.746003\n",
              "..       ...       ...       ...  ...       ...       ...       ...\n",
              "95 -0.124939  0.276575 -0.176292  ...  0.274107  0.291226 -0.275586\n",
              "96  1.659421  1.054396 -0.189570  ...  0.057747 -0.313159 -0.352347\n",
              "97  0.129393  1.719923  0.808047  ...  0.096376 -0.116244  0.073628\n",
              "98  0.143582  1.087926 -1.554464  ...  1.055598  0.298070 -1.220625\n",
              "99  0.566193 -0.299470  0.587172  ...  1.360903 -0.186992  1.273011\n",
              "\n",
              "[100 rows x 10 columns]"
            ]
          },
          "metadata": {},
          "execution_count": 3
        }
      ]
    },
    {
      "cell_type": "markdown",
      "metadata": {
        "id": "g7MY_AaLq5GJ"
      },
      "source": [
        "Вот так можно вычислять сингулярное разложение этого датасета."
      ]
    },
    {
      "cell_type": "code",
      "metadata": {
        "ExecuteTime": {
          "end_time": "2021-02-20T09:04:25.932560Z",
          "start_time": "2021-02-20T09:04:25.910894Z"
        },
        "colab": {
          "base_uri": "https://localhost:8080/"
        },
        "id": "6BLrmpA4q5GN",
        "outputId": "be461856-19ea-4246-e7ef-abdc20b97e22"
      },
      "source": [
        "U, D, V = sp.linalg.svd(X, full_matrices=False)  # If True (default), U and Vh are of shape (M, M), (N, N). If False, the shapes are (M, K) and (K, N), where K = min(M, N).\n",
        "print(U.shape, D.shape, V.shape)"
      ],
      "execution_count": null,
      "outputs": [
        {
          "output_type": "stream",
          "name": "stdout",
          "text": [
            "(100, 10) (10,) (10, 10)\n"
          ]
        }
      ]
    },
    {
      "cell_type": "markdown",
      "metadata": {
        "id": "NK1aE7jfrUDn"
      },
      "source": [
        "Проверим, что получилось. Восстановим датасет и сравним с исходной версией."
      ]
    },
    {
      "cell_type": "code",
      "source": [
        "D"
      ],
      "metadata": {
        "colab": {
          "base_uri": "https://localhost:8080/"
        },
        "id": "viFbWvzhZzOc",
        "outputId": "6c009168-8e99-41a4-d8df-43b142fd9dd4"
      },
      "execution_count": null,
      "outputs": [
        {
          "output_type": "execute_result",
          "data": {
            "text/plain": [
              "array([12.04296675, 11.83126763, 11.19462869, 10.38370498, 10.22799862,\n",
              "        9.99246229,  8.84257236,  8.05842439,  7.88004803,  7.06714966])"
            ]
          },
          "metadata": {},
          "execution_count": 11
        }
      ]
    },
    {
      "cell_type": "code",
      "source": [
        "np.eye(10)"
      ],
      "metadata": {
        "colab": {
          "base_uri": "https://localhost:8080/"
        },
        "id": "Jos3nHxaZwS2",
        "outputId": "0f393702-3005-4b84-884f-d936b956279c"
      },
      "execution_count": null,
      "outputs": [
        {
          "output_type": "execute_result",
          "data": {
            "text/plain": [
              "array([[1., 0., 0., 0., 0., 0., 0., 0., 0., 0.],\n",
              "       [0., 1., 0., 0., 0., 0., 0., 0., 0., 0.],\n",
              "       [0., 0., 1., 0., 0., 0., 0., 0., 0., 0.],\n",
              "       [0., 0., 0., 1., 0., 0., 0., 0., 0., 0.],\n",
              "       [0., 0., 0., 0., 1., 0., 0., 0., 0., 0.],\n",
              "       [0., 0., 0., 0., 0., 1., 0., 0., 0., 0.],\n",
              "       [0., 0., 0., 0., 0., 0., 1., 0., 0., 0.],\n",
              "       [0., 0., 0., 0., 0., 0., 0., 1., 0., 0.],\n",
              "       [0., 0., 0., 0., 0., 0., 0., 0., 1., 0.],\n",
              "       [0., 0., 0., 0., 0., 0., 0., 0., 0., 1.]])"
            ]
          },
          "metadata": {},
          "execution_count": 10
        }
      ]
    },
    {
      "cell_type": "code",
      "source": [
        "D * np.eye(10)"
      ],
      "metadata": {
        "colab": {
          "base_uri": "https://localhost:8080/"
        },
        "id": "oMrrvAODZ1cR",
        "outputId": "91dd3cdd-1195-4a0d-f722-c4bb2efc064e"
      },
      "execution_count": null,
      "outputs": [
        {
          "output_type": "execute_result",
          "data": {
            "text/plain": [
              "array([[12.04296675,  0.        ,  0.        ,  0.        ,  0.        ,\n",
              "         0.        ,  0.        ,  0.        ,  0.        ,  0.        ],\n",
              "       [ 0.        , 11.83126763,  0.        ,  0.        ,  0.        ,\n",
              "         0.        ,  0.        ,  0.        ,  0.        ,  0.        ],\n",
              "       [ 0.        ,  0.        , 11.19462869,  0.        ,  0.        ,\n",
              "         0.        ,  0.        ,  0.        ,  0.        ,  0.        ],\n",
              "       [ 0.        ,  0.        ,  0.        , 10.38370498,  0.        ,\n",
              "         0.        ,  0.        ,  0.        ,  0.        ,  0.        ],\n",
              "       [ 0.        ,  0.        ,  0.        ,  0.        , 10.22799862,\n",
              "         0.        ,  0.        ,  0.        ,  0.        ,  0.        ],\n",
              "       [ 0.        ,  0.        ,  0.        ,  0.        ,  0.        ,\n",
              "         9.99246229,  0.        ,  0.        ,  0.        ,  0.        ],\n",
              "       [ 0.        ,  0.        ,  0.        ,  0.        ,  0.        ,\n",
              "         0.        ,  8.84257236,  0.        ,  0.        ,  0.        ],\n",
              "       [ 0.        ,  0.        ,  0.        ,  0.        ,  0.        ,\n",
              "         0.        ,  0.        ,  8.05842439,  0.        ,  0.        ],\n",
              "       [ 0.        ,  0.        ,  0.        ,  0.        ,  0.        ,\n",
              "         0.        ,  0.        ,  0.        ,  7.88004803,  0.        ],\n",
              "       [ 0.        ,  0.        ,  0.        ,  0.        ,  0.        ,\n",
              "         0.        ,  0.        ,  0.        ,  0.        ,  7.06714966]])"
            ]
          },
          "metadata": {},
          "execution_count": 12
        }
      ]
    },
    {
      "cell_type": "code",
      "metadata": {
        "ExecuteTime": {
          "end_time": "2021-02-20T09:04:25.940295Z",
          "start_time": "2021-02-20T09:04:25.934210Z"
        },
        "colab": {
          "base_uri": "https://localhost:8080/"
        },
        "id": "wDVSij_OsGCf",
        "outputId": "102a1431-8669-489b-9ed7-08e09e236b77"
      },
      "source": [
        "X_restored = np.dot(U, np.dot(D * np.eye(10), V))\n",
        "print(np.allclose(X_restored, X))\n"
      ],
      "execution_count": null,
      "outputs": [
        {
          "output_type": "stream",
          "name": "stdout",
          "text": [
            "True\n"
          ]
        }
      ]
    },
    {
      "cell_type": "markdown",
      "metadata": {
        "id": "HQg-ABMreVMg"
      },
      "source": [
        "Восстановленная версия действительно очень близка к исходной."
      ]
    },
    {
      "cell_type": "markdown",
      "metadata": {
        "id": "xR03V00iq5GQ"
      },
      "source": [
        "## 2. PCA\n",
        "\n",
        "Реализация из sklearn:\n",
        "\n",
        "<a href=\"https://scikit-learn.org/stable/modules/generated/sklearn.decomposition.PCA\">`sklearn.decomposition.PCA`</a>`(n_components=None)`\n",
        "\n",
        "Методы класса:\n",
        "* `fit(X)` — обучиться на данных `X`;\n",
        "* `fit_transforn(X)` — обучиться на данных `X` и вернуть сжатое представление `X`;\n",
        "* `transform(X_new)` — вернуть сжатое представление `X_new` для обученной ранее модели;\n",
        "* `inverse_transform(Y)` — восстановить сжатые данные `Y` в исходное пространство.\n",
        "\n",
        "Атрибуты класса:\n",
        "\n",
        "* `components_` — главные компоненты в порядке убывания собственных чисел, размер (n_components, n_features);\n",
        "* `explained_variance_` — дисперсия вдоль главных компонент, равны собственным числам, размер (n_components,);\n",
        "* `explained_variance_ratio_` —- доля дисперсии, объясняемая каждой компонентой, размер (n_components,);\n",
        "* `mean_` — среднее по данным, размер (n_components,);\n",
        "* `noise_variance_` — оценка дисперсии шума для метода Probabilistic PCA.\n",
        "\n",
        "Другие модификации, реализованные в sklearn:\n",
        "\n",
        "* <a href=\"https://scikit-learn.org/stable/modules/generated/sklearn.decomposition.KernelPCA\">`KernelPCA`</a>;\n",
        "* <a href=\"https://scikit-learn.org/stable/modules/generated/sklearn.decomposition.SparsePCA\">`SparsePCA`</a>;\n",
        "* <a href=\"https://scikit-learn.org/stable/modules/generated/sklearn.decomposition.IncrementalPCA\">`IncrementalPCA`</a>."
      ]
    },
    {
      "cell_type": "markdown",
      "metadata": {
        "id": "_ijs7O0qq5GT"
      },
      "source": [
        "Генерируем двумерный датасет из нормального распределения."
      ]
    },
    {
      "cell_type": "code",
      "metadata": {
        "ExecuteTime": {
          "end_time": "2021-02-20T09:04:25.956789Z",
          "start_time": "2021-02-20T09:04:25.942439Z"
        },
        "id": "ZBBmCNaCq5GW"
      },
      "source": [
        "X = np.random.multivariate_normal(size=150, mean=[0, 3], cov=[[3, 1], [1, 1]])\n",
        "# X = np.random.multivariate_normal(size=150, mean=[0, 3, 4, 5], cov=[[3, 1, 2, 1], [1, 1, 1, 1], [3, 4, 9, 1], [3, 1, 3, 5]])"
      ],
      "execution_count": null,
      "outputs": []
    },
    {
      "cell_type": "code",
      "metadata": {
        "colab": {
          "base_uri": "https://localhost:8080/"
        },
        "id": "v9_y40xcLaF2",
        "outputId": "936e8604-1794-488a-e63f-455fc1503383"
      },
      "source": [
        "X.shape"
      ],
      "execution_count": null,
      "outputs": [
        {
          "output_type": "execute_result",
          "data": {
            "text/plain": [
              "(150, 2)"
            ]
          },
          "metadata": {},
          "execution_count": 42
        }
      ]
    },
    {
      "cell_type": "code",
      "source": [
        "pd.DataFrame(X)"
      ],
      "metadata": {
        "colab": {
          "base_uri": "https://localhost:8080/",
          "height": 423
        },
        "id": "oA2qwVgVak4C",
        "outputId": "6e90dd74-d817-40cc-a6f3-cbb4cdcd61e8"
      },
      "execution_count": null,
      "outputs": [
        {
          "output_type": "execute_result",
          "data": {
            "text/html": [
              "\n",
              "  <div id=\"df-c0120af8-4194-4cde-8dc2-bb7f3acfa796\">\n",
              "    <div class=\"colab-df-container\">\n",
              "      <div>\n",
              "<style scoped>\n",
              "    .dataframe tbody tr th:only-of-type {\n",
              "        vertical-align: middle;\n",
              "    }\n",
              "\n",
              "    .dataframe tbody tr th {\n",
              "        vertical-align: top;\n",
              "    }\n",
              "\n",
              "    .dataframe thead th {\n",
              "        text-align: right;\n",
              "    }\n",
              "</style>\n",
              "<table border=\"1\" class=\"dataframe\">\n",
              "  <thead>\n",
              "    <tr style=\"text-align: right;\">\n",
              "      <th></th>\n",
              "      <th>0</th>\n",
              "      <th>1</th>\n",
              "    </tr>\n",
              "  </thead>\n",
              "  <tbody>\n",
              "    <tr>\n",
              "      <th>0</th>\n",
              "      <td>1.535421</td>\n",
              "      <td>3.725915</td>\n",
              "    </tr>\n",
              "    <tr>\n",
              "      <th>1</th>\n",
              "      <td>1.318953</td>\n",
              "      <td>4.733106</td>\n",
              "    </tr>\n",
              "    <tr>\n",
              "      <th>2</th>\n",
              "      <td>-2.321922</td>\n",
              "      <td>4.098919</td>\n",
              "    </tr>\n",
              "    <tr>\n",
              "      <th>3</th>\n",
              "      <td>0.185736</td>\n",
              "      <td>3.906440</td>\n",
              "    </tr>\n",
              "    <tr>\n",
              "      <th>4</th>\n",
              "      <td>3.679362</td>\n",
              "      <td>4.083807</td>\n",
              "    </tr>\n",
              "    <tr>\n",
              "      <th>...</th>\n",
              "      <td>...</td>\n",
              "      <td>...</td>\n",
              "    </tr>\n",
              "    <tr>\n",
              "      <th>145</th>\n",
              "      <td>-0.605334</td>\n",
              "      <td>3.727698</td>\n",
              "    </tr>\n",
              "    <tr>\n",
              "      <th>146</th>\n",
              "      <td>-0.950844</td>\n",
              "      <td>2.353587</td>\n",
              "    </tr>\n",
              "    <tr>\n",
              "      <th>147</th>\n",
              "      <td>-0.430606</td>\n",
              "      <td>3.565085</td>\n",
              "    </tr>\n",
              "    <tr>\n",
              "      <th>148</th>\n",
              "      <td>-0.292251</td>\n",
              "      <td>2.109989</td>\n",
              "    </tr>\n",
              "    <tr>\n",
              "      <th>149</th>\n",
              "      <td>0.733135</td>\n",
              "      <td>3.339107</td>\n",
              "    </tr>\n",
              "  </tbody>\n",
              "</table>\n",
              "<p>150 rows × 2 columns</p>\n",
              "</div>\n",
              "      <button class=\"colab-df-convert\" onclick=\"convertToInteractive('df-c0120af8-4194-4cde-8dc2-bb7f3acfa796')\"\n",
              "              title=\"Convert this dataframe to an interactive table.\"\n",
              "              style=\"display:none;\">\n",
              "        \n",
              "  <svg xmlns=\"http://www.w3.org/2000/svg\" height=\"24px\"viewBox=\"0 0 24 24\"\n",
              "       width=\"24px\">\n",
              "    <path d=\"M0 0h24v24H0V0z\" fill=\"none\"/>\n",
              "    <path d=\"M18.56 5.44l.94 2.06.94-2.06 2.06-.94-2.06-.94-.94-2.06-.94 2.06-2.06.94zm-11 1L8.5 8.5l.94-2.06 2.06-.94-2.06-.94L8.5 2.5l-.94 2.06-2.06.94zm10 10l.94 2.06.94-2.06 2.06-.94-2.06-.94-.94-2.06-.94 2.06-2.06.94z\"/><path d=\"M17.41 7.96l-1.37-1.37c-.4-.4-.92-.59-1.43-.59-.52 0-1.04.2-1.43.59L10.3 9.45l-7.72 7.72c-.78.78-.78 2.05 0 2.83L4 21.41c.39.39.9.59 1.41.59.51 0 1.02-.2 1.41-.59l7.78-7.78 2.81-2.81c.8-.78.8-2.07 0-2.86zM5.41 20L4 18.59l7.72-7.72 1.47 1.35L5.41 20z\"/>\n",
              "  </svg>\n",
              "      </button>\n",
              "      \n",
              "  <style>\n",
              "    .colab-df-container {\n",
              "      display:flex;\n",
              "      flex-wrap:wrap;\n",
              "      gap: 12px;\n",
              "    }\n",
              "\n",
              "    .colab-df-convert {\n",
              "      background-color: #E8F0FE;\n",
              "      border: none;\n",
              "      border-radius: 50%;\n",
              "      cursor: pointer;\n",
              "      display: none;\n",
              "      fill: #1967D2;\n",
              "      height: 32px;\n",
              "      padding: 0 0 0 0;\n",
              "      width: 32px;\n",
              "    }\n",
              "\n",
              "    .colab-df-convert:hover {\n",
              "      background-color: #E2EBFA;\n",
              "      box-shadow: 0px 1px 2px rgba(60, 64, 67, 0.3), 0px 1px 3px 1px rgba(60, 64, 67, 0.15);\n",
              "      fill: #174EA6;\n",
              "    }\n",
              "\n",
              "    [theme=dark] .colab-df-convert {\n",
              "      background-color: #3B4455;\n",
              "      fill: #D2E3FC;\n",
              "    }\n",
              "\n",
              "    [theme=dark] .colab-df-convert:hover {\n",
              "      background-color: #434B5C;\n",
              "      box-shadow: 0px 1px 3px 1px rgba(0, 0, 0, 0.15);\n",
              "      filter: drop-shadow(0px 1px 2px rgba(0, 0, 0, 0.3));\n",
              "      fill: #FFFFFF;\n",
              "    }\n",
              "  </style>\n",
              "\n",
              "      <script>\n",
              "        const buttonEl =\n",
              "          document.querySelector('#df-c0120af8-4194-4cde-8dc2-bb7f3acfa796 button.colab-df-convert');\n",
              "        buttonEl.style.display =\n",
              "          google.colab.kernel.accessAllowed ? 'block' : 'none';\n",
              "\n",
              "        async function convertToInteractive(key) {\n",
              "          const element = document.querySelector('#df-c0120af8-4194-4cde-8dc2-bb7f3acfa796');\n",
              "          const dataTable =\n",
              "            await google.colab.kernel.invokeFunction('convertToInteractive',\n",
              "                                                     [key], {});\n",
              "          if (!dataTable) return;\n",
              "\n",
              "          const docLinkHtml = 'Like what you see? Visit the ' +\n",
              "            '<a target=\"_blank\" href=https://colab.research.google.com/notebooks/data_table.ipynb>data table notebook</a>'\n",
              "            + ' to learn more about interactive tables.';\n",
              "          element.innerHTML = '';\n",
              "          dataTable['output_type'] = 'display_data';\n",
              "          await google.colab.output.renderOutput(dataTable, element);\n",
              "          const docLink = document.createElement('div');\n",
              "          docLink.innerHTML = docLinkHtml;\n",
              "          element.appendChild(docLink);\n",
              "        }\n",
              "      </script>\n",
              "    </div>\n",
              "  </div>\n",
              "  "
            ],
            "text/plain": [
              "            0         1\n",
              "0    1.535421  3.725915\n",
              "1    1.318953  4.733106\n",
              "2   -2.321922  4.098919\n",
              "3    0.185736  3.906440\n",
              "4    3.679362  4.083807\n",
              "..        ...       ...\n",
              "145 -0.605334  3.727698\n",
              "146 -0.950844  2.353587\n",
              "147 -0.430606  3.565085\n",
              "148 -0.292251  2.109989\n",
              "149  0.733135  3.339107\n",
              "\n",
              "[150 rows x 2 columns]"
            ]
          },
          "metadata": {},
          "execution_count": 43
        }
      ]
    },
    {
      "cell_type": "code",
      "metadata": {
        "ExecuteTime": {
          "end_time": "2021-02-20T09:04:25.971396Z",
          "start_time": "2021-02-20T09:04:25.958785Z"
        },
        "id": "7jMA2XwXq5Gj"
      },
      "source": [
        "pca = PCA(n_components=1)\n",
        "# pca = PCA(n_components=2)\n",
        "Y = pca.fit_transform(X)\n",
        "X_hat = pca.inverse_transform(Y)"
      ],
      "execution_count": null,
      "outputs": []
    },
    {
      "cell_type": "code",
      "metadata": {
        "colab": {
          "base_uri": "https://localhost:8080/"
        },
        "id": "lddJLpAvLqAY",
        "outputId": "81f94b9e-8945-434a-eda3-1e261c3518ea"
      },
      "source": [
        "Y.shape"
      ],
      "execution_count": null,
      "outputs": [
        {
          "output_type": "execute_result",
          "data": {
            "text/plain": [
              "(150, 1)"
            ]
          },
          "metadata": {},
          "execution_count": 45
        }
      ]
    },
    {
      "cell_type": "code",
      "metadata": {
        "colab": {
          "base_uri": "https://localhost:8080/"
        },
        "id": "n8VUD1QhNxv_",
        "outputId": "fee4a2f1-31d2-4b55-d7b1-e3a1df8dfbbd"
      },
      "source": [
        "X_hat.shape"
      ],
      "execution_count": null,
      "outputs": [
        {
          "output_type": "execute_result",
          "data": {
            "text/plain": [
              "(150, 2)"
            ]
          },
          "metadata": {},
          "execution_count": 46
        }
      ]
    },
    {
      "cell_type": "markdown",
      "metadata": {
        "id": "Qk4T_wYwq5Gk"
      },
      "source": [
        "Его главные компоненты (точнее, одна компонента) — двумерные векторы."
      ]
    },
    {
      "cell_type": "code",
      "metadata": {
        "ExecuteTime": {
          "end_time": "2021-02-20T09:04:25.979961Z",
          "start_time": "2021-02-20T09:04:25.974470Z"
        },
        "colab": {
          "base_uri": "https://localhost:8080/"
        },
        "id": "rpBuWAIRq5Gl",
        "outputId": "4fc6e80a-047f-4b85-c80b-6fa4fea59db1"
      },
      "source": [
        "pca.components_"
      ],
      "execution_count": null,
      "outputs": [
        {
          "output_type": "execute_result",
          "data": {
            "text/plain": [
              "array([[-0.90789869, -0.41918965]])"
            ]
          },
          "metadata": {},
          "execution_count": 47
        }
      ]
    },
    {
      "cell_type": "markdown",
      "metadata": {
        "id": "iTrCnyzXq5Gm"
      },
      "source": [
        "Вектор средних:"
      ]
    },
    {
      "cell_type": "code",
      "metadata": {
        "ExecuteTime": {
          "end_time": "2021-02-20T09:04:25.992390Z",
          "start_time": "2021-02-20T09:04:25.982678Z"
        },
        "colab": {
          "base_uri": "https://localhost:8080/"
        },
        "id": "4H9RUpvjq5Gm",
        "outputId": "db2ac2c3-6a4b-488a-844d-e699cd102179"
      },
      "source": [
        "pca.mean_"
      ],
      "execution_count": null,
      "outputs": [
        {
          "output_type": "execute_result",
          "data": {
            "text/plain": [
              "array([-0.14141118,  2.93468286])"
            ]
          },
          "metadata": {},
          "execution_count": 48
        }
      ]
    },
    {
      "cell_type": "markdown",
      "metadata": {
        "id": "c3fx4Kzzq5Gn"
      },
      "source": [
        "На первом графике синим отмечены исходные точки, красным - они же после проецирования и обратного преобразования.\n",
        "На втором графике точки в одномерном пространстве."
      ]
    },
    {
      "cell_type": "code",
      "metadata": {
        "colab": {
          "base_uri": "https://localhost:8080/",
          "height": 423
        },
        "id": "487WsLGKMLbU",
        "outputId": "febd2695-8049-40cb-c34a-24fc6c92b8c1"
      },
      "source": [
        "pd.DataFrame(X)"
      ],
      "execution_count": null,
      "outputs": [
        {
          "output_type": "execute_result",
          "data": {
            "text/html": [
              "\n",
              "  <div id=\"df-f6a111c4-af7a-46f9-b42d-44ae68441047\">\n",
              "    <div class=\"colab-df-container\">\n",
              "      <div>\n",
              "<style scoped>\n",
              "    .dataframe tbody tr th:only-of-type {\n",
              "        vertical-align: middle;\n",
              "    }\n",
              "\n",
              "    .dataframe tbody tr th {\n",
              "        vertical-align: top;\n",
              "    }\n",
              "\n",
              "    .dataframe thead th {\n",
              "        text-align: right;\n",
              "    }\n",
              "</style>\n",
              "<table border=\"1\" class=\"dataframe\">\n",
              "  <thead>\n",
              "    <tr style=\"text-align: right;\">\n",
              "      <th></th>\n",
              "      <th>0</th>\n",
              "      <th>1</th>\n",
              "    </tr>\n",
              "  </thead>\n",
              "  <tbody>\n",
              "    <tr>\n",
              "      <th>0</th>\n",
              "      <td>1.535421</td>\n",
              "      <td>3.725915</td>\n",
              "    </tr>\n",
              "    <tr>\n",
              "      <th>1</th>\n",
              "      <td>1.318953</td>\n",
              "      <td>4.733106</td>\n",
              "    </tr>\n",
              "    <tr>\n",
              "      <th>2</th>\n",
              "      <td>-2.321922</td>\n",
              "      <td>4.098919</td>\n",
              "    </tr>\n",
              "    <tr>\n",
              "      <th>3</th>\n",
              "      <td>0.185736</td>\n",
              "      <td>3.906440</td>\n",
              "    </tr>\n",
              "    <tr>\n",
              "      <th>4</th>\n",
              "      <td>3.679362</td>\n",
              "      <td>4.083807</td>\n",
              "    </tr>\n",
              "    <tr>\n",
              "      <th>...</th>\n",
              "      <td>...</td>\n",
              "      <td>...</td>\n",
              "    </tr>\n",
              "    <tr>\n",
              "      <th>145</th>\n",
              "      <td>-0.605334</td>\n",
              "      <td>3.727698</td>\n",
              "    </tr>\n",
              "    <tr>\n",
              "      <th>146</th>\n",
              "      <td>-0.950844</td>\n",
              "      <td>2.353587</td>\n",
              "    </tr>\n",
              "    <tr>\n",
              "      <th>147</th>\n",
              "      <td>-0.430606</td>\n",
              "      <td>3.565085</td>\n",
              "    </tr>\n",
              "    <tr>\n",
              "      <th>148</th>\n",
              "      <td>-0.292251</td>\n",
              "      <td>2.109989</td>\n",
              "    </tr>\n",
              "    <tr>\n",
              "      <th>149</th>\n",
              "      <td>0.733135</td>\n",
              "      <td>3.339107</td>\n",
              "    </tr>\n",
              "  </tbody>\n",
              "</table>\n",
              "<p>150 rows × 2 columns</p>\n",
              "</div>\n",
              "      <button class=\"colab-df-convert\" onclick=\"convertToInteractive('df-f6a111c4-af7a-46f9-b42d-44ae68441047')\"\n",
              "              title=\"Convert this dataframe to an interactive table.\"\n",
              "              style=\"display:none;\">\n",
              "        \n",
              "  <svg xmlns=\"http://www.w3.org/2000/svg\" height=\"24px\"viewBox=\"0 0 24 24\"\n",
              "       width=\"24px\">\n",
              "    <path d=\"M0 0h24v24H0V0z\" fill=\"none\"/>\n",
              "    <path d=\"M18.56 5.44l.94 2.06.94-2.06 2.06-.94-2.06-.94-.94-2.06-.94 2.06-2.06.94zm-11 1L8.5 8.5l.94-2.06 2.06-.94-2.06-.94L8.5 2.5l-.94 2.06-2.06.94zm10 10l.94 2.06.94-2.06 2.06-.94-2.06-.94-.94-2.06-.94 2.06-2.06.94z\"/><path d=\"M17.41 7.96l-1.37-1.37c-.4-.4-.92-.59-1.43-.59-.52 0-1.04.2-1.43.59L10.3 9.45l-7.72 7.72c-.78.78-.78 2.05 0 2.83L4 21.41c.39.39.9.59 1.41.59.51 0 1.02-.2 1.41-.59l7.78-7.78 2.81-2.81c.8-.78.8-2.07 0-2.86zM5.41 20L4 18.59l7.72-7.72 1.47 1.35L5.41 20z\"/>\n",
              "  </svg>\n",
              "      </button>\n",
              "      \n",
              "  <style>\n",
              "    .colab-df-container {\n",
              "      display:flex;\n",
              "      flex-wrap:wrap;\n",
              "      gap: 12px;\n",
              "    }\n",
              "\n",
              "    .colab-df-convert {\n",
              "      background-color: #E8F0FE;\n",
              "      border: none;\n",
              "      border-radius: 50%;\n",
              "      cursor: pointer;\n",
              "      display: none;\n",
              "      fill: #1967D2;\n",
              "      height: 32px;\n",
              "      padding: 0 0 0 0;\n",
              "      width: 32px;\n",
              "    }\n",
              "\n",
              "    .colab-df-convert:hover {\n",
              "      background-color: #E2EBFA;\n",
              "      box-shadow: 0px 1px 2px rgba(60, 64, 67, 0.3), 0px 1px 3px 1px rgba(60, 64, 67, 0.15);\n",
              "      fill: #174EA6;\n",
              "    }\n",
              "\n",
              "    [theme=dark] .colab-df-convert {\n",
              "      background-color: #3B4455;\n",
              "      fill: #D2E3FC;\n",
              "    }\n",
              "\n",
              "    [theme=dark] .colab-df-convert:hover {\n",
              "      background-color: #434B5C;\n",
              "      box-shadow: 0px 1px 3px 1px rgba(0, 0, 0, 0.15);\n",
              "      filter: drop-shadow(0px 1px 2px rgba(0, 0, 0, 0.3));\n",
              "      fill: #FFFFFF;\n",
              "    }\n",
              "  </style>\n",
              "\n",
              "      <script>\n",
              "        const buttonEl =\n",
              "          document.querySelector('#df-f6a111c4-af7a-46f9-b42d-44ae68441047 button.colab-df-convert');\n",
              "        buttonEl.style.display =\n",
              "          google.colab.kernel.accessAllowed ? 'block' : 'none';\n",
              "\n",
              "        async function convertToInteractive(key) {\n",
              "          const element = document.querySelector('#df-f6a111c4-af7a-46f9-b42d-44ae68441047');\n",
              "          const dataTable =\n",
              "            await google.colab.kernel.invokeFunction('convertToInteractive',\n",
              "                                                     [key], {});\n",
              "          if (!dataTable) return;\n",
              "\n",
              "          const docLinkHtml = 'Like what you see? Visit the ' +\n",
              "            '<a target=\"_blank\" href=https://colab.research.google.com/notebooks/data_table.ipynb>data table notebook</a>'\n",
              "            + ' to learn more about interactive tables.';\n",
              "          element.innerHTML = '';\n",
              "          dataTable['output_type'] = 'display_data';\n",
              "          await google.colab.output.renderOutput(dataTable, element);\n",
              "          const docLink = document.createElement('div');\n",
              "          docLink.innerHTML = docLinkHtml;\n",
              "          element.appendChild(docLink);\n",
              "        }\n",
              "      </script>\n",
              "    </div>\n",
              "  </div>\n",
              "  "
            ],
            "text/plain": [
              "            0         1\n",
              "0    1.535421  3.725915\n",
              "1    1.318953  4.733106\n",
              "2   -2.321922  4.098919\n",
              "3    0.185736  3.906440\n",
              "4    3.679362  4.083807\n",
              "..        ...       ...\n",
              "145 -0.605334  3.727698\n",
              "146 -0.950844  2.353587\n",
              "147 -0.430606  3.565085\n",
              "148 -0.292251  2.109989\n",
              "149  0.733135  3.339107\n",
              "\n",
              "[150 rows x 2 columns]"
            ]
          },
          "metadata": {},
          "execution_count": 49
        }
      ]
    },
    {
      "cell_type": "code",
      "source": [
        "pd.DataFrame(X_hat)"
      ],
      "metadata": {
        "colab": {
          "base_uri": "https://localhost:8080/",
          "height": 423
        },
        "id": "COIaEzQQjSg7",
        "outputId": "dbaa885f-e519-41d6-db73-13a2db8b3de8"
      },
      "execution_count": null,
      "outputs": [
        {
          "output_type": "execute_result",
          "data": {
            "text/html": [
              "\n",
              "  <div id=\"df-76bd519f-5aed-4636-82cb-b54032eb49fd\">\n",
              "    <div class=\"colab-df-container\">\n",
              "      <div>\n",
              "<style scoped>\n",
              "    .dataframe tbody tr th:only-of-type {\n",
              "        vertical-align: middle;\n",
              "    }\n",
              "\n",
              "    .dataframe tbody tr th {\n",
              "        vertical-align: top;\n",
              "    }\n",
              "\n",
              "    .dataframe thead th {\n",
              "        text-align: right;\n",
              "    }\n",
              "</style>\n",
              "<table border=\"1\" class=\"dataframe\">\n",
              "  <thead>\n",
              "    <tr style=\"text-align: right;\">\n",
              "      <th></th>\n",
              "      <th>0</th>\n",
              "      <th>1</th>\n",
              "    </tr>\n",
              "  </thead>\n",
              "  <tbody>\n",
              "    <tr>\n",
              "      <th>0</th>\n",
              "      <td>1.541897</td>\n",
              "      <td>3.711890</td>\n",
              "    </tr>\n",
              "    <tr>\n",
              "      <th>1</th>\n",
              "      <td>1.746785</td>\n",
              "      <td>3.806490</td>\n",
              "    </tr>\n",
              "    <tr>\n",
              "      <th>2</th>\n",
              "      <td>-1.495676</td>\n",
              "      <td>2.309400</td>\n",
              "    </tr>\n",
              "    <tr>\n",
              "      <th>3</th>\n",
              "      <td>0.498083</td>\n",
              "      <td>3.229946</td>\n",
              "    </tr>\n",
              "    <tr>\n",
              "      <th>4</th>\n",
              "      <td>3.445311</td>\n",
              "      <td>4.590723</td>\n",
              "    </tr>\n",
              "    <tr>\n",
              "      <th>...</th>\n",
              "      <td>...</td>\n",
              "      <td>...</td>\n",
              "    </tr>\n",
              "    <tr>\n",
              "      <th>145</th>\n",
              "      <td>-0.222007</td>\n",
              "      <td>2.897471</td>\n",
              "    </tr>\n",
              "    <tr>\n",
              "      <th>146</th>\n",
              "      <td>-1.029765</td>\n",
              "      <td>2.524518</td>\n",
              "    </tr>\n",
              "    <tr>\n",
              "      <th>147</th>\n",
              "      <td>-0.139869</td>\n",
              "      <td>2.935395</td>\n",
              "    </tr>\n",
              "    <tr>\n",
              "      <th>148</th>\n",
              "      <td>-0.579609</td>\n",
              "      <td>2.732361</td>\n",
              "    </tr>\n",
              "    <tr>\n",
              "      <th>149</th>\n",
              "      <td>0.733376</td>\n",
              "      <td>3.338585</td>\n",
              "    </tr>\n",
              "  </tbody>\n",
              "</table>\n",
              "<p>150 rows × 2 columns</p>\n",
              "</div>\n",
              "      <button class=\"colab-df-convert\" onclick=\"convertToInteractive('df-76bd519f-5aed-4636-82cb-b54032eb49fd')\"\n",
              "              title=\"Convert this dataframe to an interactive table.\"\n",
              "              style=\"display:none;\">\n",
              "        \n",
              "  <svg xmlns=\"http://www.w3.org/2000/svg\" height=\"24px\"viewBox=\"0 0 24 24\"\n",
              "       width=\"24px\">\n",
              "    <path d=\"M0 0h24v24H0V0z\" fill=\"none\"/>\n",
              "    <path d=\"M18.56 5.44l.94 2.06.94-2.06 2.06-.94-2.06-.94-.94-2.06-.94 2.06-2.06.94zm-11 1L8.5 8.5l.94-2.06 2.06-.94-2.06-.94L8.5 2.5l-.94 2.06-2.06.94zm10 10l.94 2.06.94-2.06 2.06-.94-2.06-.94-.94-2.06-.94 2.06-2.06.94z\"/><path d=\"M17.41 7.96l-1.37-1.37c-.4-.4-.92-.59-1.43-.59-.52 0-1.04.2-1.43.59L10.3 9.45l-7.72 7.72c-.78.78-.78 2.05 0 2.83L4 21.41c.39.39.9.59 1.41.59.51 0 1.02-.2 1.41-.59l7.78-7.78 2.81-2.81c.8-.78.8-2.07 0-2.86zM5.41 20L4 18.59l7.72-7.72 1.47 1.35L5.41 20z\"/>\n",
              "  </svg>\n",
              "      </button>\n",
              "      \n",
              "  <style>\n",
              "    .colab-df-container {\n",
              "      display:flex;\n",
              "      flex-wrap:wrap;\n",
              "      gap: 12px;\n",
              "    }\n",
              "\n",
              "    .colab-df-convert {\n",
              "      background-color: #E8F0FE;\n",
              "      border: none;\n",
              "      border-radius: 50%;\n",
              "      cursor: pointer;\n",
              "      display: none;\n",
              "      fill: #1967D2;\n",
              "      height: 32px;\n",
              "      padding: 0 0 0 0;\n",
              "      width: 32px;\n",
              "    }\n",
              "\n",
              "    .colab-df-convert:hover {\n",
              "      background-color: #E2EBFA;\n",
              "      box-shadow: 0px 1px 2px rgba(60, 64, 67, 0.3), 0px 1px 3px 1px rgba(60, 64, 67, 0.15);\n",
              "      fill: #174EA6;\n",
              "    }\n",
              "\n",
              "    [theme=dark] .colab-df-convert {\n",
              "      background-color: #3B4455;\n",
              "      fill: #D2E3FC;\n",
              "    }\n",
              "\n",
              "    [theme=dark] .colab-df-convert:hover {\n",
              "      background-color: #434B5C;\n",
              "      box-shadow: 0px 1px 3px 1px rgba(0, 0, 0, 0.15);\n",
              "      filter: drop-shadow(0px 1px 2px rgba(0, 0, 0, 0.3));\n",
              "      fill: #FFFFFF;\n",
              "    }\n",
              "  </style>\n",
              "\n",
              "      <script>\n",
              "        const buttonEl =\n",
              "          document.querySelector('#df-76bd519f-5aed-4636-82cb-b54032eb49fd button.colab-df-convert');\n",
              "        buttonEl.style.display =\n",
              "          google.colab.kernel.accessAllowed ? 'block' : 'none';\n",
              "\n",
              "        async function convertToInteractive(key) {\n",
              "          const element = document.querySelector('#df-76bd519f-5aed-4636-82cb-b54032eb49fd');\n",
              "          const dataTable =\n",
              "            await google.colab.kernel.invokeFunction('convertToInteractive',\n",
              "                                                     [key], {});\n",
              "          if (!dataTable) return;\n",
              "\n",
              "          const docLinkHtml = 'Like what you see? Visit the ' +\n",
              "            '<a target=\"_blank\" href=https://colab.research.google.com/notebooks/data_table.ipynb>data table notebook</a>'\n",
              "            + ' to learn more about interactive tables.';\n",
              "          element.innerHTML = '';\n",
              "          dataTable['output_type'] = 'display_data';\n",
              "          await google.colab.output.renderOutput(dataTable, element);\n",
              "          const docLink = document.createElement('div');\n",
              "          docLink.innerHTML = docLinkHtml;\n",
              "          element.appendChild(docLink);\n",
              "        }\n",
              "      </script>\n",
              "    </div>\n",
              "  </div>\n",
              "  "
            ],
            "text/plain": [
              "            0         1\n",
              "0    1.541897  3.711890\n",
              "1    1.746785  3.806490\n",
              "2   -1.495676  2.309400\n",
              "3    0.498083  3.229946\n",
              "4    3.445311  4.590723\n",
              "..        ...       ...\n",
              "145 -0.222007  2.897471\n",
              "146 -1.029765  2.524518\n",
              "147 -0.139869  2.935395\n",
              "148 -0.579609  2.732361\n",
              "149  0.733376  3.338585\n",
              "\n",
              "[150 rows x 2 columns]"
            ]
          },
          "metadata": {},
          "execution_count": 50
        }
      ]
    },
    {
      "cell_type": "code",
      "metadata": {
        "ExecuteTime": {
          "end_time": "2021-02-20T09:04:26.615570Z",
          "start_time": "2021-02-20T09:04:25.995070Z"
        },
        "colab": {
          "base_uri": "https://localhost:8080/",
          "height": 569
        },
        "id": "Ej-Sg_VJq5Go",
        "outputId": "1601756b-cd51-4e83-8665-248ba8df7356"
      },
      "source": [
        "plt.figure(figsize=(12, 7))\n",
        "plt.scatter(X[:, 0], X[:, 1], alpha=0.7, color=blue)\n",
        "plt.scatter(X_hat[:, 0], X_hat[:, 1], color=red, alpha=0.7)\n",
        "plt.xlabel('Исходный признак 1')\n",
        "plt.ylabel('Исходный признак 2')\n",
        "plt.axis('equal')\n",
        "plt.show()\n",
        "\n",
        "plt.figure(figsize=(10, 1))\n",
        "plt.scatter(Y, np.zeros(len(Y)), alpha=0.5, color=red)\n",
        "plt.xlabel('Проекция на первую главную компоненту')\n",
        "plt.show()"
      ],
      "execution_count": null,
      "outputs": [
        {
          "output_type": "display_data",
          "data": {
            "image/png": "[encoded data removed]",
            "text/plain": [
              "<Figure size 864x504 with 1 Axes>"
            ]
          },
          "metadata": {
            "needs_background": "light"
          }
        },
        {
          "output_type": "display_data",
          "data": {
            "image/png": "[encoded data removed]",
            "text/plain": [
              "<Figure size 720x72 with 1 Axes>"
            ]
          },
          "metadata": {
            "needs_background": "light"
          }
        }
      ]
    },
    {
      "cell_type": "markdown",
      "metadata": {
        "id": "khZlPOdYq5HB"
      },
      "source": [
        "# Другие методы снижения размерности\n",
        "\n",
        "http://scikit-learn.org/stable/modules/manifold.html#manifold\n",
        "\n",
        "Примеры:\n",
        "\n",
        "http://scikit-learn.org/stable/auto_examples/manifold/plot_compare_methods.html#sphx-glr-auto-examples-manifold-plot-compare-methods-py\n",
        "\n",
        "http://scikit-learn.org/stable/auto_examples/manifold/plot_manifold_sphere.html#sphx-glr-auto-examples-manifold-plot-manifold-sphere-py"
      ]
    }
  ]
}